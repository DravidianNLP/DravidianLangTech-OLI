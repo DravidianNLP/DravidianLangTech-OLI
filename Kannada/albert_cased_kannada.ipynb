{
  "nbformat": 4,
  "nbformat_minor": 0,
  "metadata": {
    "colab": {
      "name": "albert_cased_kannada.ipynb",
      "provenance": [],
      "collapsed_sections": []
    },
    "kernelspec": {
      "name": "python3",
      "display_name": "Python 3"
    },
    "accelerator": "GPU"
  },
  "cells": [
    {
      "cell_type": "code",
      "metadata": {
        "colab": {
          "base_uri": "https://localhost:8080/"
        },
        "id": "HRADUMUb4iUR",
        "outputId": "b75e5b70-8315-4892-8359-11c39a1bfe58"
      },
      "source": [
        "import torch\r\n",
        "import time\r\n",
        "import torch.nn as nn\r\n",
        "import torch.optim as optim\r\n",
        "from torch.utils.data import Dataset,DataLoader\r\n",
        "import pandas as pd\r\n",
        "import numpy as np\r\n",
        "!pip install transformers\r\n",
        "from transformers import AutoModel, AutoTokenizer\r\n",
        "from torch import cuda\r\n",
        "device = 'cuda' if torch.cuda.is_available() else 'cpu'"
      ],
      "execution_count": 1,
      "outputs": [
        {
          "output_type": "stream",
          "text": [
            "Collecting transformers\n",
            "\u001b[?25l  Downloading https://files.pythonhosted.org/packages/88/b1/41130a228dd656a1a31ba281598a968320283f48d42782845f6ba567f00b/transformers-4.2.2-py3-none-any.whl (1.8MB)\n",
            "\r\u001b[K     |▏                               | 10kB 26.1MB/s eta 0:00:01\r\u001b[K     |▍                               | 20kB 19.2MB/s eta 0:00:01\r\u001b[K     |▋                               | 30kB 15.1MB/s eta 0:00:01\r\u001b[K     |▊                               | 40kB 13.5MB/s eta 0:00:01\r\u001b[K     |█                               | 51kB 9.0MB/s eta 0:00:01\r\u001b[K     |█▏                              | 61kB 9.6MB/s eta 0:00:01\r\u001b[K     |█▎                              | 71kB 9.4MB/s eta 0:00:01\r\u001b[K     |█▌                              | 81kB 10.5MB/s eta 0:00:01\r\u001b[K     |█▊                              | 92kB 10.1MB/s eta 0:00:01\r\u001b[K     |█▉                              | 102kB 8.7MB/s eta 0:00:01\r\u001b[K     |██                              | 112kB 8.7MB/s eta 0:00:01\r\u001b[K     |██▎                             | 122kB 8.7MB/s eta 0:00:01\r\u001b[K     |██▍                             | 133kB 8.7MB/s eta 0:00:01\r\u001b[K     |██▋                             | 143kB 8.7MB/s eta 0:00:01\r\u001b[K     |██▉                             | 153kB 8.7MB/s eta 0:00:01\r\u001b[K     |███                             | 163kB 8.7MB/s eta 0:00:01\r\u001b[K     |███▏                            | 174kB 8.7MB/s eta 0:00:01\r\u001b[K     |███▍                            | 184kB 8.7MB/s eta 0:00:01\r\u001b[K     |███▌                            | 194kB 8.7MB/s eta 0:00:01\r\u001b[K     |███▊                            | 204kB 8.7MB/s eta 0:00:01\r\u001b[K     |████                            | 215kB 8.7MB/s eta 0:00:01\r\u001b[K     |████                            | 225kB 8.7MB/s eta 0:00:01\r\u001b[K     |████▎                           | 235kB 8.7MB/s eta 0:00:01\r\u001b[K     |████▌                           | 245kB 8.7MB/s eta 0:00:01\r\u001b[K     |████▋                           | 256kB 8.7MB/s eta 0:00:01\r\u001b[K     |████▉                           | 266kB 8.7MB/s eta 0:00:01\r\u001b[K     |█████                           | 276kB 8.7MB/s eta 0:00:01\r\u001b[K     |█████▏                          | 286kB 8.7MB/s eta 0:00:01\r\u001b[K     |█████▍                          | 296kB 8.7MB/s eta 0:00:01\r\u001b[K     |█████▋                          | 307kB 8.7MB/s eta 0:00:01\r\u001b[K     |█████▊                          | 317kB 8.7MB/s eta 0:00:01\r\u001b[K     |██████                          | 327kB 8.7MB/s eta 0:00:01\r\u001b[K     |██████▏                         | 337kB 8.7MB/s eta 0:00:01\r\u001b[K     |██████▎                         | 348kB 8.7MB/s eta 0:00:01\r\u001b[K     |██████▌                         | 358kB 8.7MB/s eta 0:00:01\r\u001b[K     |██████▊                         | 368kB 8.7MB/s eta 0:00:01\r\u001b[K     |██████▉                         | 378kB 8.7MB/s eta 0:00:01\r\u001b[K     |███████                         | 389kB 8.7MB/s eta 0:00:01\r\u001b[K     |███████▎                        | 399kB 8.7MB/s eta 0:00:01\r\u001b[K     |███████▍                        | 409kB 8.7MB/s eta 0:00:01\r\u001b[K     |███████▋                        | 419kB 8.7MB/s eta 0:00:01\r\u001b[K     |███████▉                        | 430kB 8.7MB/s eta 0:00:01\r\u001b[K     |████████                        | 440kB 8.7MB/s eta 0:00:01\r\u001b[K     |████████▏                       | 450kB 8.7MB/s eta 0:00:01\r\u001b[K     |████████▍                       | 460kB 8.7MB/s eta 0:00:01\r\u001b[K     |████████▌                       | 471kB 8.7MB/s eta 0:00:01\r\u001b[K     |████████▊                       | 481kB 8.7MB/s eta 0:00:01\r\u001b[K     |█████████                       | 491kB 8.7MB/s eta 0:00:01\r\u001b[K     |█████████                       | 501kB 8.7MB/s eta 0:00:01\r\u001b[K     |█████████▎                      | 512kB 8.7MB/s eta 0:00:01\r\u001b[K     |█████████▌                      | 522kB 8.7MB/s eta 0:00:01\r\u001b[K     |█████████▋                      | 532kB 8.7MB/s eta 0:00:01\r\u001b[K     |█████████▉                      | 542kB 8.7MB/s eta 0:00:01\r\u001b[K     |██████████                      | 552kB 8.7MB/s eta 0:00:01\r\u001b[K     |██████████▏                     | 563kB 8.7MB/s eta 0:00:01\r\u001b[K     |██████████▍                     | 573kB 8.7MB/s eta 0:00:01\r\u001b[K     |██████████▋                     | 583kB 8.7MB/s eta 0:00:01\r\u001b[K     |██████████▊                     | 593kB 8.7MB/s eta 0:00:01\r\u001b[K     |███████████                     | 604kB 8.7MB/s eta 0:00:01\r\u001b[K     |███████████▏                    | 614kB 8.7MB/s eta 0:00:01\r\u001b[K     |███████████▎                    | 624kB 8.7MB/s eta 0:00:01\r\u001b[K     |███████████▌                    | 634kB 8.7MB/s eta 0:00:01\r\u001b[K     |███████████▊                    | 645kB 8.7MB/s eta 0:00:01\r\u001b[K     |███████████▉                    | 655kB 8.7MB/s eta 0:00:01\r\u001b[K     |████████████                    | 665kB 8.7MB/s eta 0:00:01\r\u001b[K     |████████████▎                   | 675kB 8.7MB/s eta 0:00:01\r\u001b[K     |████████████▍                   | 686kB 8.7MB/s eta 0:00:01\r\u001b[K     |████████████▋                   | 696kB 8.7MB/s eta 0:00:01\r\u001b[K     |████████████▉                   | 706kB 8.7MB/s eta 0:00:01\r\u001b[K     |█████████████                   | 716kB 8.7MB/s eta 0:00:01\r\u001b[K     |█████████████▏                  | 727kB 8.7MB/s eta 0:00:01\r\u001b[K     |█████████████▍                  | 737kB 8.7MB/s eta 0:00:01\r\u001b[K     |█████████████▌                  | 747kB 8.7MB/s eta 0:00:01\r\u001b[K     |█████████████▊                  | 757kB 8.7MB/s eta 0:00:01\r\u001b[K     |██████████████                  | 768kB 8.7MB/s eta 0:00:01\r\u001b[K     |██████████████                  | 778kB 8.7MB/s eta 0:00:01\r\u001b[K     |██████████████▎                 | 788kB 8.7MB/s eta 0:00:01\r\u001b[K     |██████████████▌                 | 798kB 8.7MB/s eta 0:00:01\r\u001b[K     |██████████████▋                 | 808kB 8.7MB/s eta 0:00:01\r\u001b[K     |██████████████▉                 | 819kB 8.7MB/s eta 0:00:01\r\u001b[K     |███████████████                 | 829kB 8.7MB/s eta 0:00:01\r\u001b[K     |███████████████▏                | 839kB 8.7MB/s eta 0:00:01\r\u001b[K     |███████████████▍                | 849kB 8.7MB/s eta 0:00:01\r\u001b[K     |███████████████▋                | 860kB 8.7MB/s eta 0:00:01\r\u001b[K     |███████████████▊                | 870kB 8.7MB/s eta 0:00:01\r\u001b[K     |████████████████                | 880kB 8.7MB/s eta 0:00:01\r\u001b[K     |████████████████▏               | 890kB 8.7MB/s eta 0:00:01\r\u001b[K     |████████████████▎               | 901kB 8.7MB/s eta 0:00:01\r\u001b[K     |████████████████▌               | 911kB 8.7MB/s eta 0:00:01\r\u001b[K     |████████████████▊               | 921kB 8.7MB/s eta 0:00:01\r\u001b[K     |████████████████▉               | 931kB 8.7MB/s eta 0:00:01\r\u001b[K     |█████████████████               | 942kB 8.7MB/s eta 0:00:01\r\u001b[K     |█████████████████▎              | 952kB 8.7MB/s eta 0:00:01\r\u001b[K     |█████████████████▍              | 962kB 8.7MB/s eta 0:00:01\r\u001b[K     |█████████████████▋              | 972kB 8.7MB/s eta 0:00:01\r\u001b[K     |█████████████████▉              | 983kB 8.7MB/s eta 0:00:01\r\u001b[K     |██████████████████              | 993kB 8.7MB/s eta 0:00:01\r\u001b[K     |██████████████████▏             | 1.0MB 8.7MB/s eta 0:00:01\r\u001b[K     |██████████████████▍             | 1.0MB 8.7MB/s eta 0:00:01\r\u001b[K     |██████████████████▌             | 1.0MB 8.7MB/s eta 0:00:01\r\u001b[K     |██████████████████▊             | 1.0MB 8.7MB/s eta 0:00:01\r\u001b[K     |███████████████████             | 1.0MB 8.7MB/s eta 0:00:01\r\u001b[K     |███████████████████             | 1.1MB 8.7MB/s eta 0:00:01\r\u001b[K     |███████████████████▎            | 1.1MB 8.7MB/s eta 0:00:01\r\u001b[K     |███████████████████▌            | 1.1MB 8.7MB/s eta 0:00:01\r\u001b[K     |███████████████████▋            | 1.1MB 8.7MB/s eta 0:00:01\r\u001b[K     |███████████████████▉            | 1.1MB 8.7MB/s eta 0:00:01\r\u001b[K     |████████████████████            | 1.1MB 8.7MB/s eta 0:00:01\r\u001b[K     |████████████████████▏           | 1.1MB 8.7MB/s eta 0:00:01\r\u001b[K     |████████████████████▍           | 1.1MB 8.7MB/s eta 0:00:01\r\u001b[K     |████████████████████▋           | 1.1MB 8.7MB/s eta 0:00:01\r\u001b[K     |████████████████████▊           | 1.1MB 8.7MB/s eta 0:00:01\r\u001b[K     |█████████████████████           | 1.2MB 8.7MB/s eta 0:00:01\r\u001b[K     |█████████████████████▏          | 1.2MB 8.7MB/s eta 0:00:01\r\u001b[K     |█████████████████████▎          | 1.2MB 8.7MB/s eta 0:00:01\r\u001b[K     |█████████████████████▌          | 1.2MB 8.7MB/s eta 0:00:01\r\u001b[K     |█████████████████████▊          | 1.2MB 8.7MB/s eta 0:00:01\r\u001b[K     |█████████████████████▉          | 1.2MB 8.7MB/s eta 0:00:01\r\u001b[K     |██████████████████████          | 1.2MB 8.7MB/s eta 0:00:01\r\u001b[K     |██████████████████████▎         | 1.2MB 8.7MB/s eta 0:00:01\r\u001b[K     |██████████████████████▍         | 1.2MB 8.7MB/s eta 0:00:01\r\u001b[K     |██████████████████████▋         | 1.2MB 8.7MB/s eta 0:00:01\r\u001b[K     |██████████████████████▉         | 1.3MB 8.7MB/s eta 0:00:01\r\u001b[K     |███████████████████████         | 1.3MB 8.7MB/s eta 0:00:01\r\u001b[K     |███████████████████████▏        | 1.3MB 8.7MB/s eta 0:00:01\r\u001b[K     |███████████████████████▍        | 1.3MB 8.7MB/s eta 0:00:01\r\u001b[K     |███████████████████████▌        | 1.3MB 8.7MB/s eta 0:00:01\r\u001b[K     |███████████████████████▊        | 1.3MB 8.7MB/s eta 0:00:01\r\u001b[K     |████████████████████████        | 1.3MB 8.7MB/s eta 0:00:01\r\u001b[K     |████████████████████████        | 1.3MB 8.7MB/s eta 0:00:01\r\u001b[K     |████████████████████████▎       | 1.3MB 8.7MB/s eta 0:00:01\r\u001b[K     |████████████████████████▌       | 1.4MB 8.7MB/s eta 0:00:01\r\u001b[K     |████████████████████████▊       | 1.4MB 8.7MB/s eta 0:00:01\r\u001b[K     |████████████████████████▉       | 1.4MB 8.7MB/s eta 0:00:01\r\u001b[K     |█████████████████████████       | 1.4MB 8.7MB/s eta 0:00:01\r\u001b[K     |█████████████████████████▎      | 1.4MB 8.7MB/s eta 0:00:01\r\u001b[K     |█████████████████████████▍      | 1.4MB 8.7MB/s eta 0:00:01\r\u001b[K     |█████████████████████████▋      | 1.4MB 8.7MB/s eta 0:00:01\r\u001b[K     |█████████████████████████▉      | 1.4MB 8.7MB/s eta 0:00:01\r\u001b[K     |██████████████████████████      | 1.4MB 8.7MB/s eta 0:00:01\r\u001b[K     |██████████████████████████▏     | 1.4MB 8.7MB/s eta 0:00:01\r\u001b[K     |██████████████████████████▍     | 1.5MB 8.7MB/s eta 0:00:01\r\u001b[K     |██████████████████████████▌     | 1.5MB 8.7MB/s eta 0:00:01\r\u001b[K     |██████████████████████████▊     | 1.5MB 8.7MB/s eta 0:00:01\r\u001b[K     |███████████████████████████     | 1.5MB 8.7MB/s eta 0:00:01\r\u001b[K     |███████████████████████████     | 1.5MB 8.7MB/s eta 0:00:01\r\u001b[K     |███████████████████████████▎    | 1.5MB 8.7MB/s eta 0:00:01\r\u001b[K     |███████████████████████████▌    | 1.5MB 8.7MB/s eta 0:00:01\r\u001b[K     |███████████████████████████▋    | 1.5MB 8.7MB/s eta 0:00:01\r\u001b[K     |███████████████████████████▉    | 1.5MB 8.7MB/s eta 0:00:01\r\u001b[K     |████████████████████████████    | 1.5MB 8.7MB/s eta 0:00:01\r\u001b[K     |████████████████████████████▏   | 1.6MB 8.7MB/s eta 0:00:01\r\u001b[K     |████████████████████████████▍   | 1.6MB 8.7MB/s eta 0:00:01\r\u001b[K     |████████████████████████████▋   | 1.6MB 8.7MB/s eta 0:00:01\r\u001b[K     |████████████████████████████▊   | 1.6MB 8.7MB/s eta 0:00:01\r\u001b[K     |█████████████████████████████   | 1.6MB 8.7MB/s eta 0:00:01\r\u001b[K     |█████████████████████████████▏  | 1.6MB 8.7MB/s eta 0:00:01\r\u001b[K     |█████████████████████████████▎  | 1.6MB 8.7MB/s eta 0:00:01\r\u001b[K     |█████████████████████████████▌  | 1.6MB 8.7MB/s eta 0:00:01\r\u001b[K     |█████████████████████████████▊  | 1.6MB 8.7MB/s eta 0:00:01\r\u001b[K     |█████████████████████████████▉  | 1.6MB 8.7MB/s eta 0:00:01\r\u001b[K     |██████████████████████████████  | 1.7MB 8.7MB/s eta 0:00:01\r\u001b[K     |██████████████████████████████▎ | 1.7MB 8.7MB/s eta 0:00:01\r\u001b[K     |██████████████████████████████▍ | 1.7MB 8.7MB/s eta 0:00:01\r\u001b[K     |██████████████████████████████▋ | 1.7MB 8.7MB/s eta 0:00:01\r\u001b[K     |██████████████████████████████▉ | 1.7MB 8.7MB/s eta 0:00:01\r\u001b[K     |███████████████████████████████ | 1.7MB 8.7MB/s eta 0:00:01\r\u001b[K     |███████████████████████████████▏| 1.7MB 8.7MB/s eta 0:00:01\r\u001b[K     |███████████████████████████████▍| 1.7MB 8.7MB/s eta 0:00:01\r\u001b[K     |███████████████████████████████▌| 1.7MB 8.7MB/s eta 0:00:01\r\u001b[K     |███████████████████████████████▊| 1.8MB 8.7MB/s eta 0:00:01\r\u001b[K     |████████████████████████████████| 1.8MB 8.7MB/s eta 0:00:01\r\u001b[K     |████████████████████████████████| 1.8MB 8.7MB/s \n",
            "\u001b[?25hRequirement already satisfied: packaging in /usr/local/lib/python3.6/dist-packages (from transformers) (20.8)\n",
            "Requirement already satisfied: tqdm>=4.27 in /usr/local/lib/python3.6/dist-packages (from transformers) (4.41.1)\n",
            "Requirement already satisfied: regex!=2019.12.17 in /usr/local/lib/python3.6/dist-packages (from transformers) (2019.12.20)\n",
            "Requirement already satisfied: dataclasses; python_version < \"3.7\" in /usr/local/lib/python3.6/dist-packages (from transformers) (0.8)\n",
            "Requirement already satisfied: importlib-metadata; python_version < \"3.8\" in /usr/local/lib/python3.6/dist-packages (from transformers) (3.3.0)\n",
            "Collecting tokenizers==0.9.4\n",
            "\u001b[?25l  Downloading https://files.pythonhosted.org/packages/0f/1c/e789a8b12e28be5bc1ce2156cf87cb522b379be9cadc7ad8091a4cc107c4/tokenizers-0.9.4-cp36-cp36m-manylinux2010_x86_64.whl (2.9MB)\n",
            "\u001b[K     |████████████████████████████████| 2.9MB 38.0MB/s \n",
            "\u001b[?25hRequirement already satisfied: requests in /usr/local/lib/python3.6/dist-packages (from transformers) (2.23.0)\n",
            "Requirement already satisfied: numpy in /usr/local/lib/python3.6/dist-packages (from transformers) (1.19.5)\n",
            "Collecting sacremoses\n",
            "\u001b[?25l  Downloading https://files.pythonhosted.org/packages/7d/34/09d19aff26edcc8eb2a01bed8e98f13a1537005d31e95233fd48216eed10/sacremoses-0.0.43.tar.gz (883kB)\n",
            "\u001b[K     |████████████████████████████████| 890kB 45.6MB/s \n",
            "\u001b[?25hRequirement already satisfied: filelock in /usr/local/lib/python3.6/dist-packages (from transformers) (3.0.12)\n",
            "Requirement already satisfied: pyparsing>=2.0.2 in /usr/local/lib/python3.6/dist-packages (from packaging->transformers) (2.4.7)\n",
            "Requirement already satisfied: zipp>=0.5 in /usr/local/lib/python3.6/dist-packages (from importlib-metadata; python_version < \"3.8\"->transformers) (3.4.0)\n",
            "Requirement already satisfied: typing-extensions>=3.6.4; python_version < \"3.8\" in /usr/local/lib/python3.6/dist-packages (from importlib-metadata; python_version < \"3.8\"->transformers) (3.7.4.3)\n",
            "Requirement already satisfied: urllib3!=1.25.0,!=1.25.1,<1.26,>=1.21.1 in /usr/local/lib/python3.6/dist-packages (from requests->transformers) (1.24.3)\n",
            "Requirement already satisfied: idna<3,>=2.5 in /usr/local/lib/python3.6/dist-packages (from requests->transformers) (2.10)\n",
            "Requirement already satisfied: certifi>=2017.4.17 in /usr/local/lib/python3.6/dist-packages (from requests->transformers) (2020.12.5)\n",
            "Requirement already satisfied: chardet<4,>=3.0.2 in /usr/local/lib/python3.6/dist-packages (from requests->transformers) (3.0.4)\n",
            "Requirement already satisfied: six in /usr/local/lib/python3.6/dist-packages (from sacremoses->transformers) (1.15.0)\n",
            "Requirement already satisfied: click in /usr/local/lib/python3.6/dist-packages (from sacremoses->transformers) (7.1.2)\n",
            "Requirement already satisfied: joblib in /usr/local/lib/python3.6/dist-packages (from sacremoses->transformers) (1.0.0)\n",
            "Building wheels for collected packages: sacremoses\n",
            "  Building wheel for sacremoses (setup.py) ... \u001b[?25l\u001b[?25hdone\n",
            "  Created wheel for sacremoses: filename=sacremoses-0.0.43-cp36-none-any.whl size=893261 sha256=4303c3057d76e7779c3366e5c8530b4c335eb2bbf40653de3e61f0af36cdf04c\n",
            "  Stored in directory: /root/.cache/pip/wheels/29/3c/fd/7ce5c3f0666dab31a50123635e6fb5e19ceb42ce38d4e58f45\n",
            "Successfully built sacremoses\n",
            "Installing collected packages: tokenizers, sacremoses, transformers\n",
            "Successfully installed sacremoses-0.0.43 tokenizers-0.9.4 transformers-4.2.2\n"
          ],
          "name": "stdout"
        }
      ]
    },
    {
      "cell_type": "code",
      "metadata": {
        "colab": {
          "base_uri": "https://localhost:8080/"
        },
        "id": "KOTWhUE343Ae",
        "outputId": "1eb513d0-893c-4b0f-ced0-71a0d9d92a1b"
      },
      "source": [
        "from google.colab import drive\r\n",
        "drive.mount('/content/drive')"
      ],
      "execution_count": 2,
      "outputs": [
        {
          "output_type": "stream",
          "text": [
            "Mounted at /content/drive\n"
          ],
          "name": "stdout"
        }
      ]
    },
    {
      "cell_type": "code",
      "metadata": {
        "colab": {
          "base_uri": "https://localhost:8080/",
          "height": 331
        },
        "id": "7mYnjmTr485O",
        "outputId": "fe0fd65e-bbac-4b30-cf9d-e8915d052355"
      },
      "source": [
        "train = pd.read_csv('/content/drive/MyDrive/Colab Notebooks/mal_full_offensive_train.csv', delimiter='\\t', names=['text','label','nan'])\r\n",
        "train = train.drop(columns=['nan'])\r\n",
        "# train['label'].value_counts()\r\n",
        "# train.label = train.label.apply({'Not_offensive':0,'Offensive_Untargetede':1,'Offensive_Targeted_Insult_Group':2,'Offensive_Targeted_Insult_Individual':3,'not-malayalam':4}.get)\r\n",
        "train.head(9)"
      ],
      "execution_count": 56,
      "outputs": [
        {
          "output_type": "execute_result",
          "data": {
            "text/html": [
              "<div>\n",
              "<style scoped>\n",
              "    .dataframe tbody tr th:only-of-type {\n",
              "        vertical-align: middle;\n",
              "    }\n",
              "\n",
              "    .dataframe tbody tr th {\n",
              "        vertical-align: top;\n",
              "    }\n",
              "\n",
              "    .dataframe thead th {\n",
              "        text-align: right;\n",
              "    }\n",
              "</style>\n",
              "<table border=\"1\" class=\"dataframe\">\n",
              "  <thead>\n",
              "    <tr style=\"text-align: right;\">\n",
              "      <th></th>\n",
              "      <th>text</th>\n",
              "      <th>label</th>\n",
              "    </tr>\n",
              "  </thead>\n",
              "  <tbody>\n",
              "    <tr>\n",
              "      <th>0</th>\n",
              "      <td>പലദേശം. പല ഭാഷ ഒരേ ഒരു രാജാവ്  അല്ലാതെ  സ്വന്ത...</td>\n",
              "      <td>Not_offensive</td>\n",
              "    </tr>\n",
              "    <tr>\n",
              "      <th>1</th>\n",
              "      <td>ഈ ഓണം ഏട്ടനും പിള്ളേർക്ക് ഉള്ളതാണ് എന്ന് ഉള്ളവ...</td>\n",
              "      <td>Not_offensive</td>\n",
              "    </tr>\n",
              "    <tr>\n",
              "      <th>2</th>\n",
              "      <td>ആരണ്ട ആരണ്ട തലുണ്ടാകാണാ ആരണ്ട ഞാൻ ആണ്ട ഞാൻ ആണ്...</td>\n",
              "      <td>Not_offensive</td>\n",
              "    </tr>\n",
              "    <tr>\n",
              "      <th>3</th>\n",
              "      <td>Sushin syam  Shaiju khalid  Midhun manual</td>\n",
              "      <td>Not_offensive</td>\n",
              "    </tr>\n",
              "    <tr>\n",
              "      <th>4</th>\n",
              "      <td>J A K E S.   B EJ O Y !!!</td>\n",
              "      <td>Not_offensive</td>\n",
              "    </tr>\n",
              "    <tr>\n",
              "      <th>5</th>\n",
              "      <td>Pwoli item padam kananda ennu karuthiyatha pak...</td>\n",
              "      <td>Not_offensive</td>\n",
              "    </tr>\n",
              "    <tr>\n",
              "      <th>6</th>\n",
              "      <td>Oru ratchasan feel kittitu ullalo. Bgm athra a...</td>\n",
              "      <td>Not_offensive</td>\n",
              "    </tr>\n",
              "    <tr>\n",
              "      <th>7</th>\n",
              "      <td>Super casting</td>\n",
              "      <td>Not_offensive</td>\n",
              "    </tr>\n",
              "    <tr>\n",
              "      <th>8</th>\n",
              "      <td>ഷൈലോക്ക് ന്റെ നല്ല ടീസർ ആയിട്ട് പോലും ട്രോളി ന...</td>\n",
              "      <td>Not_offensive</td>\n",
              "    </tr>\n",
              "  </tbody>\n",
              "</table>\n",
              "</div>"
            ],
            "text/plain": [
              "                                                text          label\n",
              "0  പലദേശം. പല ഭാഷ ഒരേ ഒരു രാജാവ്  അല്ലാതെ  സ്വന്ത...  Not_offensive\n",
              "1  ഈ ഓണം ഏട്ടനും പിള്ളേർക്ക് ഉള്ളതാണ് എന്ന് ഉള്ളവ...  Not_offensive\n",
              "2  ആരണ്ട ആരണ്ട തലുണ്ടാകാണാ ആരണ്ട ഞാൻ ആണ്ട ഞാൻ ആണ്...  Not_offensive\n",
              "3          Sushin syam  Shaiju khalid  Midhun manual  Not_offensive\n",
              "4                          J A K E S.   B EJ O Y !!!  Not_offensive\n",
              "5  Pwoli item padam kananda ennu karuthiyatha pak...  Not_offensive\n",
              "6  Oru ratchasan feel kittitu ullalo. Bgm athra a...  Not_offensive\n",
              "7                                      Super casting  Not_offensive\n",
              "8  ഷൈലോക്ക് ന്റെ നല്ല ടീസർ ആയിട്ട് പോലും ട്രോളി ന...  Not_offensive"
            ]
          },
          "metadata": {
            "tags": []
          },
          "execution_count": 56
        }
      ]
    },
    {
      "cell_type": "code",
      "metadata": {
        "colab": {
          "base_uri": "https://localhost:8080/",
          "height": 331
        },
        "id": "vgaaIEpS5lTV",
        "outputId": "b4ad5519-55f8-4b2c-8a23-38e030eca34d"
      },
      "source": [
        "train.label = train.label.apply({'Not_offensive':0,'Offensive_Untargetede':1,'Offensive_Targeted_Insult_Group':2,'Offensive_Targeted_Insult_Individual':3,'not-malayalam':4}.get)\r\n",
        "train.head(9)"
      ],
      "execution_count": 57,
      "outputs": [
        {
          "output_type": "execute_result",
          "data": {
            "text/html": [
              "<div>\n",
              "<style scoped>\n",
              "    .dataframe tbody tr th:only-of-type {\n",
              "        vertical-align: middle;\n",
              "    }\n",
              "\n",
              "    .dataframe tbody tr th {\n",
              "        vertical-align: top;\n",
              "    }\n",
              "\n",
              "    .dataframe thead th {\n",
              "        text-align: right;\n",
              "    }\n",
              "</style>\n",
              "<table border=\"1\" class=\"dataframe\">\n",
              "  <thead>\n",
              "    <tr style=\"text-align: right;\">\n",
              "      <th></th>\n",
              "      <th>text</th>\n",
              "      <th>label</th>\n",
              "    </tr>\n",
              "  </thead>\n",
              "  <tbody>\n",
              "    <tr>\n",
              "      <th>0</th>\n",
              "      <td>പലദേശം. പല ഭാഷ ഒരേ ഒരു രാജാവ്  അല്ലാതെ  സ്വന്ത...</td>\n",
              "      <td>0</td>\n",
              "    </tr>\n",
              "    <tr>\n",
              "      <th>1</th>\n",
              "      <td>ഈ ഓണം ഏട്ടനും പിള്ളേർക്ക് ഉള്ളതാണ് എന്ന് ഉള്ളവ...</td>\n",
              "      <td>0</td>\n",
              "    </tr>\n",
              "    <tr>\n",
              "      <th>2</th>\n",
              "      <td>ആരണ്ട ആരണ്ട തലുണ്ടാകാണാ ആരണ്ട ഞാൻ ആണ്ട ഞാൻ ആണ്...</td>\n",
              "      <td>0</td>\n",
              "    </tr>\n",
              "    <tr>\n",
              "      <th>3</th>\n",
              "      <td>Sushin syam  Shaiju khalid  Midhun manual</td>\n",
              "      <td>0</td>\n",
              "    </tr>\n",
              "    <tr>\n",
              "      <th>4</th>\n",
              "      <td>J A K E S.   B EJ O Y !!!</td>\n",
              "      <td>0</td>\n",
              "    </tr>\n",
              "    <tr>\n",
              "      <th>5</th>\n",
              "      <td>Pwoli item padam kananda ennu karuthiyatha pak...</td>\n",
              "      <td>0</td>\n",
              "    </tr>\n",
              "    <tr>\n",
              "      <th>6</th>\n",
              "      <td>Oru ratchasan feel kittitu ullalo. Bgm athra a...</td>\n",
              "      <td>0</td>\n",
              "    </tr>\n",
              "    <tr>\n",
              "      <th>7</th>\n",
              "      <td>Super casting</td>\n",
              "      <td>0</td>\n",
              "    </tr>\n",
              "    <tr>\n",
              "      <th>8</th>\n",
              "      <td>ഷൈലോക്ക് ന്റെ നല്ല ടീസർ ആയിട്ട് പോലും ട്രോളി ന...</td>\n",
              "      <td>0</td>\n",
              "    </tr>\n",
              "  </tbody>\n",
              "</table>\n",
              "</div>"
            ],
            "text/plain": [
              "                                                text  label\n",
              "0  പലദേശം. പല ഭാഷ ഒരേ ഒരു രാജാവ്  അല്ലാതെ  സ്വന്ത...      0\n",
              "1  ഈ ഓണം ഏട്ടനും പിള്ളേർക്ക് ഉള്ളതാണ് എന്ന് ഉള്ളവ...      0\n",
              "2  ആരണ്ട ആരണ്ട തലുണ്ടാകാണാ ആരണ്ട ഞാൻ ആണ്ട ഞാൻ ആണ്...      0\n",
              "3          Sushin syam  Shaiju khalid  Midhun manual      0\n",
              "4                          J A K E S.   B EJ O Y !!!      0\n",
              "5  Pwoli item padam kananda ennu karuthiyatha pak...      0\n",
              "6  Oru ratchasan feel kittitu ullalo. Bgm athra a...      0\n",
              "7                                      Super casting      0\n",
              "8  ഷൈലോക്ക് ന്റെ നല്ല ടീസർ ആയിട്ട് പോലും ട്രോളി ന...      0"
            ]
          },
          "metadata": {
            "tags": []
          },
          "execution_count": 57
        }
      ]
    },
    {
      "cell_type": "code",
      "metadata": {
        "colab": {
          "base_uri": "https://localhost:8080/",
          "height": 331
        },
        "id": "LOKQqPcE5W2j",
        "outputId": "9c315a68-bdfd-46d2-88e8-2cafff460ff1"
      },
      "source": [
        "val = pd.read_csv('/content/drive/MyDrive/Colab Notebooks/mal_full_offensive_dev.csv', delimiter='\\t', names=['text','label','nan'])\r\n",
        "val = val.drop(columns=['nan'])\r\n",
        "val.head(9)"
      ],
      "execution_count": 58,
      "outputs": [
        {
          "output_type": "execute_result",
          "data": {
            "text/html": [
              "<div>\n",
              "<style scoped>\n",
              "    .dataframe tbody tr th:only-of-type {\n",
              "        vertical-align: middle;\n",
              "    }\n",
              "\n",
              "    .dataframe tbody tr th {\n",
              "        vertical-align: top;\n",
              "    }\n",
              "\n",
              "    .dataframe thead th {\n",
              "        text-align: right;\n",
              "    }\n",
              "</style>\n",
              "<table border=\"1\" class=\"dataframe\">\n",
              "  <thead>\n",
              "    <tr style=\"text-align: right;\">\n",
              "      <th></th>\n",
              "      <th>text</th>\n",
              "      <th>label</th>\n",
              "    </tr>\n",
              "  </thead>\n",
              "  <tbody>\n",
              "    <tr>\n",
              "      <th>0</th>\n",
              "      <td>Gopichettante BGM um mammookayum ishtapedunnav...</td>\n",
              "      <td>Not_offensive</td>\n",
              "    </tr>\n",
              "    <tr>\n",
              "      <th>1</th>\n",
              "      <td>ഇത് ഒരു പെണ്ണ് തന്നെ ആണോ direct ചെയ്യുന്നത്  p...</td>\n",
              "      <td>Not_offensive</td>\n",
              "    </tr>\n",
              "    <tr>\n",
              "      <th>2</th>\n",
              "      <td>പൃഥ്വിരാജ് സുരാജേട്ടൻ ലാലും അലക്സ്.. Lal jr. ന...</td>\n",
              "      <td>Not_offensive</td>\n",
              "    </tr>\n",
              "    <tr>\n",
              "      <th>3</th>\n",
              "      <td>പോകരുത് മക്കളെ പോക്ക .......... നൻ കണ്ട് എന്റ്...</td>\n",
              "      <td>Not_offensive</td>\n",
              "    </tr>\n",
              "    <tr>\n",
              "      <th>4</th>\n",
              "      <td>avan Varum ente Makan Madhura Raja....</td>\n",
              "      <td>Not_offensive</td>\n",
              "    </tr>\n",
              "    <tr>\n",
              "      <th>5</th>\n",
              "      <td>you guys dub in kannada we are kannadigas alwa...</td>\n",
              "      <td>not-malayalam</td>\n",
              "    </tr>\n",
              "    <tr>\n",
              "      <th>6</th>\n",
              "      <td>Oru nalla cinema kkaayi kathirikkkunnu.    Dha...</td>\n",
              "      <td>Not_offensive</td>\n",
              "    </tr>\n",
              "    <tr>\n",
              "      <th>7</th>\n",
              "      <td>Nine film arkum venda</td>\n",
              "      <td>Not_offensive</td>\n",
              "    </tr>\n",
              "    <tr>\n",
              "      <th>8</th>\n",
              "      <td>ഭവനേ. കൊലേ കാട്ടിലേ ഇരിക്ക് കൊല്ലാമ വിടമാട്ടെ ...</td>\n",
              "      <td>Not_offensive</td>\n",
              "    </tr>\n",
              "  </tbody>\n",
              "</table>\n",
              "</div>"
            ],
            "text/plain": [
              "                                                text          label\n",
              "0  Gopichettante BGM um mammookayum ishtapedunnav...  Not_offensive\n",
              "1  ഇത് ഒരു പെണ്ണ് തന്നെ ആണോ direct ചെയ്യുന്നത്  p...  Not_offensive\n",
              "2  പൃഥ്വിരാജ് സുരാജേട്ടൻ ലാലും അലക്സ്.. Lal jr. ന...  Not_offensive\n",
              "3  പോകരുത് മക്കളെ പോക്ക .......... നൻ കണ്ട് എന്റ്...  Not_offensive\n",
              "4             avan Varum ente Makan Madhura Raja....  Not_offensive\n",
              "5  you guys dub in kannada we are kannadigas alwa...  not-malayalam\n",
              "6  Oru nalla cinema kkaayi kathirikkkunnu.    Dha...  Not_offensive\n",
              "7                              Nine film arkum venda  Not_offensive\n",
              "8  ഭവനേ. കൊലേ കാട്ടിലേ ഇരിക്ക് കൊല്ലാമ വിടമാട്ടെ ...  Not_offensive"
            ]
          },
          "metadata": {
            "tags": []
          },
          "execution_count": 58
        }
      ]
    },
    {
      "cell_type": "code",
      "metadata": {
        "colab": {
          "base_uri": "https://localhost:8080/",
          "height": 331
        },
        "id": "rD-PQUwJ5zBK",
        "outputId": "6fa473f8-d4db-44cb-fcfa-2d1b408ef4d9"
      },
      "source": [
        "val.label = val.label.apply({'Not_offensive':0,'Offensive_Untargetede':1,'Offensive_Targeted_Insult_Group':2,'Offensive_Targeted_Insult_Individual':3,'not-malayalam':4}.get)\r\n",
        "val.head(9)"
      ],
      "execution_count": 59,
      "outputs": [
        {
          "output_type": "execute_result",
          "data": {
            "text/html": [
              "<div>\n",
              "<style scoped>\n",
              "    .dataframe tbody tr th:only-of-type {\n",
              "        vertical-align: middle;\n",
              "    }\n",
              "\n",
              "    .dataframe tbody tr th {\n",
              "        vertical-align: top;\n",
              "    }\n",
              "\n",
              "    .dataframe thead th {\n",
              "        text-align: right;\n",
              "    }\n",
              "</style>\n",
              "<table border=\"1\" class=\"dataframe\">\n",
              "  <thead>\n",
              "    <tr style=\"text-align: right;\">\n",
              "      <th></th>\n",
              "      <th>text</th>\n",
              "      <th>label</th>\n",
              "    </tr>\n",
              "  </thead>\n",
              "  <tbody>\n",
              "    <tr>\n",
              "      <th>0</th>\n",
              "      <td>Gopichettante BGM um mammookayum ishtapedunnav...</td>\n",
              "      <td>0</td>\n",
              "    </tr>\n",
              "    <tr>\n",
              "      <th>1</th>\n",
              "      <td>ഇത് ഒരു പെണ്ണ് തന്നെ ആണോ direct ചെയ്യുന്നത്  p...</td>\n",
              "      <td>0</td>\n",
              "    </tr>\n",
              "    <tr>\n",
              "      <th>2</th>\n",
              "      <td>പൃഥ്വിരാജ് സുരാജേട്ടൻ ലാലും അലക്സ്.. Lal jr. ന...</td>\n",
              "      <td>0</td>\n",
              "    </tr>\n",
              "    <tr>\n",
              "      <th>3</th>\n",
              "      <td>പോകരുത് മക്കളെ പോക്ക .......... നൻ കണ്ട് എന്റ്...</td>\n",
              "      <td>0</td>\n",
              "    </tr>\n",
              "    <tr>\n",
              "      <th>4</th>\n",
              "      <td>avan Varum ente Makan Madhura Raja....</td>\n",
              "      <td>0</td>\n",
              "    </tr>\n",
              "    <tr>\n",
              "      <th>5</th>\n",
              "      <td>you guys dub in kannada we are kannadigas alwa...</td>\n",
              "      <td>4</td>\n",
              "    </tr>\n",
              "    <tr>\n",
              "      <th>6</th>\n",
              "      <td>Oru nalla cinema kkaayi kathirikkkunnu.    Dha...</td>\n",
              "      <td>0</td>\n",
              "    </tr>\n",
              "    <tr>\n",
              "      <th>7</th>\n",
              "      <td>Nine film arkum venda</td>\n",
              "      <td>0</td>\n",
              "    </tr>\n",
              "    <tr>\n",
              "      <th>8</th>\n",
              "      <td>ഭവനേ. കൊലേ കാട്ടിലേ ഇരിക്ക് കൊല്ലാമ വിടമാട്ടെ ...</td>\n",
              "      <td>0</td>\n",
              "    </tr>\n",
              "  </tbody>\n",
              "</table>\n",
              "</div>"
            ],
            "text/plain": [
              "                                                text  label\n",
              "0  Gopichettante BGM um mammookayum ishtapedunnav...      0\n",
              "1  ഇത് ഒരു പെണ്ണ് തന്നെ ആണോ direct ചെയ്യുന്നത്  p...      0\n",
              "2  പൃഥ്വിരാജ് സുരാജേട്ടൻ ലാലും അലക്സ്.. Lal jr. ന...      0\n",
              "3  പോകരുത് മക്കളെ പോക്ക .......... നൻ കണ്ട് എന്റ്...      0\n",
              "4             avan Varum ente Makan Madhura Raja....      0\n",
              "5  you guys dub in kannada we are kannadigas alwa...      4\n",
              "6  Oru nalla cinema kkaayi kathirikkkunnu.    Dha...      0\n",
              "7                              Nine film arkum venda      0\n",
              "8  ഭവനേ. കൊലേ കാട്ടിലേ ഇരിക്ക് കൊല്ലാമ വിടമാട്ടെ ...      0"
            ]
          },
          "metadata": {
            "tags": []
          },
          "execution_count": 59
        }
      ]
    },
    {
      "cell_type": "code",
      "metadata": {
        "colab": {
          "base_uri": "https://localhost:8080/",
          "height": 331
        },
        "id": "uuoBImSt54M9",
        "outputId": "890a78a9-cfba-46d8-d963-c7d1262e841f"
      },
      "source": [
        "test = pd.read_csv('/content/drive/MyDrive/test_labels/mal_full_offensive_test_with_labels.csv', delimiter='\\t', names=['text','label','nan'])\r\n",
        "test = test.drop(columns=['nan'])\r\n",
        "test.head(9)"
      ],
      "execution_count": 60,
      "outputs": [
        {
          "output_type": "execute_result",
          "data": {
            "text/html": [
              "<div>\n",
              "<style scoped>\n",
              "    .dataframe tbody tr th:only-of-type {\n",
              "        vertical-align: middle;\n",
              "    }\n",
              "\n",
              "    .dataframe tbody tr th {\n",
              "        vertical-align: top;\n",
              "    }\n",
              "\n",
              "    .dataframe thead th {\n",
              "        text-align: right;\n",
              "    }\n",
              "</style>\n",
              "<table border=\"1\" class=\"dataframe\">\n",
              "  <thead>\n",
              "    <tr style=\"text-align: right;\">\n",
              "      <th></th>\n",
              "      <th>text</th>\n",
              "      <th>label</th>\n",
              "    </tr>\n",
              "  </thead>\n",
              "  <tbody>\n",
              "    <tr>\n",
              "      <th>0</th>\n",
              "      <td>അപ്പൊ ഇതൊരൊന്നൊരാ മൊതലാണല്ലേ  Suraj ആണ് നടൻ ന്...</td>\n",
              "      <td>Not_offensive</td>\n",
              "    </tr>\n",
              "    <tr>\n",
              "      <th>1</th>\n",
              "      <td>എന്ത് ഊള എഡിറ്റിംഗ് ആടോ ഇത് ഒരുമാതിരി vivo vid...</td>\n",
              "      <td>Not_offensive</td>\n",
              "    </tr>\n",
              "    <tr>\n",
              "      <th>2</th>\n",
              "      <td>Fefka ee padam release cheyyan samadhicho?</td>\n",
              "      <td>Not_offensive</td>\n",
              "    </tr>\n",
              "    <tr>\n",
              "      <th>3</th>\n",
              "      <td>അആഹാ.. സംഗീതം ജെക്‌സ് ബിജോയ് ആണ് അപ്പൊ പൊട്ടലു...</td>\n",
              "      <td>Not_offensive</td>\n",
              "    </tr>\n",
              "    <tr>\n",
              "      <th>4</th>\n",
              "      <td>Ravile thane views likes ethra ayyi enn nokan ...</td>\n",
              "      <td>Not_offensive</td>\n",
              "    </tr>\n",
              "    <tr>\n",
              "      <th>5</th>\n",
              "      <td>2.10- joju ചേട്ടന്റെ ആ ഇരുത്തം കണ്ടിട്ട് കിരീട...</td>\n",
              "      <td>Not_offensive</td>\n",
              "    </tr>\n",
              "    <tr>\n",
              "      <th>6</th>\n",
              "      <td>Engane aada uvve 32K dislikes okke vanne? namm...</td>\n",
              "      <td>Not_offensive</td>\n",
              "    </tr>\n",
              "    <tr>\n",
              "      <th>7</th>\n",
              "      <td>പടം കാണാത്തവരുണ്ടങ്കിൽ ഇന്ന് തന്നെ പോയി കണ്ടോ ...</td>\n",
              "      <td>Not_offensive</td>\n",
              "    </tr>\n",
              "    <tr>\n",
              "      <th>8</th>\n",
              "      <td>Enta joju etta ningalithe ende bhavichaa</td>\n",
              "      <td>Not_offensive</td>\n",
              "    </tr>\n",
              "  </tbody>\n",
              "</table>\n",
              "</div>"
            ],
            "text/plain": [
              "                                                text          label\n",
              "0  അപ്പൊ ഇതൊരൊന്നൊരാ മൊതലാണല്ലേ  Suraj ആണ് നടൻ ന്...  Not_offensive\n",
              "1  എന്ത് ഊള എഡിറ്റിംഗ് ആടോ ഇത് ഒരുമാതിരി vivo vid...  Not_offensive\n",
              "2         Fefka ee padam release cheyyan samadhicho?  Not_offensive\n",
              "3  അആഹാ.. സംഗീതം ജെക്‌സ് ബിജോയ് ആണ് അപ്പൊ പൊട്ടലു...  Not_offensive\n",
              "4  Ravile thane views likes ethra ayyi enn nokan ...  Not_offensive\n",
              "5  2.10- joju ചേട്ടന്റെ ആ ഇരുത്തം കണ്ടിട്ട് കിരീട...  Not_offensive\n",
              "6  Engane aada uvve 32K dislikes okke vanne? namm...  Not_offensive\n",
              "7  പടം കാണാത്തവരുണ്ടങ്കിൽ ഇന്ന് തന്നെ പോയി കണ്ടോ ...  Not_offensive\n",
              "8           Enta joju etta ningalithe ende bhavichaa  Not_offensive"
            ]
          },
          "metadata": {
            "tags": []
          },
          "execution_count": 60
        }
      ]
    },
    {
      "cell_type": "code",
      "metadata": {
        "colab": {
          "base_uri": "https://localhost:8080/",
          "height": 331
        },
        "id": "Ez1sDybzduwE",
        "outputId": "7a4cfbbe-72e7-4d23-9693-e1868e13fb9d"
      },
      "source": [
        "test.label = test.label.apply({'Not_offensive':0,'Offensive_Untargetede':1,'Offensive_Targeted_Insult_Group':2,'Offensive_Targeted_Insult_Individual':3,'not-malayalam':4}.get)\r\n",
        "test.head(9)"
      ],
      "execution_count": 61,
      "outputs": [
        {
          "output_type": "execute_result",
          "data": {
            "text/html": [
              "<div>\n",
              "<style scoped>\n",
              "    .dataframe tbody tr th:only-of-type {\n",
              "        vertical-align: middle;\n",
              "    }\n",
              "\n",
              "    .dataframe tbody tr th {\n",
              "        vertical-align: top;\n",
              "    }\n",
              "\n",
              "    .dataframe thead th {\n",
              "        text-align: right;\n",
              "    }\n",
              "</style>\n",
              "<table border=\"1\" class=\"dataframe\">\n",
              "  <thead>\n",
              "    <tr style=\"text-align: right;\">\n",
              "      <th></th>\n",
              "      <th>text</th>\n",
              "      <th>label</th>\n",
              "    </tr>\n",
              "  </thead>\n",
              "  <tbody>\n",
              "    <tr>\n",
              "      <th>0</th>\n",
              "      <td>അപ്പൊ ഇതൊരൊന്നൊരാ മൊതലാണല്ലേ  Suraj ആണ് നടൻ ന്...</td>\n",
              "      <td>0</td>\n",
              "    </tr>\n",
              "    <tr>\n",
              "      <th>1</th>\n",
              "      <td>എന്ത് ഊള എഡിറ്റിംഗ് ആടോ ഇത് ഒരുമാതിരി vivo vid...</td>\n",
              "      <td>0</td>\n",
              "    </tr>\n",
              "    <tr>\n",
              "      <th>2</th>\n",
              "      <td>Fefka ee padam release cheyyan samadhicho?</td>\n",
              "      <td>0</td>\n",
              "    </tr>\n",
              "    <tr>\n",
              "      <th>3</th>\n",
              "      <td>അആഹാ.. സംഗീതം ജെക്‌സ് ബിജോയ് ആണ് അപ്പൊ പൊട്ടലു...</td>\n",
              "      <td>0</td>\n",
              "    </tr>\n",
              "    <tr>\n",
              "      <th>4</th>\n",
              "      <td>Ravile thane views likes ethra ayyi enn nokan ...</td>\n",
              "      <td>0</td>\n",
              "    </tr>\n",
              "    <tr>\n",
              "      <th>5</th>\n",
              "      <td>2.10- joju ചേട്ടന്റെ ആ ഇരുത്തം കണ്ടിട്ട് കിരീട...</td>\n",
              "      <td>0</td>\n",
              "    </tr>\n",
              "    <tr>\n",
              "      <th>6</th>\n",
              "      <td>Engane aada uvve 32K dislikes okke vanne? namm...</td>\n",
              "      <td>0</td>\n",
              "    </tr>\n",
              "    <tr>\n",
              "      <th>7</th>\n",
              "      <td>പടം കാണാത്തവരുണ്ടങ്കിൽ ഇന്ന് തന്നെ പോയി കണ്ടോ ...</td>\n",
              "      <td>0</td>\n",
              "    </tr>\n",
              "    <tr>\n",
              "      <th>8</th>\n",
              "      <td>Enta joju etta ningalithe ende bhavichaa</td>\n",
              "      <td>0</td>\n",
              "    </tr>\n",
              "  </tbody>\n",
              "</table>\n",
              "</div>"
            ],
            "text/plain": [
              "                                                text  label\n",
              "0  അപ്പൊ ഇതൊരൊന്നൊരാ മൊതലാണല്ലേ  Suraj ആണ് നടൻ ന്...      0\n",
              "1  എന്ത് ഊള എഡിറ്റിംഗ് ആടോ ഇത് ഒരുമാതിരി vivo vid...      0\n",
              "2         Fefka ee padam release cheyyan samadhicho?      0\n",
              "3  അആഹാ.. സംഗീതം ജെക്‌സ് ബിജോയ് ആണ് അപ്പൊ പൊട്ടലു...      0\n",
              "4  Ravile thane views likes ethra ayyi enn nokan ...      0\n",
              "5  2.10- joju ചേട്ടന്റെ ആ ഇരുത്തം കണ്ടിട്ട് കിരീട...      0\n",
              "6  Engane aada uvve 32K dislikes okke vanne? namm...      0\n",
              "7  പടം കാണാത്തവരുണ്ടങ്കിൽ ഇന്ന് തന്നെ പോയി കണ്ടോ ...      0\n",
              "8           Enta joju etta ningalithe ende bhavichaa      0"
            ]
          },
          "metadata": {
            "tags": []
          },
          "execution_count": 61
        }
      ]
    },
    {
      "cell_type": "code",
      "metadata": {
        "id": "XxRWgYgt6OlH"
      },
      "source": [
        "import re\r\n",
        "def clean(df):\r\n",
        "    df['text'] = df['text'].apply(lambda x: x.lower())\r\n",
        "    df['text'] = df['text'].apply(lambda x: re.sub(r' +', ' ',x))\r\n",
        "    df['text'] = df['text'].apply(lambda x: re.sub(\"[!@#$+%*:()'-]\", ' ',x))\r\n",
        "    df['text'] = df['text'].str.replace('\\d+', '')\r\n",
        "\r\n",
        "clean(train)\r\n",
        "clean(val)\r\n",
        "clean(test)"
      ],
      "execution_count": 62,
      "outputs": []
    },
    {
      "cell_type": "code",
      "metadata": {
        "id": "OBgPd5gd6dfk"
      },
      "source": [
        "import pandas as pd\r\n",
        "from torch.utils.data import Dataset,DataLoader\r\n",
        "\r\n",
        "class RFDataset(Dataset):\r\n",
        "  def __init__(self,text,label,tokenizer,max_len):\r\n",
        "    self.text = text\r\n",
        "    self.label = label\r\n",
        "    self.tokenizer = tokenizer\r\n",
        "    self.max_len = max_len\r\n",
        "  \r\n",
        "  def __len__(self):\r\n",
        "    return len(self.text)\r\n",
        "  \r\n",
        "  def __getitem__(self,item):\r\n",
        "    text = str(self.text[item])\r\n",
        "    label = self.label[item]\r\n",
        "\r\n",
        "    encoding = self.tokenizer.encode_plus(\r\n",
        "        text,\r\n",
        "        add_special_tokens=True,\r\n",
        "        max_length = self.max_len,\r\n",
        "        return_token_type_ids = False,\r\n",
        "        padding = 'max_length',\r\n",
        "        return_attention_mask= True,\r\n",
        "        return_tensors='pt',\r\n",
        "        truncation=True\r\n",
        "    )\r\n",
        "\r\n",
        "    return {\r\n",
        "        'text' : text,\r\n",
        "        'input_ids' : encoding['input_ids'].flatten(),\r\n",
        "        'attention_mask' : encoding['attention_mask'].flatten(),\r\n",
        "        'label' : torch.tensor(label,dtype=torch.long)\r\n",
        "\r\n",
        "    }"
      ],
      "execution_count": 63,
      "outputs": []
    },
    {
      "cell_type": "code",
      "metadata": {
        "colab": {
          "base_uri": "https://localhost:8080/"
        },
        "id": "pMktTZ6_6hJD",
        "outputId": "6c351842-4b68-41ca-cfd0-05e23c8693a6"
      },
      "source": [
        "print('Training set size:',train.shape)\r\n",
        "print('Testing set size:',test.shape)\r\n",
        "print('validation set size:',val.shape)"
      ],
      "execution_count": 64,
      "outputs": [
        {
          "output_type": "stream",
          "text": [
            "Training set size: (16010, 2)\n",
            "Testing set size: (2001, 2)\n",
            "validation set size: (1999, 2)\n"
          ],
          "name": "stdout"
        }
      ]
    },
    {
      "cell_type": "code",
      "metadata": {
        "id": "nbTsj5mJ6kVW"
      },
      "source": [
        "def create_data_loader(df,tokenizer,max_len,batch_size,shuffle):\r\n",
        "  ds = RFDataset(\r\n",
        "      text = df.text.to_numpy(),\r\n",
        "      label = df.label.to_numpy(),\r\n",
        "      tokenizer = tokenizer,\r\n",
        "      max_len = max_len\r\n",
        "  )\r\n",
        "\r\n",
        "  return DataLoader(ds,\r\n",
        "                    batch_size = batch_size,\r\n",
        "                    shuffle = shuffle,\r\n",
        "                    num_workers=4)"
      ],
      "execution_count": 65,
      "outputs": []
    },
    {
      "cell_type": "code",
      "metadata": {
        "id": "5Cef5tnX6pC2"
      },
      "source": [
        "PRE_TRAINED_MODEL_NAME = 'albert-base-v2'\r\n",
        "tokenizer = AutoTokenizer.from_pretrained(PRE_TRAINED_MODEL_NAME,return_dict=False)"
      ],
      "execution_count": 66,
      "outputs": []
    },
    {
      "cell_type": "code",
      "metadata": {
        "id": "xxlzHnmn6zD7"
      },
      "source": [
        "BATCH_SIZE = 32\r\n",
        "MAX_LEN = 128\r\n",
        "train_data_loader = create_data_loader(train,tokenizer,MAX_LEN,BATCH_SIZE,shuffle=True)\r\n",
        "val_data_loader = create_data_loader(val,tokenizer,MAX_LEN,BATCH_SIZE,shuffle=True)\r\n",
        "test_data_loader = create_data_loader(test,tokenizer,MAX_LEN,BATCH_SIZE,shuffle=False)"
      ],
      "execution_count": 67,
      "outputs": []
    },
    {
      "cell_type": "code",
      "metadata": {
        "id": "-vcgyKwj7Fyg"
      },
      "source": [
        "albertModel = AutoModel.from_pretrained(PRE_TRAINED_MODEL_NAME)"
      ],
      "execution_count": 68,
      "outputs": []
    },
    {
      "cell_type": "code",
      "metadata": {
        "id": "_6MKa2db7GkL"
      },
      "source": [
        "import torch.nn as nn\r\n",
        "class RFClassifier(nn.Module):\r\n",
        "  def __init__(self, n_classes,pre_trained):\r\n",
        "    super(RFClassifier, self).__init__()\r\n",
        "    self.auto = AutoModel.from_pretrained(pre_trained,return_dict=False)\r\n",
        "    self.drop = nn.Dropout(p=0.4)\r\n",
        "    #self.out = nn.Linear(self.bert.config.hidden_size, n_classes)\r\n",
        "    self.out1 = nn.Linear(self.auto.config.hidden_size, 128)\r\n",
        "    self.drop1 = nn.Dropout(p=0.4)\r\n",
        "    self.relu = nn.ReLU()\r\n",
        "    self.out = nn.Linear(128, n_classes)\r\n",
        "  \r\n",
        "  def forward(self, input_ids, attention_mask):\r\n",
        "    _,pooled_output = self.auto(\r\n",
        "      input_ids=input_ids,\r\n",
        "      attention_mask=attention_mask\r\n",
        "    )\r\n",
        "    #output = self.relu(pooled_output)\r\n",
        "    output = self.drop(pooled_output)\r\n",
        "    output = self.out1(output)\r\n",
        "    output = self.relu(output)\r\n",
        "    output = self.drop1(output)\r\n",
        "    return nn.functional.softmax(self.out(output))\r\n"
      ],
      "execution_count": 69,
      "outputs": []
    },
    {
      "cell_type": "code",
      "metadata": {
        "id": "mwguXGDg7P61"
      },
      "source": [
        "model = RFClassifier(5,'albert-base-v2')\r\n",
        "model = model.to(device)"
      ],
      "execution_count": 70,
      "outputs": []
    },
    {
      "cell_type": "code",
      "metadata": {
        "id": "ENH4eoXi7e0Y"
      },
      "source": [
        "from transformers import AdamW,get_linear_schedule_with_warmup\r\n",
        "EPOCHS = 5\r\n",
        "optimizer = AdamW(model.parameters(), lr=2e-5, correct_bias=False)\r\n",
        "total_steps = len(train_data_loader) * EPOCHS\r\n",
        "scheduler = get_linear_schedule_with_warmup(\r\n",
        "  optimizer,\r\n",
        "  num_warmup_steps=0,\r\n",
        "  num_training_steps=total_steps\r\n",
        ")\r\n",
        "\r\n",
        "loss_fn = nn.CrossEntropyLoss().to(device)"
      ],
      "execution_count": 71,
      "outputs": []
    },
    {
      "cell_type": "code",
      "metadata": {
        "id": "HMFWF2cP7lsM"
      },
      "source": [
        "def train_epoch(model,data_loader,loss_fn,optimizer,device,scheduler,n_examples):\r\n",
        "    model = model.train()\r\n",
        "    losses = []\r\n",
        "    correct_predictions = 0\r\n",
        "\r\n",
        "    for data in data_loader:\r\n",
        "        input_ids = data['input_ids'].to(device)\r\n",
        "        attention_mask = data['attention_mask'].to(device)\r\n",
        "        label = data['label'].to(device)\r\n",
        "\r\n",
        "        outputs = model(\r\n",
        "            input_ids=input_ids,\r\n",
        "            attention_mask=attention_mask\r\n",
        "            )\r\n",
        "        _, preds = torch.max(outputs, dim=1)\r\n",
        "        loss = loss_fn(outputs,label)\r\n",
        "\r\n",
        "        correct_predictions += torch.sum(preds == label)\r\n",
        "        losses.append(loss.item())\r\n",
        "\r\n",
        "        loss.backward()\r\n",
        "        nn.utils.clip_grad_norm_(model.parameters(), max_norm=1.0)\r\n",
        "        optimizer.step()\r\n",
        "        scheduler.step()\r\n",
        "        optimizer.zero_grad()\r\n",
        "\r\n",
        "    return correct_predictions.double() / n_examples, np.mean(losses)"
      ],
      "execution_count": 72,
      "outputs": []
    },
    {
      "cell_type": "code",
      "metadata": {
        "id": "wXKQKeMh7xre"
      },
      "source": [
        "def eval_model(model, data_loader, loss_fn, device, n_examples):\r\n",
        "  model = model.eval()\r\n",
        "  losses = []\r\n",
        "  correct_predictions = 0\r\n",
        "  with torch.no_grad():\r\n",
        "    for d in data_loader:\r\n",
        "      input_ids = d[\"input_ids\"].to(device)\r\n",
        "      attention_mask = d[\"attention_mask\"].to(device)\r\n",
        "      label = d[\"label\"].to(device)\r\n",
        "      outputs = model(\r\n",
        "        input_ids=input_ids,\r\n",
        "        attention_mask=attention_mask\r\n",
        "      )\r\n",
        "      _, preds = torch.max(outputs, dim=1)\r\n",
        "      loss = loss_fn(outputs, label)\r\n",
        "      correct_predictions += torch.sum(preds == label)\r\n",
        "      losses.append(loss.item())\r\n",
        "  return correct_predictions.double() / n_examples, np.mean(losses)"
      ],
      "execution_count": 73,
      "outputs": []
    },
    {
      "cell_type": "code",
      "metadata": {
        "id": "JgMyvQvA7461"
      },
      "source": [
        "import time\r\n",
        "\r\n",
        "def epoch_time(start_time, end_time):\r\n",
        "    elapsed_time = end_time - start_time\r\n",
        "    elapsed_mins = int(elapsed_time / 60)\r\n",
        "    elapsed_secs = int(elapsed_time - (elapsed_mins * 60))\r\n",
        "    return elapsed_mins, elapsed_secs"
      ],
      "execution_count": 74,
      "outputs": []
    },
    {
      "cell_type": "code",
      "metadata": {
        "colab": {
          "base_uri": "https://localhost:8080/"
        },
        "id": "TjXg_FfC7964",
        "outputId": "bc96867f-a73e-4d4e-9385-ee434ad6c613"
      },
      "source": [
        "from collections import defaultdict\r\n",
        "import torch\r\n",
        " \r\n",
        "history = defaultdict(list)\r\n",
        "best_accuracy = 0\r\n",
        "for epoch in range(EPOCHS):\r\n",
        " \r\n",
        " \r\n",
        "  start_time = time.time()\r\n",
        "  train_acc,train_loss = train_epoch(\r\n",
        "      model,\r\n",
        "      train_data_loader,\r\n",
        "      loss_fn,\r\n",
        "      optimizer,\r\n",
        "      device,\r\n",
        "      scheduler,\r\n",
        "      len(train)\r\n",
        "  )\r\n",
        "   \r\n",
        "  \r\n",
        "  val_acc,val_loss = eval_model(\r\n",
        "      model,\r\n",
        "      val_data_loader,\r\n",
        "      loss_fn,\r\n",
        "      device,\r\n",
        "      len(val)\r\n",
        "  )\r\n",
        "  \r\n",
        "  end_time = time.time()\r\n",
        "  epoch_mins, epoch_secs = epoch_time(start_time, end_time)\r\n",
        "  print(f'Epoch: {epoch+1:02} | Epoch Time: {epoch_mins}m {epoch_secs}s')\r\n",
        "  print(f'Train Loss {train_loss} accuracy {train_acc}')\r\n",
        "  print(f'Val Loss {val_loss} accuracy {val_acc}')\r\n",
        "  print()\r\n",
        "\r\n",
        "  history['train_acc'].append(train_acc)\r\n",
        "  history['train_loss'].append(train_loss)\r\n",
        "  history['val_acc'].append(val_acc)\r\n",
        "  history['val_loss'].append(val_loss)\r\n",
        "\r\n",
        "  if val_acc > best_accuracy:\r\n",
        "    torch.save(model.state_dict(),'albert.bin')\r\n",
        "    best_accuracy = val_acc"
      ],
      "execution_count": null,
      "outputs": [
        {
          "output_type": "stream",
          "text": [
            "/usr/local/lib/python3.6/dist-packages/ipykernel_launcher.py:23: UserWarning: Implicit dimension choice for softmax has been deprecated. Change the call to include dim=X as an argument.\n"
          ],
          "name": "stderr"
        },
        {
          "output_type": "stream",
          "text": [
            "Epoch: 01 | Epoch Time: 6m 15s\n",
            "Train Loss 1.029219450351007 accuracy 0.8806995627732667\n",
            "Val Loss 1.0139779524197654 accuracy 0.889944972486243\n",
            "\n",
            "Epoch: 02 | Epoch Time: 6m 20s\n",
            "Train Loss 1.0208471258005458 accuracy 0.8840099937539038\n",
            "Val Loss 1.0145301383639138 accuracy 0.889944972486243\n",
            "\n",
            "Epoch: 03 | Epoch Time: 6m 19s\n",
            "Train Loss 1.020830051746673 accuracy 0.8840099937539038\n",
            "Val Loss 1.013964867781079 accuracy 0.889944972486243\n",
            "\n"
          ],
          "name": "stdout"
        }
      ]
    },
    {
      "cell_type": "code",
      "metadata": {
        "id": "lXzI1n0J8EZn"
      },
      "source": [
        "import matplotlib.pyplot as plt\r\n",
        "plt.plot(history['train_acc'], label='train accuracy')\r\n",
        "plt.plot(history['val_acc'], label='validation accuracy')\r\n",
        "plt.title('Training history')\r\n",
        "plt.ylabel('Accuracy')\r\n",
        "plt.xlabel('Epoch')\r\n",
        "plt.legend()\r\n",
        "#plt.ylim([0, 1])"
      ],
      "execution_count": null,
      "outputs": []
    },
    {
      "cell_type": "code",
      "metadata": {
        "id": "RHm_zGPf8Ime"
      },
      "source": [
        "def get_predictions(model, data_loader):\r\n",
        "  model = model.eval()\r\n",
        "  sentence = []\r\n",
        "  predictions = []\r\n",
        "  prediction_probs = []\r\n",
        "  real_values = []\r\n",
        "  with torch.no_grad():\r\n",
        "    for d in data_loader:\r\n",
        "      texts = d[\"text\"]\r\n",
        "      input_ids = d[\"input_ids\"].to(device)\r\n",
        "      attention_mask = d[\"attention_mask\"].to(device)\r\n",
        "      labels = d[\"label\"].to(device)\r\n",
        "      outputs = model(\r\n",
        "        input_ids=input_ids,\r\n",
        "        attention_mask=attention_mask\r\n",
        "      )\r\n",
        "      _, preds = torch.max(outputs, dim=1)\r\n",
        "      sentence.extend(texts)\r\n",
        "      predictions.extend(preds)\r\n",
        "      prediction_probs.extend(outputs)\r\n",
        "      real_values.extend(labels)\r\n",
        "  predictions = torch.stack(predictions).cpu()\r\n",
        "  prediction_probs = torch.stack(prediction_probs).cpu()\r\n",
        "  real_values = torch.stack(real_values).cpu()\r\n",
        "  return sentence, predictions, prediction_probs, real_values"
      ],
      "execution_count": null,
      "outputs": []
    },
    {
      "cell_type": "code",
      "metadata": {
        "id": "UqcCViIN8grv"
      },
      "source": [
        "y_review_texts, y_pred, y_pred_probs, y_test = get_predictions(\r\n",
        "  model,\r\n",
        "  test_data_loader\r\n",
        ")"
      ],
      "execution_count": null,
      "outputs": []
    },
    {
      "cell_type": "code",
      "metadata": {
        "id": "2EdGm8uN83MJ"
      },
      "source": [
        "class_name = ['Not_offensive' ,'Offensive_Untargetede' ,'Offensive_Targeted_Insult_Group' ,\r\n",
        "'Offensive_Targeted_Insult_Individual' ,'not-malayalam' ]"
      ],
      "execution_count": 54,
      "outputs": []
    },
    {
      "cell_type": "code",
      "metadata": {
        "colab": {
          "base_uri": "https://localhost:8080/"
        },
        "id": "LwSRzclREYAP",
        "outputId": "6d3c3561-6447-4f61-e183-cefb21738de8"
      },
      "source": [
        "from sklearn.metrics import classification_report,confusion_matrix\r\n",
        "print(classification_report(y_test, y_pred, target_names=class_name,zero_division=0,digits=4))"
      ],
      "execution_count": 55,
      "outputs": [
        {
          "output_type": "stream",
          "text": [
            "                                      precision    recall  f1-score   support\n",
            "\n",
            "                       Not_offensive     0.5488    1.0000    0.7087       427\n",
            "               Offensive_Untargetede     0.0000    0.0000    0.0000        33\n",
            "     Offensive_Targeted_Insult_Group     0.0000    0.0000    0.0000        44\n",
            "Offensive_Targeted_Insult_Individual     0.0000    0.0000    0.0000        75\n",
            "                         not-Kannada     0.0000    0.0000    0.0000       185\n",
            "     Offensive_Targeted_Insult_Other     0.0000    0.0000    0.0000        14\n",
            "\n",
            "                            accuracy                         0.5488       778\n",
            "                           macro avg     0.0915    0.1667    0.1181       778\n",
            "                        weighted avg     0.3012    0.5488    0.3890       778\n",
            "\n"
          ],
          "name": "stdout"
        }
      ]
    },
    {
      "cell_type": "code",
      "metadata": {
        "id": "iLwJbrxreAmx"
      },
      "source": [
        ""
      ],
      "execution_count": null,
      "outputs": []
    }
  ]
}