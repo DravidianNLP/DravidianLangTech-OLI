{
  "nbformat": 4,
  "nbformat_minor": 0,
  "metadata": {
    "kernelspec": {
      "display_name": "Python 3",
      "language": "python",
      "name": "python3"
    },
    "language_info": {
      "codemirror_mode": {
        "name": "ipython",
        "version": 3
      },
      "file_extension": ".py",
      "mimetype": "text/x-python",
      "name": "python",
      "nbconvert_exporter": "python",
      "pygments_lexer": "ipython3",
      "version": "3.7.9"
    },
    "colab": {
      "name": "LSTM_with_attention_Kannada.ipynb",
      "provenance": [],
      "collapsed_sections": []
    },
    "accelerator": "GPU"
  },
  "cells": [
    {
      "cell_type": "code",
      "metadata": {
        "id": "mmO0umU158YK"
      },
      "source": [
        "import pandas as pd\n",
        "import numpy as np\n",
        "from sklearn.feature_extraction.text import CountVectorizer\n",
        "from keras.preprocessing.text import Tokenizer\n",
        "from keras.preprocessing.sequence import pad_sequences\n",
        "from keras.models import Sequential\n",
        "from keras.layers import Dense, Embedding, LSTM, Bidirectional, Dropout\n",
        "from sklearn.model_selection import train_test_split\n",
        "from keras.utils.np_utils import to_categorical\n",
        "import re\n",
        "import matplotlib.pyplot as plt"
      ],
      "execution_count": 1,
      "outputs": []
    },
    {
      "cell_type": "code",
      "metadata": {
        "colab": {
          "base_uri": "https://localhost:8080/"
        },
        "id": "NnvyVvEeIWvW",
        "outputId": "57e33390-495c-46e0-fe71-143ec768ba44"
      },
      "source": [
        "from google.colab import drive\r\n",
        "drive.mount('/content/drive')"
      ],
      "execution_count": 2,
      "outputs": [
        {
          "output_type": "stream",
          "text": [
            "Mounted at /content/drive\n"
          ],
          "name": "stdout"
        }
      ]
    },
    {
      "cell_type": "code",
      "metadata": {
        "id": "KMrlEn8A58YT",
        "colab": {
          "base_uri": "https://localhost:8080/",
          "height": 206
        },
        "outputId": "52e79040-19c8-45e7-fd26-19ff5a644a27"
      },
      "source": [
        "train = pd.read_csv('/content/drive/MyDrive/Colab Notebooks/kannada_offensive_train (1).csv', delimiter='\\t', names=['sentence','classes','nan'])\n",
        "train = train.drop(columns=['nan'])\n",
        "train.head()"
      ],
      "execution_count": 3,
      "outputs": [
        {
          "output_type": "execute_result",
          "data": {
            "text/html": [
              "<div>\n",
              "<style scoped>\n",
              "    .dataframe tbody tr th:only-of-type {\n",
              "        vertical-align: middle;\n",
              "    }\n",
              "\n",
              "    .dataframe tbody tr th {\n",
              "        vertical-align: top;\n",
              "    }\n",
              "\n",
              "    .dataframe thead th {\n",
              "        text-align: right;\n",
              "    }\n",
              "</style>\n",
              "<table border=\"1\" class=\"dataframe\">\n",
              "  <thead>\n",
              "    <tr style=\"text-align: right;\">\n",
              "      <th></th>\n",
              "      <th>sentence</th>\n",
              "      <th>classes</th>\n",
              "    </tr>\n",
              "  </thead>\n",
              "  <tbody>\n",
              "    <tr>\n",
              "      <th>0</th>\n",
              "      <td>Tik tok alli jagala madtidralla adra baggenu o...</td>\n",
              "      <td>Not_offensive</td>\n",
              "    </tr>\n",
              "    <tr>\n",
              "      <th>1</th>\n",
              "      <td>Anyone from kerala here</td>\n",
              "      <td>not-Kannada</td>\n",
              "    </tr>\n",
              "    <tr>\n",
              "      <th>2</th>\n",
              "      <td>Movie rerelease madi plss</td>\n",
              "      <td>Not_offensive</td>\n",
              "    </tr>\n",
              "    <tr>\n",
              "      <th>3</th>\n",
              "      <td>Amazon prime alli bittidira....yella manele no...</td>\n",
              "      <td>Not_offensive</td>\n",
              "    </tr>\n",
              "    <tr>\n",
              "      <th>4</th>\n",
              "      <td>Guru sure news nanu tik tok dawn lod madeda ya...</td>\n",
              "      <td>Not_offensive</td>\n",
              "    </tr>\n",
              "  </tbody>\n",
              "</table>\n",
              "</div>"
            ],
            "text/plain": [
              "                                            sentence        classes\n",
              "0  Tik tok alli jagala madtidralla adra baggenu o...  Not_offensive\n",
              "1                            Anyone from kerala here    not-Kannada\n",
              "2                          Movie rerelease madi plss  Not_offensive\n",
              "3  Amazon prime alli bittidira....yella manele no...  Not_offensive\n",
              "4  Guru sure news nanu tik tok dawn lod madeda ya...  Not_offensive"
            ]
          },
          "metadata": {
            "tags": []
          },
          "execution_count": 3
        }
      ]
    },
    {
      "cell_type": "code",
      "metadata": {
        "id": "Jy3gaXTXItBz"
      },
      "source": [
        "val = pd.read_csv('/content/drive/MyDrive/Colab Notebooks/kannada_offensive_dev.csv', delimiter='\\t', names=['sentence','classes','nan'])\r\n",
        "val = val.drop(columns=['nan'])\r\n",
        "test = pd.read_csv('/content/drive/MyDrive/Colab Notebooks/kannada_offensive_test.csv',delimiter='\\t',names=['sentence'])"
      ],
      "execution_count": 4,
      "outputs": []
    },
    {
      "cell_type": "code",
      "metadata": {
        "colab": {
          "base_uri": "https://localhost:8080/",
          "height": 174
        },
        "id": "rKjjhFwX9jHn",
        "outputId": "7f8f6098-3947-4984-a1aa-f08ed4c38a81"
      },
      "source": [
        "test.head(4)"
      ],
      "execution_count": 5,
      "outputs": [
        {
          "output_type": "execute_result",
          "data": {
            "text/html": [
              "<div>\n",
              "<style scoped>\n",
              "    .dataframe tbody tr th:only-of-type {\n",
              "        vertical-align: middle;\n",
              "    }\n",
              "\n",
              "    .dataframe tbody tr th {\n",
              "        vertical-align: top;\n",
              "    }\n",
              "\n",
              "    .dataframe thead th {\n",
              "        text-align: right;\n",
              "    }\n",
              "</style>\n",
              "<table border=\"1\" class=\"dataframe\">\n",
              "  <thead>\n",
              "    <tr style=\"text-align: right;\">\n",
              "      <th></th>\n",
              "      <th>sentence</th>\n",
              "    </tr>\n",
              "  </thead>\n",
              "  <tbody>\n",
              "    <tr>\n",
              "      <th>0</th>\n",
              "      <td>ಜೈ ಮೋರಿ ಜೈ ರೋಗಿ ಇಸ್ಲಾಂ ಸಾಯಿಸಿ ಇದೆ ಇವರ ಗುರಿ</td>\n",
              "    </tr>\n",
              "    <tr>\n",
              "      <th>1</th>\n",
              "      <td>Anna nim e vedio nodinu mathe chaina apps use ...</td>\n",
              "    </tr>\n",
              "    <tr>\n",
              "      <th>2</th>\n",
              "      <td>Super anna yenu thappila yela sari agi hellidi...</td>\n",
              "    </tr>\n",
              "    <tr>\n",
              "      <th>3</th>\n",
              "      <td>Super sir super super super super</td>\n",
              "    </tr>\n",
              "  </tbody>\n",
              "</table>\n",
              "</div>"
            ],
            "text/plain": [
              "                                            sentence\n",
              "0         ಜೈ ಮೋರಿ ಜೈ ರೋಗಿ ಇಸ್ಲಾಂ ಸಾಯಿಸಿ ಇದೆ ಇವರ ಗುರಿ\n",
              "1  Anna nim e vedio nodinu mathe chaina apps use ...\n",
              "2  Super anna yenu thappila yela sari agi hellidi...\n",
              "3                  Super sir super super super super"
            ]
          },
          "metadata": {
            "tags": []
          },
          "execution_count": 5
        }
      ]
    },
    {
      "cell_type": "code",
      "metadata": {
        "colab": {
          "base_uri": "https://localhost:8080/"
        },
        "id": "HwVQIUSJXHqo",
        "outputId": "e6991937-44a3-49da-954c-153b6cf22f72"
      },
      "source": [
        "train.count()"
      ],
      "execution_count": 6,
      "outputs": [
        {
          "output_type": "execute_result",
          "data": {
            "text/plain": [
              "sentence    6217\n",
              "classes     6217\n",
              "dtype: int64"
            ]
          },
          "metadata": {
            "tags": []
          },
          "execution_count": 6
        }
      ]
    },
    {
      "cell_type": "code",
      "metadata": {
        "colab": {
          "base_uri": "https://localhost:8080/"
        },
        "id": "CWQ0BJb0Edzm",
        "outputId": "8b2aedb3-2cf3-4cf7-a19e-e71102e1037d"
      },
      "source": [
        "train['classes'].apply(len).max()"
      ],
      "execution_count": 8,
      "outputs": [
        {
          "output_type": "execute_result",
          "data": {
            "text/plain": [
              "36"
            ]
          },
          "metadata": {
            "tags": []
          },
          "execution_count": 8
        }
      ]
    },
    {
      "cell_type": "code",
      "metadata": {
        "colab": {
          "base_uri": "https://localhost:8080/"
        },
        "id": "fqaQ29ikElyf",
        "outputId": "d15842e9-8aa9-4905-9c47-9e700b807346"
      },
      "source": [
        "train['sentence'].apply(len).max()"
      ],
      "execution_count": 9,
      "outputs": [
        {
          "output_type": "execute_result",
          "data": {
            "text/plain": [
              "732"
            ]
          },
          "metadata": {
            "tags": []
          },
          "execution_count": 9
        }
      ]
    },
    {
      "cell_type": "code",
      "metadata": {
        "colab": {
          "base_uri": "https://localhost:8080/"
        },
        "id": "jMIIYe1iEsvl",
        "outputId": "8c2f48e6-c2e5-462f-d64f-ee5537c995ee"
      },
      "source": [
        "set(train['classes']) "
      ],
      "execution_count": 10,
      "outputs": [
        {
          "output_type": "execute_result",
          "data": {
            "text/plain": [
              "{'Not_offensive',\n",
              " 'Offensive_Targeted_Insult_Group',\n",
              " 'Offensive_Targeted_Insult_Individual',\n",
              " 'Offensive_Targeted_Insult_Other',\n",
              " 'Offensive_Untargetede',\n",
              " 'not-Kannada'}"
            ]
          },
          "metadata": {
            "tags": []
          },
          "execution_count": 10
        }
      ]
    },
    {
      "cell_type": "code",
      "metadata": {
        "id": "-elc6Vsw58YT"
      },
      "source": [
        "encode_dict = {}\r\n",
        "\r\n",
        "def encode_cat(x):\r\n",
        "  if x not in encode_dict.keys():\r\n",
        "    encode_dict[x] = len(encode_dict)\r\n",
        "  return encode_dict[x]\r\n",
        "\r\n",
        "train['encode_cat'] = train['classes'].apply(lambda x: encode_cat(x))\r\n",
        "val['encode_cat'] = val['classes'].apply(lambda x: encode_cat(x))"
      ],
      "execution_count": 11,
      "outputs": []
    },
    {
      "cell_type": "code",
      "metadata": {
        "colab": {
          "base_uri": "https://localhost:8080/",
          "height": 331
        },
        "id": "E7KXwtzifRzx",
        "outputId": "13908b3d-821d-45be-907f-534a2847cc47"
      },
      "source": [
        "train.head(9)"
      ],
      "execution_count": 12,
      "outputs": [
        {
          "output_type": "execute_result",
          "data": {
            "text/html": [
              "<div>\n",
              "<style scoped>\n",
              "    .dataframe tbody tr th:only-of-type {\n",
              "        vertical-align: middle;\n",
              "    }\n",
              "\n",
              "    .dataframe tbody tr th {\n",
              "        vertical-align: top;\n",
              "    }\n",
              "\n",
              "    .dataframe thead th {\n",
              "        text-align: right;\n",
              "    }\n",
              "</style>\n",
              "<table border=\"1\" class=\"dataframe\">\n",
              "  <thead>\n",
              "    <tr style=\"text-align: right;\">\n",
              "      <th></th>\n",
              "      <th>sentence</th>\n",
              "      <th>classes</th>\n",
              "      <th>encode_cat</th>\n",
              "    </tr>\n",
              "  </thead>\n",
              "  <tbody>\n",
              "    <tr>\n",
              "      <th>0</th>\n",
              "      <td>Tik tok alli jagala madtidralla adra baggenu o...</td>\n",
              "      <td>Not_offensive</td>\n",
              "      <td>0</td>\n",
              "    </tr>\n",
              "    <tr>\n",
              "      <th>1</th>\n",
              "      <td>Anyone from kerala here</td>\n",
              "      <td>not-Kannada</td>\n",
              "      <td>1</td>\n",
              "    </tr>\n",
              "    <tr>\n",
              "      <th>2</th>\n",
              "      <td>Movie rerelease madi plss</td>\n",
              "      <td>Not_offensive</td>\n",
              "      <td>0</td>\n",
              "    </tr>\n",
              "    <tr>\n",
              "      <th>3</th>\n",
              "      <td>Amazon prime alli bittidira....yella manele no...</td>\n",
              "      <td>Not_offensive</td>\n",
              "      <td>0</td>\n",
              "    </tr>\n",
              "    <tr>\n",
              "      <th>4</th>\n",
              "      <td>Guru sure news nanu tik tok dawn lod madeda ya...</td>\n",
              "      <td>Not_offensive</td>\n",
              "      <td>0</td>\n",
              "    </tr>\n",
              "    <tr>\n",
              "      <th>5</th>\n",
              "      <td>ಸುದೀಪ್ ಸರ್ ಅಂಡ್ ದರ್ಶನ್ ಸರ್ ಅವರಿಗೆ ಇರೋ ಫ್ಯಾನ್ಸ್...</td>\n",
              "      <td>Not_offensive</td>\n",
              "      <td>0</td>\n",
              "    </tr>\n",
              "    <tr>\n",
              "      <th>6</th>\n",
              "      <td>Ade old same story</td>\n",
              "      <td>Offensive_Targeted_Insult_Group</td>\n",
              "      <td>2</td>\n",
              "    </tr>\n",
              "    <tr>\n",
              "      <th>7</th>\n",
              "      <td>Superb rakshit sir sobg superb macking</td>\n",
              "      <td>not-Kannada</td>\n",
              "      <td>1</td>\n",
              "    </tr>\n",
              "    <tr>\n",
              "      <th>8</th>\n",
              "      <td>Hai Neel (prithvi) wonderful movie dia</td>\n",
              "      <td>not-Kannada</td>\n",
              "      <td>1</td>\n",
              "    </tr>\n",
              "  </tbody>\n",
              "</table>\n",
              "</div>"
            ],
            "text/plain": [
              "                                            sentence  ... encode_cat\n",
              "0  Tik tok alli jagala madtidralla adra baggenu o...  ...          0\n",
              "1                            Anyone from kerala here  ...          1\n",
              "2                          Movie rerelease madi plss  ...          0\n",
              "3  Amazon prime alli bittidira....yella manele no...  ...          0\n",
              "4  Guru sure news nanu tik tok dawn lod madeda ya...  ...          0\n",
              "5  ಸುದೀಪ್ ಸರ್ ಅಂಡ್ ದರ್ಶನ್ ಸರ್ ಅವರಿಗೆ ಇರೋ ಫ್ಯಾನ್ಸ್...  ...          0\n",
              "6                                 Ade old same story  ...          2\n",
              "7             Superb rakshit sir sobg superb macking  ...          1\n",
              "8             Hai Neel (prithvi) wonderful movie dia  ...          1\n",
              "\n",
              "[9 rows x 3 columns]"
            ]
          },
          "metadata": {
            "tags": []
          },
          "execution_count": 12
        }
      ]
    },
    {
      "cell_type": "code",
      "metadata": {
        "id": "HJFA_UYg2bE7"
      },
      "source": [
        "y_train = train['encode_cat']\r\n",
        "y_val = val['encode_cat']"
      ],
      "execution_count": 13,
      "outputs": []
    },
    {
      "cell_type": "code",
      "metadata": {
        "id": "6u0pzR9_31Cl"
      },
      "source": [
        "def clean(df):\r\n",
        "    df['sentence'] = df['sentence'].apply(lambda x: x.lower())\r\n",
        "    df['sentence'] = df['sentence'].apply(lambda x: re.sub(r' +', ' ',x))\r\n",
        "    df['sentence'] = df['sentence'].apply(lambda x: re.sub(\"[!@#$+%*:()'-]\", ' ',x))\r\n",
        "    df['sentence'] = df['sentence'].str.replace('\\d+', '')\r\n",
        "\r\n",
        "clean(train)\r\n",
        "clean(val)\r\n",
        "clean(test)"
      ],
      "execution_count": 14,
      "outputs": []
    },
    {
      "cell_type": "code",
      "metadata": {
        "id": "ZfYd1M-cOrb_"
      },
      "source": [
        "max_features = 2000\r\n",
        "max_len = 512\r\n",
        "tokenizer = Tokenizer(num_words=max_features, split=' ')"
      ],
      "execution_count": 15,
      "outputs": []
    },
    {
      "cell_type": "code",
      "metadata": {
        "id": "RTqpX_PzOxWo"
      },
      "source": [
        "tokenizer.fit_on_texts(train['sentence'].values)\r\n",
        "X_train = tokenizer.texts_to_sequences(train['sentence'].values)\r\n",
        "# vocab_size = len(tokenizer.word_index) + 1\r\n",
        "X_train = pad_sequences(X_train,padding = 'post', maxlen=max_len)"
      ],
      "execution_count": 16,
      "outputs": []
    },
    {
      "cell_type": "code",
      "metadata": {
        "id": "FrTV_3ZnPQig"
      },
      "source": [
        "tokenizer.fit_on_texts(val['sentence'].values)\r\n",
        "X_val = tokenizer.texts_to_sequences(val['sentence'].values)\r\n",
        "# vocab_size = len(tokenizer.word_index) + 1\r\n",
        "X_val = pad_sequences(X_val,padding = 'post', maxlen=max_len)"
      ],
      "execution_count": 17,
      "outputs": []
    },
    {
      "cell_type": "code",
      "metadata": {
        "id": "Xf5MSY0KqD-5"
      },
      "source": [
        "tokenizer.fit_on_texts(test['sentence'].values)\r\n",
        "X_test = tokenizer.texts_to_sequences(test['sentence'].values)\r\n",
        "# vocab_size = len(tokenizer.word_index) + 1\r\n",
        "X_test = pad_sequences(X_test,padding = 'post', maxlen=max_len)"
      ],
      "execution_count": 18,
      "outputs": []
    },
    {
      "cell_type": "code",
      "metadata": {
        "colab": {
          "base_uri": "https://localhost:8080/"
        },
        "id": "jc2tNrQTaozK",
        "outputId": "cadc31ae-7157-486e-a50e-24a6901decb2"
      },
      "source": [
        "train['sentence'].apply(len).max()"
      ],
      "execution_count": 19,
      "outputs": [
        {
          "output_type": "execute_result",
          "data": {
            "text/plain": [
              "732"
            ]
          },
          "metadata": {
            "tags": []
          },
          "execution_count": 19
        }
      ]
    },
    {
      "cell_type": "code",
      "metadata": {
        "id": "jXIU_3S6GkKd",
        "colab": {
          "base_uri": "https://localhost:8080/",
          "height": 300
        },
        "outputId": "e9096f08-e5ce-492f-e615-3bc3c408a513"
      },
      "source": [
        "train.describe()"
      ],
      "execution_count": 20,
      "outputs": [
        {
          "output_type": "execute_result",
          "data": {
            "text/html": [
              "<div>\n",
              "<style scoped>\n",
              "    .dataframe tbody tr th:only-of-type {\n",
              "        vertical-align: middle;\n",
              "    }\n",
              "\n",
              "    .dataframe tbody tr th {\n",
              "        vertical-align: top;\n",
              "    }\n",
              "\n",
              "    .dataframe thead th {\n",
              "        text-align: right;\n",
              "    }\n",
              "</style>\n",
              "<table border=\"1\" class=\"dataframe\">\n",
              "  <thead>\n",
              "    <tr style=\"text-align: right;\">\n",
              "      <th></th>\n",
              "      <th>encode_cat</th>\n",
              "    </tr>\n",
              "  </thead>\n",
              "  <tbody>\n",
              "    <tr>\n",
              "      <th>count</th>\n",
              "      <td>6217.000000</td>\n",
              "    </tr>\n",
              "    <tr>\n",
              "      <th>mean</th>\n",
              "      <td>0.893839</td>\n",
              "    </tr>\n",
              "    <tr>\n",
              "      <th>std</th>\n",
              "      <td>1.393468</td>\n",
              "    </tr>\n",
              "    <tr>\n",
              "      <th>min</th>\n",
              "      <td>0.000000</td>\n",
              "    </tr>\n",
              "    <tr>\n",
              "      <th>25%</th>\n",
              "      <td>0.000000</td>\n",
              "    </tr>\n",
              "    <tr>\n",
              "      <th>50%</th>\n",
              "      <td>0.000000</td>\n",
              "    </tr>\n",
              "    <tr>\n",
              "      <th>75%</th>\n",
              "      <td>1.000000</td>\n",
              "    </tr>\n",
              "    <tr>\n",
              "      <th>max</th>\n",
              "      <td>5.000000</td>\n",
              "    </tr>\n",
              "  </tbody>\n",
              "</table>\n",
              "</div>"
            ],
            "text/plain": [
              "        encode_cat\n",
              "count  6217.000000\n",
              "mean      0.893839\n",
              "std       1.393468\n",
              "min       0.000000\n",
              "25%       0.000000\n",
              "50%       0.000000\n",
              "75%       1.000000\n",
              "max       5.000000"
            ]
          },
          "metadata": {
            "tags": []
          },
          "execution_count": 20
        }
      ]
    },
    {
      "cell_type": "code",
      "metadata": {
        "scrolled": true,
        "id": "TSw2ATdi58YU",
        "colab": {
          "base_uri": "https://localhost:8080/"
        },
        "outputId": "0f5e2594-0a6e-4e31-d2a3-c872c4e35f1e"
      },
      "source": [
        "Y_train = pd.get_dummies(y_train).values\n",
        "Y_val = pd.get_dummies(y_val).values\n",
        "print(X_train.shape,Y_train.shape)\n",
        "print(X_val.shape,Y_val.shape)\n",
        "print(X_test.shape)"
      ],
      "execution_count": 21,
      "outputs": [
        {
          "output_type": "stream",
          "text": [
            "(6217, 512) (6217, 6)\n",
            "(777, 512) (777, 6)\n",
            "(778, 512)\n"
          ],
          "name": "stdout"
        }
      ]
    },
    {
      "cell_type": "code",
      "metadata": {
        "id": "KG1-jtH9B8UD"
      },
      "source": [
        "from keras.layers import Layer\r\n",
        "from keras.layers import Input\r\n",
        "from keras.models import Model\r\n",
        "from tensorflow.keras import backend as K\r\n",
        "\r\n",
        "class attention(Layer):\r\n",
        "    def __init__(self):\r\n",
        "        super(attention,self).__init__()\r\n",
        "\r\n",
        "    def build(self,input_shape):\r\n",
        "        self.W=self.add_weight(name=\"att_weight\",shape=(input_shape[-1],1),initializer=\"normal\")\r\n",
        "        self.b=self.add_weight(name=\"att_bias\",shape=(input_shape[1],1),initializer=\"zeros\")        \r\n",
        "        super(attention, self).build(input_shape)\r\n",
        "\r\n",
        "    def call(self,x):\r\n",
        "        et=K.squeeze(K.tanh(K.dot(x,self.W)+self.b),axis=-1)\r\n",
        "        at=K.softmax(et)\r\n",
        "        at=K.expand_dims(at,axis=-1)\r\n",
        "        output=x*at\r\n",
        "        return K.sum(output,axis=1)\r\n",
        "\r\n",
        "    def compute_output_shape(self,input_shape):\r\n",
        "        return (input_shape[0],input_shape[-1])\r\n",
        "\r\n",
        "    def get_config(self):\r\n",
        "        return super(attention,self).get_config()"
      ],
      "execution_count": 22,
      "outputs": []
    },
    {
      "cell_type": "code",
      "metadata": {
        "id": "vrSHNPABEgWG",
        "colab": {
          "base_uri": "https://localhost:8080/"
        },
        "outputId": "56021aeb-f253-4f5d-b1ef-51f9a1be795e"
      },
      "source": [
        "!wget --header=\"Host: nlp.stanford.edu\" --header=\"User-Agent: Mozilla/5.0 (Windows NT 10.0; Win64; x64) AppleWebKit/537.36 (KHTML, like Gecko) Chrome/69.0.3497.100 Safari/537.36\" --header=\"Accept: text/html,application/xhtml+xml,application/xml;q=0.9,image/webp,image/apng,*/*;q=0.8\" --header=\"Accept-Language: en-US,en;q=0.9\" --header=\"Cookie: _ga=GA1.2.456156586.1539718115; _gid=GA1.2.491677602.1539718115; _gat=1\" --header=\"Connection: keep-alive\" \"https://nlp.stanford.edu/data/glove.6B.zip\" -O \"glove.6B.zip\" -c"
      ],
      "execution_count": 23,
      "outputs": [
        {
          "output_type": "stream",
          "text": [
            "--2021-01-08 15:37:39--  https://nlp.stanford.edu/data/glove.6B.zip\n",
            "Resolving nlp.stanford.edu (nlp.stanford.edu)... 171.64.67.140\n",
            "Connecting to nlp.stanford.edu (nlp.stanford.edu)|171.64.67.140|:443... connected.\n",
            "HTTP request sent, awaiting response... 301 Moved Permanently\n",
            "Location: http://downloads.cs.stanford.edu/nlp/data/glove.6B.zip [following]\n",
            "--2021-01-08 15:37:40--  http://downloads.cs.stanford.edu/nlp/data/glove.6B.zip\n",
            "Resolving downloads.cs.stanford.edu (downloads.cs.stanford.edu)... 171.64.64.22\n",
            "Connecting to downloads.cs.stanford.edu (downloads.cs.stanford.edu)|171.64.64.22|:80... connected.\n",
            "HTTP request sent, awaiting response... 200 OK\n",
            "Length: 862182613 (822M) [application/zip]\n",
            "Saving to: ‘glove.6B.zip’\n",
            "\n",
            "glove.6B.zip        100%[===================>] 822.24M  2.24MB/s    in 6m 27s  \n",
            "\n",
            "2021-01-08 15:44:07 (2.13 MB/s) - ‘glove.6B.zip’ saved [862182613/862182613]\n",
            "\n"
          ],
          "name": "stdout"
        }
      ]
    },
    {
      "cell_type": "code",
      "metadata": {
        "id": "NHvWvMW0HcYr",
        "colab": {
          "base_uri": "https://localhost:8080/"
        },
        "outputId": "b794df71-8072-4f0b-a3c5-20800b7a461a"
      },
      "source": [
        "!unzip glove.6B.zip"
      ],
      "execution_count": 24,
      "outputs": [
        {
          "output_type": "stream",
          "text": [
            "Archive:  glove.6B.zip\n",
            "  inflating: glove.6B.50d.txt        \n",
            "  inflating: glove.6B.100d.txt       \n",
            "  inflating: glove.6B.200d.txt       \n",
            "  inflating: glove.6B.300d.txt       \n"
          ],
          "name": "stdout"
        }
      ]
    },
    {
      "cell_type": "code",
      "metadata": {
        "colab": {
          "base_uri": "https://localhost:8080/"
        },
        "id": "z08Bm1OsAl-D",
        "outputId": "00603625-050a-4262-c974-bc79a9bfe31d"
      },
      "source": [
        " from numpy import array\r\n",
        " from numpy import asarray\r\n",
        " from numpy import zeros\r\n",
        "\r\n",
        " embeddings_index = dict()\r\n",
        "\r\n",
        " glove_file = open('glove.6B.100d.txt', encoding=\"utf8\")\r\n",
        "\r\n",
        " for line in glove_file:\r\n",
        "     records = line.split()\r\n",
        "     word = records[0]\r\n",
        "     vector_dimensions = asarray(records[1:], dtype='float32')\r\n",
        "     embeddings_index[word] = vector_dimensions\r\n",
        " glove_file.close()\r\n",
        "\r\n",
        " print('Found %s word vectors.' %len(embeddings_index))"
      ],
      "execution_count": 25,
      "outputs": [
        {
          "output_type": "stream",
          "text": [
            "Found 400000 word vectors.\n"
          ],
          "name": "stdout"
        }
      ]
    },
    {
      "cell_type": "code",
      "metadata": {
        "colab": {
          "base_uri": "https://localhost:8080/"
        },
        "id": "ofCuMn2yQeV3",
        "outputId": "73c8ca93-3595-4789-9bde-2a3289cff067"
      },
      "source": [
        "word_index = tokenizer.word_index\r\n",
        "print(len(word_index))\r\n",
        "\r\n",
        "\r\n",
        "num_words = min(max_features, len(word_index)) + 1\r\n",
        "print(num_words)\r\n",
        "\r\n",
        "embedding_dim = 100\r\n",
        "\r\n",
        "embedding_matrix = np.zeros((num_words, embedding_dim))\r\n",
        "\r\n",
        "for word, i in word_index.items():\r\n",
        "    if i > max_features:\r\n",
        "        continue\r\n",
        "    embedding_vector = embeddings_index.get(word)\r\n",
        "    if embedding_vector is not None:\r\n",
        "        embedding_matrix[i] = embedding_vector\r\n",
        "    else:\r\n",
        "        embedding_matrix[i] = np.random.randn(embedding_dim)"
      ],
      "execution_count": 26,
      "outputs": [
        {
          "output_type": "stream",
          "text": [
            "18333\n",
            "2001\n"
          ],
          "name": "stdout"
        }
      ]
    },
    {
      "cell_type": "code",
      "metadata": {
        "id": "mJprJe1-58YV",
        "colab": {
          "base_uri": "https://localhost:8080/"
        },
        "outputId": "90b11f1b-c797-4812-e8b4-752afc4b4d89"
      },
      "source": [
        "K.clear_session()\n",
        "from keras.regularizers import l2\n",
        "from keras.initializers import Constant\n",
        "embed_dim = 100\n",
        "lstm_out = 128\n",
        "# model = Sequential()\n",
        "inputs = Input(shape=(512,))\n",
        "x = Embedding(num_words, embed_dim,embeddings_initializer=Constant(embedding_matrix),input_length = X_train.shape[1])(inputs)\n",
        "att_in = Bidirectional(LSTM(lstm_out,return_sequences=True, dropout=0.2))(x)\n",
        "att_out = attention()(att_in)\n",
        "d = Dropout(0.2)(att_out)\n",
        "outputs = Dense(6, activation='softmax')(d)\n",
        "model = Model(inputs,outputs)\n",
        "print(model.summary())"
      ],
      "execution_count": 27,
      "outputs": [
        {
          "output_type": "stream",
          "text": [
            "Model: \"model\"\n",
            "_________________________________________________________________\n",
            "Layer (type)                 Output Shape              Param #   \n",
            "=================================================================\n",
            "input_1 (InputLayer)         [(None, 512)]             0         \n",
            "_________________________________________________________________\n",
            "embedding (Embedding)        (None, 512, 100)          200100    \n",
            "_________________________________________________________________\n",
            "bidirectional (Bidirectional (None, 512, 256)          234496    \n",
            "_________________________________________________________________\n",
            "attention (attention)        (None, 256)               768       \n",
            "_________________________________________________________________\n",
            "dropout (Dropout)            (None, 256)               0         \n",
            "_________________________________________________________________\n",
            "dense (Dense)                (None, 6)                 1542      \n",
            "=================================================================\n",
            "Total params: 436,906\n",
            "Trainable params: 436,906\n",
            "Non-trainable params: 0\n",
            "_________________________________________________________________\n",
            "None\n"
          ],
          "name": "stdout"
        }
      ]
    },
    {
      "cell_type": "code",
      "metadata": {
        "id": "Vd_MbvzTcyVx"
      },
      "source": [
        "import numpy as np\r\n",
        "\r\n",
        "from sklearn.utils import class_weight\r\n",
        "class_weights = class_weight.compute_class_weight('balanced',\r\n",
        "                                                  np.unique(train.encode_cat.values),\r\n",
        "                                                  train.encode_cat.values)\r\n",
        "class_weights = dict(enumerate(class_weights))"
      ],
      "execution_count": 28,
      "outputs": []
    },
    {
      "cell_type": "code",
      "metadata": {
        "id": "o26sXGrN58YV"
      },
      "source": [
        "model.compile(loss = 'categorical_crossentropy', optimizer='adam',metrics = ['accuracy'])"
      ],
      "execution_count": 29,
      "outputs": []
    },
    {
      "cell_type": "code",
      "metadata": {
        "id": "8WjQJdxS58YV",
        "colab": {
          "base_uri": "https://localhost:8080/"
        },
        "outputId": "568ad76f-0f35-45b4-e540-592ecaf30177"
      },
      "source": [
        "history = model.fit(X_train, Y_train,batch_size = 128, validation_data=(X_val,Y_val), epochs=10, verbose=2)"
      ],
      "execution_count": 30,
      "outputs": [
        {
          "output_type": "stream",
          "text": [
            "Epoch 1/10\n",
            "49/49 - 14s - loss: 1.3087 - accuracy: 0.5602 - val_loss: 1.2716 - val_accuracy: 0.5483\n",
            "Epoch 2/10\n",
            "49/49 - 4s - loss: 1.2147 - accuracy: 0.5700 - val_loss: 1.2598 - val_accuracy: 0.5483\n",
            "Epoch 3/10\n",
            "49/49 - 4s - loss: 1.1698 - accuracy: 0.5704 - val_loss: 1.2313 - val_accuracy: 0.5521\n",
            "Epoch 4/10\n",
            "49/49 - 4s - loss: 1.1053 - accuracy: 0.5768 - val_loss: 1.2144 - val_accuracy: 0.5483\n",
            "Epoch 5/10\n",
            "49/49 - 4s - loss: 1.0417 - accuracy: 0.5865 - val_loss: 1.2544 - val_accuracy: 0.5521\n",
            "Epoch 6/10\n",
            "49/49 - 5s - loss: 0.9313 - accuracy: 0.6532 - val_loss: 1.4306 - val_accuracy: 0.5328\n",
            "Epoch 7/10\n",
            "49/49 - 4s - loss: 0.8652 - accuracy: 0.6894 - val_loss: 1.3132 - val_accuracy: 0.5354\n",
            "Epoch 8/10\n",
            "49/49 - 5s - loss: 0.8221 - accuracy: 0.7087 - val_loss: 1.4322 - val_accuracy: 0.5354\n",
            "Epoch 9/10\n",
            "49/49 - 5s - loss: 0.7914 - accuracy: 0.7204 - val_loss: 1.3776 - val_accuracy: 0.5457\n",
            "Epoch 10/10\n",
            "49/49 - 5s - loss: 0.7538 - accuracy: 0.7320 - val_loss: 1.3581 - val_accuracy: 0.5457\n"
          ],
          "name": "stdout"
        }
      ]
    },
    {
      "cell_type": "code",
      "metadata": {
        "id": "oAXX9MhW58YV",
        "colab": {
          "base_uri": "https://localhost:8080/",
          "height": 295
        },
        "outputId": "52a6e142-1f8d-4244-d9d3-6796327b7228"
      },
      "source": [
        "import matplotlib.pyplot as plt\n",
        "\n",
        "plt.plot(history.history['accuracy']) \n",
        "plt.plot(history.history['val_accuracy'])\n",
        "plt.title('Model Accuracy')\n",
        "plt.ylabel('accuracy')\n",
        "plt.xlabel('epoch')\n",
        "plt.legend(['train','val'])\n",
        "#plt.show()\n",
        "plt.savefig('Model_accuracy.png', dpi=600)"
      ],
      "execution_count": 31,
      "outputs": [
        {
          "output_type": "display_data",
          "data": {
            "image/png": "[encoded data removed]",
            "text/plain": [
              "<Figure size 432x288 with 1 Axes>"
            ]
          },
          "metadata": {
            "tags": [],
            "needs_background": "light"
          }
        }
      ]
    },
    {
      "cell_type": "code",
      "metadata": {
        "id": "yiKiSsH258YV"
      },
      "source": [
        "# score = model.evaluate(X_test,verbose=1)\n",
        "predictions = np.argmax(model.predict(X_test),axis = -1)\n",
        "\n",
        "# print(\"val score is {}\".format(score[0]))\n",
        "# print(\"val Accuracy is {}\".format(score[1]))"
      ],
      "execution_count": 32,
      "outputs": []
    },
    {
      "cell_type": "code",
      "metadata": {
        "id": "_W8yOC-658YW"
      },
      "source": [
        "_, train_acc = model.evaluate(X_train, Y_train, verbose=0)\n",
        "_, val_acc = model.evaluate(X_val, Y_val, verbose=0)"
      ],
      "execution_count": 33,
      "outputs": []
    },
    {
      "cell_type": "code",
      "metadata": {
        "colab": {
          "base_uri": "https://localhost:8080/"
        },
        "id": "M7QFzBZ2x2xn",
        "outputId": "45532735-59ba-4e8e-e048-19c4a0d3050d"
      },
      "source": [
        "print(val_acc)\r\n",
        "print(train_acc)"
      ],
      "execution_count": 34,
      "outputs": [
        {
          "output_type": "stream",
          "text": [
            "0.5456885695457458\n",
            "0.7593694925308228\n"
          ],
          "name": "stdout"
        }
      ]
    },
    {
      "cell_type": "code",
      "metadata": {
        "id": "dFhcUPgE58YW"
      },
      "source": [
        "rounded_predictions = np.argmax(model.predict(X_test, batch_size=128, verbose=0),axis = -1)\r\n",
        "print(rounded_predictions)"
      ],
      "execution_count": null,
      "outputs": []
    },
    {
      "cell_type": "code",
      "metadata": {
        "id": "U-37cWpc58YW",
        "colab": {
          "base_uri": "https://localhost:8080/",
          "height": 423
        },
        "outputId": "c801c6ed-2b4f-44a0-ccac-32628e1a6400"
      },
      "source": [
        "a = {'id':[i for i in range(778)]}\r\n",
        "a = pd.DataFrame(a)\r\n",
        "\r\n",
        "df = pd.DataFrame({'id':a.id,'labels':rounded_predictions})\r\n",
        "df.labels = df.labels.apply({0:'Not_offensive',5:'Offensive_Untargetede',3:'Offensive_Targeted_Insult_Other',\r\n",
        "4:'Offensive_Targeted_Insult_Individual',1:'not-Kannada',2:'Offensive_Targeted_Insult_Group'}.get)\r\n",
        "df"
      ],
      "execution_count": 36,
      "outputs": [
        {
          "output_type": "execute_result",
          "data": {
            "text/html": [
              "<div>\n",
              "<style scoped>\n",
              "    .dataframe tbody tr th:only-of-type {\n",
              "        vertical-align: middle;\n",
              "    }\n",
              "\n",
              "    .dataframe tbody tr th {\n",
              "        vertical-align: top;\n",
              "    }\n",
              "\n",
              "    .dataframe thead th {\n",
              "        text-align: right;\n",
              "    }\n",
              "</style>\n",
              "<table border=\"1\" class=\"dataframe\">\n",
              "  <thead>\n",
              "    <tr style=\"text-align: right;\">\n",
              "      <th></th>\n",
              "      <th>id</th>\n",
              "      <th>labels</th>\n",
              "    </tr>\n",
              "  </thead>\n",
              "  <tbody>\n",
              "    <tr>\n",
              "      <th>0</th>\n",
              "      <td>0</td>\n",
              "      <td>Not_offensive</td>\n",
              "    </tr>\n",
              "    <tr>\n",
              "      <th>1</th>\n",
              "      <td>1</td>\n",
              "      <td>Not_offensive</td>\n",
              "    </tr>\n",
              "    <tr>\n",
              "      <th>2</th>\n",
              "      <td>2</td>\n",
              "      <td>Not_offensive</td>\n",
              "    </tr>\n",
              "    <tr>\n",
              "      <th>3</th>\n",
              "      <td>3</td>\n",
              "      <td>not-Kannada</td>\n",
              "    </tr>\n",
              "    <tr>\n",
              "      <th>4</th>\n",
              "      <td>4</td>\n",
              "      <td>Not_offensive</td>\n",
              "    </tr>\n",
              "    <tr>\n",
              "      <th>...</th>\n",
              "      <td>...</td>\n",
              "      <td>...</td>\n",
              "    </tr>\n",
              "    <tr>\n",
              "      <th>773</th>\n",
              "      <td>773</td>\n",
              "      <td>Not_offensive</td>\n",
              "    </tr>\n",
              "    <tr>\n",
              "      <th>774</th>\n",
              "      <td>774</td>\n",
              "      <td>Offensive_Targeted_Insult_Individual</td>\n",
              "    </tr>\n",
              "    <tr>\n",
              "      <th>775</th>\n",
              "      <td>775</td>\n",
              "      <td>Not_offensive</td>\n",
              "    </tr>\n",
              "    <tr>\n",
              "      <th>776</th>\n",
              "      <td>776</td>\n",
              "      <td>Not_offensive</td>\n",
              "    </tr>\n",
              "    <tr>\n",
              "      <th>777</th>\n",
              "      <td>777</td>\n",
              "      <td>Not_offensive</td>\n",
              "    </tr>\n",
              "  </tbody>\n",
              "</table>\n",
              "<p>778 rows × 2 columns</p>\n",
              "</div>"
            ],
            "text/plain": [
              "      id                                labels\n",
              "0      0                         Not_offensive\n",
              "1      1                         Not_offensive\n",
              "2      2                         Not_offensive\n",
              "3      3                           not-Kannada\n",
              "4      4                         Not_offensive\n",
              "..   ...                                   ...\n",
              "773  773                         Not_offensive\n",
              "774  774  Offensive_Targeted_Insult_Individual\n",
              "775  775                         Not_offensive\n",
              "776  776                         Not_offensive\n",
              "777  777                         Not_offensive\n",
              "\n",
              "[778 rows x 2 columns]"
            ]
          },
          "metadata": {
            "tags": []
          },
          "execution_count": 36
        }
      ]
    },
    {
      "cell_type": "code",
      "metadata": {
        "colab": {
          "base_uri": "https://localhost:8080/",
          "height": 17
        },
        "id": "WLJ7wLOC4Qm1",
        "outputId": "f17500e9-2b1d-4881-e82f-a6eca0f30860"
      },
      "source": [
        "df.to_csv('LSTM_with_attention_Kannada_submission.csv',index=False)\r\n",
        "from google.colab import files\r\n",
        "files.download(\"LSTM_with_attention_Kannada_submission.csv\")"
      ],
      "execution_count": 37,
      "outputs": [
        {
          "output_type": "display_data",
          "data": {
            "application/javascript": [
              "\n",
              "    async function download(id, filename, size) {\n",
              "      if (!google.colab.kernel.accessAllowed) {\n",
              "        return;\n",
              "      }\n",
              "      const div = document.createElement('div');\n",
              "      const label = document.createElement('label');\n",
              "      label.textContent = `Downloading \"${filename}\": `;\n",
              "      div.appendChild(label);\n",
              "      const progress = document.createElement('progress');\n",
              "      progress.max = size;\n",
              "      div.appendChild(progress);\n",
              "      document.body.appendChild(div);\n",
              "\n",
              "      const buffers = [];\n",
              "      let downloaded = 0;\n",
              "\n",
              "      const channel = await google.colab.kernel.comms.open(id);\n",
              "      // Send a message to notify the kernel that we're ready.\n",
              "      channel.send({})\n",
              "\n",
              "      for await (const message of channel.messages) {\n",
              "        // Send a message to notify the kernel that we're ready.\n",
              "        channel.send({})\n",
              "        if (message.buffers) {\n",
              "          for (const buffer of message.buffers) {\n",
              "            buffers.push(buffer);\n",
              "            downloaded += buffer.byteLength;\n",
              "            progress.value = downloaded;\n",
              "          }\n",
              "        }\n",
              "      }\n",
              "      const blob = new Blob(buffers, {type: 'application/binary'});\n",
              "      const a = document.createElement('a');\n",
              "      a.href = window.URL.createObjectURL(blob);\n",
              "      a.download = filename;\n",
              "      div.appendChild(a);\n",
              "      a.click();\n",
              "      div.remove();\n",
              "    }\n",
              "  "
            ],
            "text/plain": [
              "<IPython.core.display.Javascript object>"
            ]
          },
          "metadata": {
            "tags": []
          }
        },
        {
          "output_type": "display_data",
          "data": {
            "application/javascript": [
              "download(\"download_2cd663ee-4883-481b-bd17-ba3862b8db32\", \"LSTM_with_attention_Kannada_submission.csv\", 14746)"
            ],
            "text/plain": [
              "<IPython.core.display.Javascript object>"
            ]
          },
          "metadata": {
            "tags": []
          }
        }
      ]
    },
    {
      "cell_type": "code",
      "metadata": {
        "id": "Tu02IKHT9ql1"
      },
      "source": [
        ""
      ],
      "execution_count": null,
      "outputs": []
    }
  ]
}