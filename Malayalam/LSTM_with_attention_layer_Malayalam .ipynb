{
  "nbformat": 4,
  "nbformat_minor": 0,
  "metadata": {
    "kernelspec": {
      "display_name": "Python 3",
      "language": "python",
      "name": "python3"
    },
    "language_info": {
      "codemirror_mode": {
        "name": "ipython",
        "version": 3
      },
      "file_extension": ".py",
      "mimetype": "text/x-python",
      "name": "python",
      "nbconvert_exporter": "python",
      "pygments_lexer": "ipython3",
      "version": "3.7.9"
    },
    "colab": {
      "name": "LSTM_with_attention_layer_Malayalam.ipynb",
      "provenance": [],
      "collapsed_sections": []
    },
    "accelerator": "GPU"
  },
  "cells": [
    {
      "cell_type": "code",
      "metadata": {
        "id": "mmO0umU158YK"
      },
      "source": [
        "import pandas as pd\n",
        "import numpy as np\n",
        "from sklearn.feature_extraction.text import CountVectorizer\n",
        "from keras.preprocessing.text import Tokenizer\n",
        "from keras.preprocessing.sequence import pad_sequences\n",
        "from keras.models import Sequential\n",
        "from keras.layers import Dense, Embedding, LSTM, Bidirectional, Dropout\n",
        "from sklearn.model_selection import train_test_split\n",
        "from keras.utils.np_utils import to_categorical\n",
        "import re\n",
        "import matplotlib.pyplot as plt"
      ],
      "execution_count": 1,
      "outputs": []
    },
    {
      "cell_type": "code",
      "metadata": {
        "colab": {
          "base_uri": "https://localhost:8080/"
        },
        "id": "NnvyVvEeIWvW",
        "outputId": "198aa776-c78b-4850-d26c-49ea77b0429d"
      },
      "source": [
        "from google.colab import drive\r\n",
        "drive.mount('/content/drive')"
      ],
      "execution_count": 2,
      "outputs": [
        {
          "output_type": "stream",
          "text": [
            "Mounted at /content/drive\n"
          ],
          "name": "stdout"
        }
      ]
    },
    {
      "cell_type": "code",
      "metadata": {
        "id": "KMrlEn8A58YT",
        "colab": {
          "base_uri": "https://localhost:8080/",
          "height": 206
        },
        "outputId": "c9abb87c-e124-4eaf-acd8-03ad80d1ca00"
      },
      "source": [
        "train = pd.read_csv('/content/drive/MyDrive/Colab Notebooks/mal_full_offensive_train.csv', delimiter='\\t', names=['sentence','classes','nan'])\n",
        "train = train.drop(columns=['nan'])\n",
        "train.head()"
      ],
      "execution_count": 3,
      "outputs": [
        {
          "output_type": "execute_result",
          "data": {
            "text/html": [
              "<div>\n",
              "<style scoped>\n",
              "    .dataframe tbody tr th:only-of-type {\n",
              "        vertical-align: middle;\n",
              "    }\n",
              "\n",
              "    .dataframe tbody tr th {\n",
              "        vertical-align: top;\n",
              "    }\n",
              "\n",
              "    .dataframe thead th {\n",
              "        text-align: right;\n",
              "    }\n",
              "</style>\n",
              "<table border=\"1\" class=\"dataframe\">\n",
              "  <thead>\n",
              "    <tr style=\"text-align: right;\">\n",
              "      <th></th>\n",
              "      <th>sentence</th>\n",
              "      <th>classes</th>\n",
              "    </tr>\n",
              "  </thead>\n",
              "  <tbody>\n",
              "    <tr>\n",
              "      <th>0</th>\n",
              "      <td>പലദേശം. പല ഭാഷ ഒരേ ഒരു രാജാവ്  അല്ലാതെ  സ്വന്ത...</td>\n",
              "      <td>Not_offensive</td>\n",
              "    </tr>\n",
              "    <tr>\n",
              "      <th>1</th>\n",
              "      <td>ഈ ഓണം ഏട്ടനും പിള്ളേർക്ക് ഉള്ളതാണ് എന്ന് ഉള്ളവ...</td>\n",
              "      <td>Not_offensive</td>\n",
              "    </tr>\n",
              "    <tr>\n",
              "      <th>2</th>\n",
              "      <td>ആരണ്ട ആരണ്ട തലുണ്ടാകാണാ ആരണ്ട ഞാൻ ആണ്ട ഞാൻ ആണ്...</td>\n",
              "      <td>Not_offensive</td>\n",
              "    </tr>\n",
              "    <tr>\n",
              "      <th>3</th>\n",
              "      <td>Sushin syam  Shaiju khalid  Midhun manual</td>\n",
              "      <td>Not_offensive</td>\n",
              "    </tr>\n",
              "    <tr>\n",
              "      <th>4</th>\n",
              "      <td>J A K E S.   B EJ O Y !!!</td>\n",
              "      <td>Not_offensive</td>\n",
              "    </tr>\n",
              "  </tbody>\n",
              "</table>\n",
              "</div>"
            ],
            "text/plain": [
              "                                            sentence        classes\n",
              "0  പലദേശം. പല ഭാഷ ഒരേ ഒരു രാജാവ്  അല്ലാതെ  സ്വന്ത...  Not_offensive\n",
              "1  ഈ ഓണം ഏട്ടനും പിള്ളേർക്ക് ഉള്ളതാണ് എന്ന് ഉള്ളവ...  Not_offensive\n",
              "2  ആരണ്ട ആരണ്ട തലുണ്ടാകാണാ ആരണ്ട ഞാൻ ആണ്ട ഞാൻ ആണ്...  Not_offensive\n",
              "3          Sushin syam  Shaiju khalid  Midhun manual  Not_offensive\n",
              "4                          J A K E S.   B EJ O Y !!!  Not_offensive"
            ]
          },
          "metadata": {
            "tags": []
          },
          "execution_count": 3
        }
      ]
    },
    {
      "cell_type": "code",
      "metadata": {
        "id": "Jy3gaXTXItBz"
      },
      "source": [
        "val = pd.read_csv('/content/drive/MyDrive/Colab Notebooks/mal_full_offensive_dev.csv', delimiter='\\t', names=['sentence','classes','nan'])\r\n",
        "val = val.drop(columns=['nan'])\r\n",
        "test = pd.read_csv('/content/drive/MyDrive/Colab Notebooks/mal_full_offensive_test.csv',delimiter='\\t',names=['sentence'])"
      ],
      "execution_count": 4,
      "outputs": []
    },
    {
      "cell_type": "code",
      "metadata": {
        "colab": {
          "base_uri": "https://localhost:8080/",
          "height": 174
        },
        "id": "rKjjhFwX9jHn",
        "outputId": "5092c0fc-a0f4-4015-8fec-c3a679b9e378"
      },
      "source": [
        "test.head(4)"
      ],
      "execution_count": 5,
      "outputs": [
        {
          "output_type": "execute_result",
          "data": {
            "text/html": [
              "<div>\n",
              "<style scoped>\n",
              "    .dataframe tbody tr th:only-of-type {\n",
              "        vertical-align: middle;\n",
              "    }\n",
              "\n",
              "    .dataframe tbody tr th {\n",
              "        vertical-align: top;\n",
              "    }\n",
              "\n",
              "    .dataframe thead th {\n",
              "        text-align: right;\n",
              "    }\n",
              "</style>\n",
              "<table border=\"1\" class=\"dataframe\">\n",
              "  <thead>\n",
              "    <tr style=\"text-align: right;\">\n",
              "      <th></th>\n",
              "      <th>sentence</th>\n",
              "    </tr>\n",
              "  </thead>\n",
              "  <tbody>\n",
              "    <tr>\n",
              "      <th>0</th>\n",
              "      <td>അപ്പൊ ഇതൊരൊന്നൊരാ മൊതലാണല്ലേ  Suraj ആണ് നടൻ ന്...</td>\n",
              "    </tr>\n",
              "    <tr>\n",
              "      <th>1</th>\n",
              "      <td>എന്ത് ഊള എഡിറ്റിംഗ് ആടോ ഇത് ഒരുമാതിരി vivo vid...</td>\n",
              "    </tr>\n",
              "    <tr>\n",
              "      <th>2</th>\n",
              "      <td>Fefka ee padam release cheyyan samadhicho?</td>\n",
              "    </tr>\n",
              "    <tr>\n",
              "      <th>3</th>\n",
              "      <td>അആഹാ.. സംഗീതം ജെക്‌സ് ബിജോയ് ആണ് അപ്പൊ പൊട്ടലു...</td>\n",
              "    </tr>\n",
              "  </tbody>\n",
              "</table>\n",
              "</div>"
            ],
            "text/plain": [
              "                                            sentence\n",
              "0  അപ്പൊ ഇതൊരൊന്നൊരാ മൊതലാണല്ലേ  Suraj ആണ് നടൻ ന്...\n",
              "1  എന്ത് ഊള എഡിറ്റിംഗ് ആടോ ഇത് ഒരുമാതിരി vivo vid...\n",
              "2         Fefka ee padam release cheyyan samadhicho?\n",
              "3  അആഹാ.. സംഗീതം ജെക്‌സ് ബിജോയ് ആണ് അപ്പൊ പൊട്ടലു..."
            ]
          },
          "metadata": {
            "tags": []
          },
          "execution_count": 5
        }
      ]
    },
    {
      "cell_type": "code",
      "metadata": {
        "colab": {
          "base_uri": "https://localhost:8080/"
        },
        "id": "HwVQIUSJXHqo",
        "outputId": "561b70fd-0f89-40f5-ee21-85e79f878203"
      },
      "source": [
        "train.count()"
      ],
      "execution_count": 6,
      "outputs": [
        {
          "output_type": "execute_result",
          "data": {
            "text/plain": [
              "sentence    16010\n",
              "classes     16010\n",
              "dtype: int64"
            ]
          },
          "metadata": {
            "tags": []
          },
          "execution_count": 6
        }
      ]
    },
    {
      "cell_type": "code",
      "metadata": {
        "colab": {
          "base_uri": "https://localhost:8080/"
        },
        "id": "CWQ0BJb0Edzm",
        "outputId": "425096ad-ca98-4b80-be42-f27613ba59fe"
      },
      "source": [
        "train['classes'].apply(len).max()"
      ],
      "execution_count": 7,
      "outputs": [
        {
          "output_type": "execute_result",
          "data": {
            "text/plain": [
              "36"
            ]
          },
          "metadata": {
            "tags": []
          },
          "execution_count": 7
        }
      ]
    },
    {
      "cell_type": "code",
      "metadata": {
        "colab": {
          "base_uri": "https://localhost:8080/"
        },
        "id": "fqaQ29ikElyf",
        "outputId": "ad1b153f-19a4-4d40-c9b8-45f1bcfc412f"
      },
      "source": [
        "train['sentence'].apply(len).max()"
      ],
      "execution_count": 8,
      "outputs": [
        {
          "output_type": "execute_result",
          "data": {
            "text/plain": [
              "1304"
            ]
          },
          "metadata": {
            "tags": []
          },
          "execution_count": 8
        }
      ]
    },
    {
      "cell_type": "code",
      "metadata": {
        "colab": {
          "base_uri": "https://localhost:8080/"
        },
        "id": "jMIIYe1iEsvl",
        "outputId": "48340bb8-cd9c-474e-9a3a-9d4128ac55e6"
      },
      "source": [
        "set(train['classes']) "
      ],
      "execution_count": 9,
      "outputs": [
        {
          "output_type": "execute_result",
          "data": {
            "text/plain": [
              "{'Not_offensive',\n",
              " 'Offensive_Targeted_Insult_Group',\n",
              " 'Offensive_Targeted_Insult_Individual',\n",
              " 'Offensive_Untargetede',\n",
              " 'not-malayalam'}"
            ]
          },
          "metadata": {
            "tags": []
          },
          "execution_count": 9
        }
      ]
    },
    {
      "cell_type": "code",
      "metadata": {
        "id": "-elc6Vsw58YT"
      },
      "source": [
        "encode_dict = {}\r\n",
        "\r\n",
        "def encode_cat(x):\r\n",
        "  if x not in encode_dict.keys():\r\n",
        "    encode_dict[x] = len(encode_dict)\r\n",
        "  return encode_dict[x]\r\n",
        "\r\n",
        "train['encode_cat'] = train['classes'].apply(lambda x: encode_cat(x))\r\n",
        "val['encode_cat'] = val['classes'].apply(lambda x: encode_cat(x))"
      ],
      "execution_count": 10,
      "outputs": []
    },
    {
      "cell_type": "code",
      "metadata": {
        "colab": {
          "base_uri": "https://localhost:8080/",
          "height": 331
        },
        "id": "E7KXwtzifRzx",
        "outputId": "dd8812c5-25cc-4491-9307-ce862630727a"
      },
      "source": [
        "train.head(9)"
      ],
      "execution_count": 11,
      "outputs": [
        {
          "output_type": "execute_result",
          "data": {
            "text/html": [
              "<div>\n",
              "<style scoped>\n",
              "    .dataframe tbody tr th:only-of-type {\n",
              "        vertical-align: middle;\n",
              "    }\n",
              "\n",
              "    .dataframe tbody tr th {\n",
              "        vertical-align: top;\n",
              "    }\n",
              "\n",
              "    .dataframe thead th {\n",
              "        text-align: right;\n",
              "    }\n",
              "</style>\n",
              "<table border=\"1\" class=\"dataframe\">\n",
              "  <thead>\n",
              "    <tr style=\"text-align: right;\">\n",
              "      <th></th>\n",
              "      <th>sentence</th>\n",
              "      <th>classes</th>\n",
              "      <th>encode_cat</th>\n",
              "    </tr>\n",
              "  </thead>\n",
              "  <tbody>\n",
              "    <tr>\n",
              "      <th>0</th>\n",
              "      <td>പലദേശം. പല ഭാഷ ഒരേ ഒരു രാജാവ്  അല്ലാതെ  സ്വന്ത...</td>\n",
              "      <td>Not_offensive</td>\n",
              "      <td>0</td>\n",
              "    </tr>\n",
              "    <tr>\n",
              "      <th>1</th>\n",
              "      <td>ഈ ഓണം ഏട്ടനും പിള്ളേർക്ക് ഉള്ളതാണ് എന്ന് ഉള്ളവ...</td>\n",
              "      <td>Not_offensive</td>\n",
              "      <td>0</td>\n",
              "    </tr>\n",
              "    <tr>\n",
              "      <th>2</th>\n",
              "      <td>ആരണ്ട ആരണ്ട തലുണ്ടാകാണാ ആരണ്ട ഞാൻ ആണ്ട ഞാൻ ആണ്...</td>\n",
              "      <td>Not_offensive</td>\n",
              "      <td>0</td>\n",
              "    </tr>\n",
              "    <tr>\n",
              "      <th>3</th>\n",
              "      <td>Sushin syam  Shaiju khalid  Midhun manual</td>\n",
              "      <td>Not_offensive</td>\n",
              "      <td>0</td>\n",
              "    </tr>\n",
              "    <tr>\n",
              "      <th>4</th>\n",
              "      <td>J A K E S.   B EJ O Y !!!</td>\n",
              "      <td>Not_offensive</td>\n",
              "      <td>0</td>\n",
              "    </tr>\n",
              "    <tr>\n",
              "      <th>5</th>\n",
              "      <td>Pwoli item padam kananda ennu karuthiyatha pak...</td>\n",
              "      <td>Not_offensive</td>\n",
              "      <td>0</td>\n",
              "    </tr>\n",
              "    <tr>\n",
              "      <th>6</th>\n",
              "      <td>Oru ratchasan feel kittitu ullalo. Bgm athra a...</td>\n",
              "      <td>Not_offensive</td>\n",
              "      <td>0</td>\n",
              "    </tr>\n",
              "    <tr>\n",
              "      <th>7</th>\n",
              "      <td>Super casting</td>\n",
              "      <td>Not_offensive</td>\n",
              "      <td>0</td>\n",
              "    </tr>\n",
              "    <tr>\n",
              "      <th>8</th>\n",
              "      <td>ഷൈലോക്ക് ന്റെ നല്ല ടീസർ ആയിട്ട് പോലും ട്രോളി ന...</td>\n",
              "      <td>Not_offensive</td>\n",
              "      <td>0</td>\n",
              "    </tr>\n",
              "  </tbody>\n",
              "</table>\n",
              "</div>"
            ],
            "text/plain": [
              "                                            sentence        classes  encode_cat\n",
              "0  പലദേശം. പല ഭാഷ ഒരേ ഒരു രാജാവ്  അല്ലാതെ  സ്വന്ത...  Not_offensive           0\n",
              "1  ഈ ഓണം ഏട്ടനും പിള്ളേർക്ക് ഉള്ളതാണ് എന്ന് ഉള്ളവ...  Not_offensive           0\n",
              "2  ആരണ്ട ആരണ്ട തലുണ്ടാകാണാ ആരണ്ട ഞാൻ ആണ്ട ഞാൻ ആണ്...  Not_offensive           0\n",
              "3          Sushin syam  Shaiju khalid  Midhun manual  Not_offensive           0\n",
              "4                          J A K E S.   B EJ O Y !!!  Not_offensive           0\n",
              "5  Pwoli item padam kananda ennu karuthiyatha pak...  Not_offensive           0\n",
              "6  Oru ratchasan feel kittitu ullalo. Bgm athra a...  Not_offensive           0\n",
              "7                                      Super casting  Not_offensive           0\n",
              "8  ഷൈലോക്ക് ന്റെ നല്ല ടീസർ ആയിട്ട് പോലും ട്രോളി ന...  Not_offensive           0"
            ]
          },
          "metadata": {
            "tags": []
          },
          "execution_count": 11
        }
      ]
    },
    {
      "cell_type": "code",
      "metadata": {
        "id": "HJFA_UYg2bE7"
      },
      "source": [
        "y_train = train['encode_cat']\r\n",
        "y_val = val['encode_cat']"
      ],
      "execution_count": 12,
      "outputs": []
    },
    {
      "cell_type": "code",
      "metadata": {
        "id": "6u0pzR9_31Cl"
      },
      "source": [
        "def clean(df):\r\n",
        "    df['sentence'] = df['sentence'].apply(lambda x: x.lower())\r\n",
        "    df['sentence'] = df['sentence'].apply(lambda x: re.sub(r' +', ' ',x))\r\n",
        "    df['sentence'] = df['sentence'].apply(lambda x: re.sub(\"[!@#$+%*:()'-]\", ' ',x))\r\n",
        "    df['sentence'] = df['sentence'].str.replace('\\d+', '')\r\n",
        "\r\n",
        "clean(train)\r\n",
        "clean(val)\r\n",
        "clean(test)"
      ],
      "execution_count": 13,
      "outputs": []
    },
    {
      "cell_type": "code",
      "metadata": {
        "id": "ZfYd1M-cOrb_"
      },
      "source": [
        "max_features = 2000\r\n",
        "max_len = 512\r\n",
        "tokenizer = Tokenizer(num_words=max_features, split=' ')"
      ],
      "execution_count": 14,
      "outputs": []
    },
    {
      "cell_type": "code",
      "metadata": {
        "id": "RTqpX_PzOxWo"
      },
      "source": [
        "tokenizer.fit_on_texts(train['sentence'].values)\r\n",
        "X_train = tokenizer.texts_to_sequences(train['sentence'].values)\r\n",
        "# vocab_size = len(tokenizer.word_index) + 1\r\n",
        "X_train = pad_sequences(X_train,padding = 'post', maxlen=max_len)"
      ],
      "execution_count": 15,
      "outputs": []
    },
    {
      "cell_type": "code",
      "metadata": {
        "id": "FrTV_3ZnPQig"
      },
      "source": [
        "tokenizer.fit_on_texts(val['sentence'].values)\r\n",
        "X_val = tokenizer.texts_to_sequences(val['sentence'].values)\r\n",
        "# vocab_size = len(tokenizer.word_index) + 1\r\n",
        "X_val = pad_sequences(X_val,padding = 'post', maxlen=max_len)"
      ],
      "execution_count": 16,
      "outputs": []
    },
    {
      "cell_type": "code",
      "metadata": {
        "id": "Xf5MSY0KqD-5"
      },
      "source": [
        "tokenizer.fit_on_texts(test['sentence'].values)\r\n",
        "X_test = tokenizer.texts_to_sequences(test['sentence'].values)\r\n",
        "# vocab_size = len(tokenizer.word_index) + 1\r\n",
        "X_test = pad_sequences(X_test,padding = 'post', maxlen=max_len)"
      ],
      "execution_count": 17,
      "outputs": []
    },
    {
      "cell_type": "code",
      "metadata": {
        "colab": {
          "base_uri": "https://localhost:8080/"
        },
        "id": "jc2tNrQTaozK",
        "outputId": "6274d079-00bf-4d82-8475-8da26da31dd0"
      },
      "source": [
        "train['sentence'].apply(len).max()"
      ],
      "execution_count": 18,
      "outputs": [
        {
          "output_type": "execute_result",
          "data": {
            "text/plain": [
              "1301"
            ]
          },
          "metadata": {
            "tags": []
          },
          "execution_count": 18
        }
      ]
    },
    {
      "cell_type": "code",
      "metadata": {
        "id": "jXIU_3S6GkKd",
        "colab": {
          "base_uri": "https://localhost:8080/",
          "height": 300
        },
        "outputId": "2baa3b07-66d2-4bc4-aa54-8280707b80c0"
      },
      "source": [
        "train.describe()"
      ],
      "execution_count": 19,
      "outputs": [
        {
          "output_type": "execute_result",
          "data": {
            "text/html": [
              "<div>\n",
              "<style scoped>\n",
              "    .dataframe tbody tr th:only-of-type {\n",
              "        vertical-align: middle;\n",
              "    }\n",
              "\n",
              "    .dataframe tbody tr th {\n",
              "        vertical-align: top;\n",
              "    }\n",
              "\n",
              "    .dataframe thead th {\n",
              "        text-align: right;\n",
              "    }\n",
              "</style>\n",
              "<table border=\"1\" class=\"dataframe\">\n",
              "  <thead>\n",
              "    <tr style=\"text-align: right;\">\n",
              "      <th></th>\n",
              "      <th>encode_cat</th>\n",
              "    </tr>\n",
              "  </thead>\n",
              "  <tbody>\n",
              "    <tr>\n",
              "      <th>count</th>\n",
              "      <td>16010.000000</td>\n",
              "    </tr>\n",
              "    <tr>\n",
              "      <th>mean</th>\n",
              "      <td>0.249656</td>\n",
              "    </tr>\n",
              "    <tr>\n",
              "      <th>std</th>\n",
              "      <td>0.737404</td>\n",
              "    </tr>\n",
              "    <tr>\n",
              "      <th>min</th>\n",
              "      <td>0.000000</td>\n",
              "    </tr>\n",
              "    <tr>\n",
              "      <th>25%</th>\n",
              "      <td>0.000000</td>\n",
              "    </tr>\n",
              "    <tr>\n",
              "      <th>50%</th>\n",
              "      <td>0.000000</td>\n",
              "    </tr>\n",
              "    <tr>\n",
              "      <th>75%</th>\n",
              "      <td>0.000000</td>\n",
              "    </tr>\n",
              "    <tr>\n",
              "      <th>max</th>\n",
              "      <td>4.000000</td>\n",
              "    </tr>\n",
              "  </tbody>\n",
              "</table>\n",
              "</div>"
            ],
            "text/plain": [
              "         encode_cat\n",
              "count  16010.000000\n",
              "mean       0.249656\n",
              "std        0.737404\n",
              "min        0.000000\n",
              "25%        0.000000\n",
              "50%        0.000000\n",
              "75%        0.000000\n",
              "max        4.000000"
            ]
          },
          "metadata": {
            "tags": []
          },
          "execution_count": 19
        }
      ]
    },
    {
      "cell_type": "code",
      "metadata": {
        "scrolled": true,
        "id": "TSw2ATdi58YU",
        "colab": {
          "base_uri": "https://localhost:8080/"
        },
        "outputId": "12fe74b6-1974-487f-942a-51ff7b47c4fb"
      },
      "source": [
        "Y_train = pd.get_dummies(y_train).values\n",
        "Y_val = pd.get_dummies(y_val).values\n",
        "print(X_train.shape,Y_train.shape)\n",
        "print(X_val.shape,Y_val.shape)\n",
        "print(X_test.shape)"
      ],
      "execution_count": 20,
      "outputs": [
        {
          "output_type": "stream",
          "text": [
            "(16010, 512) (16010, 5)\n",
            "(1999, 512) (1999, 5)\n",
            "(2001, 512)\n"
          ],
          "name": "stdout"
        }
      ]
    },
    {
      "cell_type": "code",
      "metadata": {
        "id": "KG1-jtH9B8UD"
      },
      "source": [
        "from keras.layers import Layer\r\n",
        "from keras.layers import Input\r\n",
        "from keras.models import Model\r\n",
        "from tensorflow.keras import backend as K\r\n",
        "\r\n",
        "class attention(Layer):\r\n",
        "    def __init__(self):\r\n",
        "        super(attention,self).__init__()\r\n",
        "\r\n",
        "    def build(self,input_shape):\r\n",
        "        self.W=self.add_weight(name=\"att_weight\",shape=(input_shape[-1],1),initializer=\"normal\")\r\n",
        "        self.b=self.add_weight(name=\"att_bias\",shape=(input_shape[1],1),initializer=\"zeros\")        \r\n",
        "        super(attention, self).build(input_shape)\r\n",
        "\r\n",
        "    def call(self,x):\r\n",
        "        et=K.squeeze(K.tanh(K.dot(x,self.W)+self.b),axis=-1)\r\n",
        "        at=K.softmax(et)\r\n",
        "        at=K.expand_dims(at,axis=-1)\r\n",
        "        output=x*at\r\n",
        "        return K.sum(output,axis=1)\r\n",
        "\r\n",
        "    def compute_output_shape(self,input_shape):\r\n",
        "        return (input_shape[0],input_shape[-1])\r\n",
        "\r\n",
        "    def get_config(self):\r\n",
        "        return super(attention,self).get_config()"
      ],
      "execution_count": 21,
      "outputs": []
    },
    {
      "cell_type": "code",
      "metadata": {
        "id": "vrSHNPABEgWG",
        "colab": {
          "base_uri": "https://localhost:8080/"
        },
        "outputId": "41999c84-2312-4f13-9c54-d5927dde6d7b"
      },
      "source": [
        "!wget --header=\"Host: nlp.stanford.edu\" --header=\"User-Agent: Mozilla/5.0 (Windows NT 10.0; Win64; x64) AppleWebKit/537.36 (KHTML, like Gecko) Chrome/69.0.3497.100 Safari/537.36\" --header=\"Accept: text/html,application/xhtml+xml,application/xml;q=0.9,image/webp,image/apng,*/*;q=0.8\" --header=\"Accept-Language: en-US,en;q=0.9\" --header=\"Cookie: _ga=GA1.2.456156586.1539718115; _gid=GA1.2.491677602.1539718115; _gat=1\" --header=\"Connection: keep-alive\" \"https://nlp.stanford.edu/data/glove.6B.zip\" -O \"glove.6B.zip\" -c"
      ],
      "execution_count": 22,
      "outputs": [
        {
          "output_type": "stream",
          "text": [
            "--2021-01-08 16:08:18--  https://nlp.stanford.edu/data/glove.6B.zip\n",
            "Resolving nlp.stanford.edu (nlp.stanford.edu)... 171.64.67.140\n",
            "Connecting to nlp.stanford.edu (nlp.stanford.edu)|171.64.67.140|:443... connected.\n",
            "HTTP request sent, awaiting response... 301 Moved Permanently\n",
            "Location: http://downloads.cs.stanford.edu/nlp/data/glove.6B.zip [following]\n",
            "--2021-01-08 16:08:18--  http://downloads.cs.stanford.edu/nlp/data/glove.6B.zip\n",
            "Resolving downloads.cs.stanford.edu (downloads.cs.stanford.edu)... 171.64.64.22\n",
            "Connecting to downloads.cs.stanford.edu (downloads.cs.stanford.edu)|171.64.64.22|:80... connected.\n",
            "HTTP request sent, awaiting response... 200 OK\n",
            "Length: 862182613 (822M) [application/zip]\n",
            "Saving to: ‘glove.6B.zip’\n",
            "\n",
            "glove.6B.zip        100%[===================>] 822.24M  2.15MB/s    in 6m 28s  \n",
            "\n",
            "2021-01-08 16:14:46 (2.12 MB/s) - ‘glove.6B.zip’ saved [862182613/862182613]\n",
            "\n"
          ],
          "name": "stdout"
        }
      ]
    },
    {
      "cell_type": "code",
      "metadata": {
        "id": "NHvWvMW0HcYr",
        "colab": {
          "base_uri": "https://localhost:8080/"
        },
        "outputId": "f847143c-2d2b-4f70-8a73-1cfeadc843fc"
      },
      "source": [
        "!unzip glove.6B.zip"
      ],
      "execution_count": 23,
      "outputs": [
        {
          "output_type": "stream",
          "text": [
            "Archive:  glove.6B.zip\n",
            "  inflating: glove.6B.50d.txt        \n",
            "  inflating: glove.6B.100d.txt       \n",
            "  inflating: glove.6B.200d.txt       \n",
            "  inflating: glove.6B.300d.txt       \n"
          ],
          "name": "stdout"
        }
      ]
    },
    {
      "cell_type": "code",
      "metadata": {
        "colab": {
          "base_uri": "https://localhost:8080/"
        },
        "id": "z08Bm1OsAl-D",
        "outputId": "a5ec2011-c9b7-48de-dbf7-fa0aa1681ab1"
      },
      "source": [
        " from numpy import array\r\n",
        " from numpy import asarray\r\n",
        " from numpy import zeros\r\n",
        "\r\n",
        " embeddings_index = dict()\r\n",
        "\r\n",
        " glove_file = open('glove.6B.100d.txt', encoding=\"utf8\")\r\n",
        "\r\n",
        " for line in glove_file:\r\n",
        "     records = line.split()\r\n",
        "     word = records[0]\r\n",
        "     vector_dimensions = asarray(records[1:], dtype='float32')\r\n",
        "     embeddings_index[word] = vector_dimensions\r\n",
        " glove_file.close()\r\n",
        "\r\n",
        " print('Found %s word vectors.' %len(embeddings_index))"
      ],
      "execution_count": 24,
      "outputs": [
        {
          "output_type": "stream",
          "text": [
            "Found 400000 word vectors.\n"
          ],
          "name": "stdout"
        }
      ]
    },
    {
      "cell_type": "code",
      "metadata": {
        "colab": {
          "base_uri": "https://localhost:8080/"
        },
        "id": "ofCuMn2yQeV3",
        "outputId": "ef0a62ee-af36-45d2-f792-7c28dec152ff"
      },
      "source": [
        "word_index = tokenizer.word_index\r\n",
        "print(len(word_index))\r\n",
        "\r\n",
        "\r\n",
        "num_words = min(max_features, len(word_index)) + 1\r\n",
        "print(num_words)\r\n",
        "\r\n",
        "embedding_dim = 100\r\n",
        "\r\n",
        "embedding_matrix = np.zeros((num_words, embedding_dim))\r\n",
        "\r\n",
        "for word, i in word_index.items():\r\n",
        "    if i > max_features:\r\n",
        "        continue\r\n",
        "    embedding_vector = embeddings_index.get(word)\r\n",
        "    if embedding_vector is not None:\r\n",
        "        embedding_matrix[i] = embedding_vector\r\n",
        "    else:\r\n",
        "        embedding_matrix[i] = np.random.randn(embedding_dim)"
      ],
      "execution_count": 25,
      "outputs": [
        {
          "output_type": "stream",
          "text": [
            "34785\n",
            "2001\n"
          ],
          "name": "stdout"
        }
      ]
    },
    {
      "cell_type": "code",
      "metadata": {
        "id": "mJprJe1-58YV",
        "colab": {
          "base_uri": "https://localhost:8080/"
        },
        "outputId": "8532a241-73a4-4f50-a8c2-00f4293cf0aa"
      },
      "source": [
        "K.clear_session()\n",
        "from keras.regularizers import l2\n",
        "from keras.initializers import Constant\n",
        "embed_dim = 100\n",
        "lstm_out = 128\n",
        "# model = Sequential()\n",
        "inputs = Input(shape=(512,))\n",
        "x = Embedding(num_words, embed_dim,embeddings_initializer=Constant(embedding_matrix),input_length = X_train.shape[1])(inputs)\n",
        "att_in = Bidirectional(LSTM(lstm_out,return_sequences=True, dropout=0.2))(x)\n",
        "att_out = attention()(att_in)\n",
        "d = Dropout(0.2)(att_out)\n",
        "outputs = Dense(5, activation='softmax')(d)\n",
        "model = Model(inputs,outputs)\n",
        "print(model.summary())"
      ],
      "execution_count": 26,
      "outputs": [
        {
          "output_type": "stream",
          "text": [
            "Model: \"model\"\n",
            "_________________________________________________________________\n",
            "Layer (type)                 Output Shape              Param #   \n",
            "=================================================================\n",
            "input_1 (InputLayer)         [(None, 512)]             0         \n",
            "_________________________________________________________________\n",
            "embedding (Embedding)        (None, 512, 100)          200100    \n",
            "_________________________________________________________________\n",
            "bidirectional (Bidirectional (None, 512, 256)          234496    \n",
            "_________________________________________________________________\n",
            "attention (attention)        (None, 256)               768       \n",
            "_________________________________________________________________\n",
            "dropout (Dropout)            (None, 256)               0         \n",
            "_________________________________________________________________\n",
            "dense (Dense)                (None, 5)                 1285      \n",
            "=================================================================\n",
            "Total params: 436,649\n",
            "Trainable params: 436,649\n",
            "Non-trainable params: 0\n",
            "_________________________________________________________________\n",
            "None\n"
          ],
          "name": "stdout"
        }
      ]
    },
    {
      "cell_type": "code",
      "metadata": {
        "id": "Vd_MbvzTcyVx"
      },
      "source": [
        "import numpy as np\r\n",
        "\r\n",
        "from sklearn.utils import class_weight\r\n",
        "class_weights = class_weight.compute_class_weight('balanced',\r\n",
        "                                                  np.unique(train.encode_cat.values),\r\n",
        "                                                  train.encode_cat.values)\r\n",
        "class_weights = dict(enumerate(class_weights))"
      ],
      "execution_count": 27,
      "outputs": []
    },
    {
      "cell_type": "code",
      "metadata": {
        "id": "o26sXGrN58YV"
      },
      "source": [
        "model.compile(loss = 'categorical_crossentropy', optimizer='adam',metrics = ['accuracy'])"
      ],
      "execution_count": 28,
      "outputs": []
    },
    {
      "cell_type": "code",
      "metadata": {
        "id": "8WjQJdxS58YV",
        "colab": {
          "base_uri": "https://localhost:8080/"
        },
        "outputId": "4766d33e-2ef4-4499-efc0-fa5f231d98e6"
      },
      "source": [
        "history = model.fit(X_train, Y_train,batch_size = 64,class_weight=class_weights, validation_data=(X_val,Y_val), epochs=10, verbose=2)"
      ],
      "execution_count": 68,
      "outputs": [
        {
          "output_type": "stream",
          "text": [
            "Epoch 1/10\n",
            "251/251 - 17s - loss: 0.1155 - accuracy: 0.9365 - val_loss: 1.1512 - val_accuracy: 0.8014\n",
            "Epoch 2/10\n",
            "251/251 - 17s - loss: 0.1233 - accuracy: 0.9361 - val_loss: 1.1823 - val_accuracy: 0.7974\n",
            "Epoch 3/10\n",
            "251/251 - 17s - loss: 0.1163 - accuracy: 0.9360 - val_loss: 1.1916 - val_accuracy: 0.8004\n",
            "Epoch 4/10\n",
            "251/251 - 17s - loss: 0.1144 - accuracy: 0.9371 - val_loss: 1.1955 - val_accuracy: 0.7959\n",
            "Epoch 5/10\n",
            "251/251 - 17s - loss: 0.1153 - accuracy: 0.9384 - val_loss: 1.2023 - val_accuracy: 0.8054\n",
            "Epoch 6/10\n",
            "251/251 - 17s - loss: 0.1137 - accuracy: 0.9377 - val_loss: 1.2077 - val_accuracy: 0.7944\n",
            "Epoch 7/10\n",
            "251/251 - 17s - loss: 0.1034 - accuracy: 0.9379 - val_loss: 1.1914 - val_accuracy: 0.7944\n",
            "Epoch 8/10\n",
            "251/251 - 17s - loss: 0.1249 - accuracy: 0.9349 - val_loss: 1.1807 - val_accuracy: 0.7904\n",
            "Epoch 9/10\n",
            "251/251 - 17s - loss: 0.1290 - accuracy: 0.9355 - val_loss: 1.2389 - val_accuracy: 0.7889\n",
            "Epoch 10/10\n",
            "251/251 - 17s - loss: 0.1032 - accuracy: 0.9413 - val_loss: 1.2520 - val_accuracy: 0.7969\n"
          ],
          "name": "stdout"
        }
      ]
    },
    {
      "cell_type": "code",
      "metadata": {
        "id": "oAXX9MhW58YV",
        "colab": {
          "base_uri": "https://localhost:8080/",
          "height": 295
        },
        "outputId": "db2b2701-ae64-45af-a633-132013b7c34a"
      },
      "source": [
        "import matplotlib.pyplot as plt\n",
        "\n",
        "plt.plot(history.history['accuracy']) \n",
        "plt.plot(history.history['val_accuracy'])\n",
        "plt.title('Model Accuracy')\n",
        "plt.ylabel('accuracy')\n",
        "plt.xlabel('epoch')\n",
        "plt.legend(['train','val'])\n",
        "#plt.show()\n",
        "plt.savefig('Model_accuracy.png', dpi=600)"
      ],
      "execution_count": 69,
      "outputs": [
        {
          "output_type": "display_data",
          "data": {
            "image/png": "[encoded data removed]",
            "text/plain": [
              "<Figure size 432x288 with 1 Axes>"
            ]
          },
          "metadata": {
            "tags": [],
            "needs_background": "light"
          }
        }
      ]
    },
    {
      "cell_type": "code",
      "metadata": {
        "id": "yiKiSsH258YV"
      },
      "source": [
        "# score = model.evaluate(X_test,verbose=1)\n",
        "predictions = np.argmax(model.predict(X_val),axis = -1)\n",
        "\n",
        "# print(\"val score is {}\".format(score[0]))\n",
        "# print(\"val Accuracy is {}\".format(score[1]))"
      ],
      "execution_count": 70,
      "outputs": []
    },
    {
      "cell_type": "code",
      "metadata": {
        "id": "_W8yOC-658YW"
      },
      "source": [
        "_, train_acc = model.evaluate(X_train, Y_train, verbose=0)\n",
        "_, val_acc = model.evaluate(X_val, Y_val, verbose=0)"
      ],
      "execution_count": 71,
      "outputs": []
    },
    {
      "cell_type": "code",
      "metadata": {
        "colab": {
          "base_uri": "https://localhost:8080/"
        },
        "id": "M7QFzBZ2x2xn",
        "outputId": "089a5286-d988-4d32-96ae-a8b8bc38bed4"
      },
      "source": [
        "print(val_acc)\r\n",
        "print(train_acc)"
      ],
      "execution_count": 72,
      "outputs": [
        {
          "output_type": "stream",
          "text": [
            "0.7968984246253967\n",
            "0.9494690895080566\n"
          ],
          "name": "stdout"
        }
      ]
    },
    {
      "cell_type": "code",
      "metadata": {
        "id": "dFhcUPgE58YW",
        "colab": {
          "base_uri": "https://localhost:8080/"
        },
        "outputId": "e68371eb-8601-4f0f-bb62-8bffd71cad1b"
      },
      "source": [
        "rounded_predictions = np.argmax(model.predict(X_test, batch_size=128, verbose=0),axis = -1)\r\n",
        "print(rounded_predictions)"
      ],
      "execution_count": 73,
      "outputs": [
        {
          "output_type": "stream",
          "text": [
            "[0 0 0 ... 0 0 0]\n"
          ],
          "name": "stdout"
        }
      ]
    },
    {
      "cell_type": "code",
      "metadata": {
        "id": "6hNuh6uFwCFo"
      },
      "source": [
        "import numpy as np\r\n",
        "rounded_labels=np.argmax(Y_val, axis=1)"
      ],
      "execution_count": 74,
      "outputs": []
    },
    {
      "cell_type": "code",
      "metadata": {
        "colab": {
          "base_uri": "https://localhost:8080/"
        },
        "id": "TwjhPv0OwHQc",
        "outputId": "c9dcb6eb-ea4d-4fe3-8edd-6363fe89331c"
      },
      "source": [
        "from sklearn.metrics import classification_report\r\n",
        "print(classification_report(rounded_labels, predictions))"
      ],
      "execution_count": 75,
      "outputs": [
        {
          "output_type": "stream",
          "text": [
            "              precision    recall  f1-score   support\n",
            "\n",
            "           0       0.90      0.88      0.89      1779\n",
            "           1       0.05      0.21      0.09        24\n",
            "           2       0.20      0.13      0.16       163\n",
            "           3       0.05      0.15      0.07        13\n",
            "           4       0.07      0.10      0.08        20\n",
            "\n",
            "    accuracy                           0.80      1999\n",
            "   macro avg       0.26      0.29      0.26      1999\n",
            "weighted avg       0.82      0.80      0.81      1999\n",
            "\n"
          ],
          "name": "stdout"
        }
      ]
    },
    {
      "cell_type": "code",
      "metadata": {
        "id": "U-37cWpc58YW",
        "colab": {
          "base_uri": "https://localhost:8080/",
          "height": 423
        },
        "outputId": "2be8e624-25d2-4cfa-c3ab-331c37fdec48"
      },
      "source": [
        "a = {'id':[i for i in range(2001)]}\r\n",
        "a = pd.DataFrame(a)\r\n",
        "\r\n",
        "df = pd.DataFrame({'id':a.id,'labels':rounded_predictions})\r\n",
        "df.labels = df.labels.apply({0:'Not_offensive',4:'Offensive_Untargetede',3:'Offensive_Targeted_Insult_Group',\r\n",
        "1:'Offensive_Targeted_Insult_Individual',2:'not-malayalam'}.get)\r\n",
        "df"
      ],
      "execution_count": 76,
      "outputs": [
        {
          "output_type": "execute_result",
          "data": {
            "text/html": [
              "<div>\n",
              "<style scoped>\n",
              "    .dataframe tbody tr th:only-of-type {\n",
              "        vertical-align: middle;\n",
              "    }\n",
              "\n",
              "    .dataframe tbody tr th {\n",
              "        vertical-align: top;\n",
              "    }\n",
              "\n",
              "    .dataframe thead th {\n",
              "        text-align: right;\n",
              "    }\n",
              "</style>\n",
              "<table border=\"1\" class=\"dataframe\">\n",
              "  <thead>\n",
              "    <tr style=\"text-align: right;\">\n",
              "      <th></th>\n",
              "      <th>id</th>\n",
              "      <th>labels</th>\n",
              "    </tr>\n",
              "  </thead>\n",
              "  <tbody>\n",
              "    <tr>\n",
              "      <th>0</th>\n",
              "      <td>0</td>\n",
              "      <td>Not_offensive</td>\n",
              "    </tr>\n",
              "    <tr>\n",
              "      <th>1</th>\n",
              "      <td>1</td>\n",
              "      <td>Not_offensive</td>\n",
              "    </tr>\n",
              "    <tr>\n",
              "      <th>2</th>\n",
              "      <td>2</td>\n",
              "      <td>Not_offensive</td>\n",
              "    </tr>\n",
              "    <tr>\n",
              "      <th>3</th>\n",
              "      <td>3</td>\n",
              "      <td>Not_offensive</td>\n",
              "    </tr>\n",
              "    <tr>\n",
              "      <th>4</th>\n",
              "      <td>4</td>\n",
              "      <td>Not_offensive</td>\n",
              "    </tr>\n",
              "    <tr>\n",
              "      <th>...</th>\n",
              "      <td>...</td>\n",
              "      <td>...</td>\n",
              "    </tr>\n",
              "    <tr>\n",
              "      <th>1996</th>\n",
              "      <td>1996</td>\n",
              "      <td>Not_offensive</td>\n",
              "    </tr>\n",
              "    <tr>\n",
              "      <th>1997</th>\n",
              "      <td>1997</td>\n",
              "      <td>Not_offensive</td>\n",
              "    </tr>\n",
              "    <tr>\n",
              "      <th>1998</th>\n",
              "      <td>1998</td>\n",
              "      <td>Not_offensive</td>\n",
              "    </tr>\n",
              "    <tr>\n",
              "      <th>1999</th>\n",
              "      <td>1999</td>\n",
              "      <td>Not_offensive</td>\n",
              "    </tr>\n",
              "    <tr>\n",
              "      <th>2000</th>\n",
              "      <td>2000</td>\n",
              "      <td>Not_offensive</td>\n",
              "    </tr>\n",
              "  </tbody>\n",
              "</table>\n",
              "<p>2001 rows × 2 columns</p>\n",
              "</div>"
            ],
            "text/plain": [
              "        id         labels\n",
              "0        0  Not_offensive\n",
              "1        1  Not_offensive\n",
              "2        2  Not_offensive\n",
              "3        3  Not_offensive\n",
              "4        4  Not_offensive\n",
              "...    ...            ...\n",
              "1996  1996  Not_offensive\n",
              "1997  1997  Not_offensive\n",
              "1998  1998  Not_offensive\n",
              "1999  1999  Not_offensive\n",
              "2000  2000  Not_offensive\n",
              "\n",
              "[2001 rows x 2 columns]"
            ]
          },
          "metadata": {
            "tags": []
          },
          "execution_count": 76
        }
      ]
    },
    {
      "cell_type": "code",
      "metadata": {
        "colab": {
          "base_uri": "https://localhost:8080/",
          "height": 17
        },
        "id": "WLJ7wLOC4Qm1",
        "outputId": "b1292602-c2f5-4c0f-da9b-787e5f6d4428"
      },
      "source": [
        "df.to_csv('LSTM_with_attention_Malayalam_submission.csv',index=False)\r\n",
        "from google.colab import files\r\n",
        "files.download(\"LSTM_with_attention_Malayalam_submission.csv\")"
      ],
      "execution_count": 77,
      "outputs": [
        {
          "output_type": "display_data",
          "data": {
            "application/javascript": [
              "\n",
              "    async function download(id, filename, size) {\n",
              "      if (!google.colab.kernel.accessAllowed) {\n",
              "        return;\n",
              "      }\n",
              "      const div = document.createElement('div');\n",
              "      const label = document.createElement('label');\n",
              "      label.textContent = `Downloading \"${filename}\": `;\n",
              "      div.appendChild(label);\n",
              "      const progress = document.createElement('progress');\n",
              "      progress.max = size;\n",
              "      div.appendChild(progress);\n",
              "      document.body.appendChild(div);\n",
              "\n",
              "      const buffers = [];\n",
              "      let downloaded = 0;\n",
              "\n",
              "      const channel = await google.colab.kernel.comms.open(id);\n",
              "      // Send a message to notify the kernel that we're ready.\n",
              "      channel.send({})\n",
              "\n",
              "      for await (const message of channel.messages) {\n",
              "        // Send a message to notify the kernel that we're ready.\n",
              "        channel.send({})\n",
              "        if (message.buffers) {\n",
              "          for (const buffer of message.buffers) {\n",
              "            buffers.push(buffer);\n",
              "            downloaded += buffer.byteLength;\n",
              "            progress.value = downloaded;\n",
              "          }\n",
              "        }\n",
              "      }\n",
              "      const blob = new Blob(buffers, {type: 'application/binary'});\n",
              "      const a = document.createElement('a');\n",
              "      a.href = window.URL.createObjectURL(blob);\n",
              "      a.download = filename;\n",
              "      div.appendChild(a);\n",
              "      a.click();\n",
              "      div.remove();\n",
              "    }\n",
              "  "
            ],
            "text/plain": [
              "<IPython.core.display.Javascript object>"
            ]
          },
          "metadata": {
            "tags": []
          }
        },
        {
          "output_type": "display_data",
          "data": {
            "application/javascript": [
              "download(\"download_491f0ba1-21ce-49bc-9ecf-aec647cba96f\", \"LSTM_with_attention_Malayalam_submission.csv\", 39801)"
            ],
            "text/plain": [
              "<IPython.core.display.Javascript object>"
            ]
          },
          "metadata": {
            "tags": []
          }
        }
      ]
    },
    {
      "cell_type": "code",
      "metadata": {
        "id": "Tu02IKHT9ql1"
      },
      "source": [
        ""
      ],
      "execution_count": null,
      "outputs": []
    }
  ]
}
