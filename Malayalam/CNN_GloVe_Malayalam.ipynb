{
  "nbformat": 4,
  "nbformat_minor": 0,
  "metadata": {
    "colab": {
      "name": "CNN_GloVe_Malayalam.ipynb",
      "provenance": []
    },
    "kernelspec": {
      "name": "python3",
      "display_name": "Python 3"
    }
  },
  "cells": [
    {
      "cell_type": "code",
      "metadata": {
        "id": "JuW_g2qRCffY"
      },
      "source": [
        "import os\r\n",
        "import re\r\n",
        "import numpy as np\r\n",
        "import pandas as pd\r\n",
        "import matplotlib.pyplot as plt\r\n",
        "import torch\r\n",
        "\r\n",
        "%matplotlib inline"
      ],
      "execution_count": 1,
      "outputs": []
    },
    {
      "cell_type": "code",
      "metadata": {
        "colab": {
          "base_uri": "https://localhost:8080/"
        },
        "id": "mKE7v6bJCOei",
        "outputId": "715db284-a506-4449-9d16-fcc87921ba34"
      },
      "source": [
        "from google.colab import drive\r\n",
        "drive.mount('/content/drive')"
      ],
      "execution_count": 2,
      "outputs": [
        {
          "output_type": "stream",
          "text": [
            "Mounted at /content/drive\n"
          ],
          "name": "stdout"
        }
      ]
    },
    {
      "cell_type": "code",
      "metadata": {
        "id": "4D9PP6DlCm6l"
      },
      "source": [
        "train = pd.read_csv('/content/drive/MyDrive/Colab Notebooks/mal_full_offensive_train.csv', delimiter='\\t', names=['text','label','nan'])\r\n",
        "train = train.drop(columns=['nan'])\r\n",
        "train.label = train.label.apply({'Not_offensive':0,'Offensive_Untargetede':1,'Offensive_Targeted_Insult_Group':2,'Offensive_Targeted_Insult_Individual':3,'not-malayalam':4}.get)"
      ],
      "execution_count": 51,
      "outputs": []
    },
    {
      "cell_type": "code",
      "metadata": {
        "id": "fdvrP6BDC4dK"
      },
      "source": [
        "val = pd.read_csv('/content/drive/MyDrive/Colab Notebooks/mal_full_offensive_dev.csv', delimiter='\\t', names=['text','label','nan'])\r\n",
        "val = val.drop(columns=['nan'])\r\n",
        "val.label = val.label.apply({'Not_offensive':0,'Offensive_Untargetede':1,'Offensive_Targeted_Insult_Group':2,'Offensive_Targeted_Insult_Individual':3,'not-malayalam':4}.get)"
      ],
      "execution_count": 52,
      "outputs": []
    },
    {
      "cell_type": "code",
      "metadata": {
        "id": "t9qGdxZb_KE2"
      },
      "source": [
        "test = pd.read_csv('/content/drive/MyDrive/Colab Notebooks/mal_full_offensive_test.csv',delimiter='\\t',names=['text'])"
      ],
      "execution_count": 53,
      "outputs": []
    },
    {
      "cell_type": "code",
      "metadata": {
        "id": "sFN0FGuHEh41"
      },
      "source": [
        "import re\r\n",
        "def clean(df):\r\n",
        "    df['text'] = df['text'].apply(lambda x: x.lower())\r\n",
        "    df['text'] = df['text'].apply(lambda x: re.sub(r' +', ' ',x))\r\n",
        "    df['text'] = df['text'].apply(lambda x: re.sub(\"[!@#$+%*:()'-]\", ' ',x))\r\n",
        "    df['text'] = df['text'].str.replace('\\d+', '')\r\n",
        "\r\n",
        "clean(train)\r\n",
        "clean(val)\r\n",
        "clean(test)"
      ],
      "execution_count": 54,
      "outputs": []
    },
    {
      "cell_type": "code",
      "metadata": {
        "id": "K91Sf7hZGPYj"
      },
      "source": [
        "from keras.preprocessing.text import Tokenizer\r\n",
        "from keras.preprocessing.sequence import pad_sequences\r\n",
        "max_features = 2000\r\n",
        "max_len = 512\r\n",
        "tokenizer = Tokenizer(num_words=max_features, split=' ')"
      ],
      "execution_count": 56,
      "outputs": []
    },
    {
      "cell_type": "code",
      "metadata": {
        "id": "lhXwNX72QP5C"
      },
      "source": [
        "tokenizer.fit_on_texts(train['text'].values)\r\n",
        "X_train = tokenizer.texts_to_sequences(train['text'].values)\r\n",
        "# vocab_size = len(tokenizer.word_index) + 1\r\n",
        "X_train = pad_sequences(X_train,padding = 'post', maxlen=max_len)"
      ],
      "execution_count": 57,
      "outputs": []
    },
    {
      "cell_type": "code",
      "metadata": {
        "id": "7RLAoB3pQZCK"
      },
      "source": [
        "tokenizer.fit_on_texts(val['text'].values)\r\n",
        "X_val = tokenizer.texts_to_sequences(val['text'].values)\r\n",
        "# vocab_size = len(tokenizer.word_index) + 1\r\n",
        "X_val = pad_sequences(X_val,padding = 'post', maxlen=max_len)"
      ],
      "execution_count": 58,
      "outputs": []
    },
    {
      "cell_type": "code",
      "metadata": {
        "id": "666L6aVn_d3G"
      },
      "source": [
        "tokenizer.fit_on_texts(test['text'].values)\r\n",
        "X_test = tokenizer.texts_to_sequences(test['text'].values)\r\n",
        "# vocab_size = len(tokenizer.word_index) + 1\r\n",
        "X_test = pad_sequences(X_test,padding = 'post', maxlen=max_len)"
      ],
      "execution_count": 59,
      "outputs": []
    },
    {
      "cell_type": "code",
      "metadata": {
        "colab": {
          "base_uri": "https://localhost:8080/"
        },
        "id": "QvKeTGylSNhA",
        "outputId": "f86096cf-b4c3-4711-dd19-a4d910bc2fcb"
      },
      "source": [
        "!wget --header=\"Host: nlp.stanford.edu\" --header=\"User-Agent: Mozilla/5.0 (Windows NT 10.0; Win64; x64) AppleWebKit/537.36 (KHTML, like Gecko) Chrome/69.0.3497.100 Safari/537.36\" --header=\"Accept: text/html,application/xhtml+xml,application/xml;q=0.9,image/webp,image/apng,*/*;q=0.8\" --header=\"Accept-Language: en-US,en;q=0.9\" --header=\"Cookie: _ga=GA1.2.456156586.1539718115; _gid=GA1.2.491677602.1539718115; _gat=1\" --header=\"Connection: keep-alive\" \"https://nlp.stanford.edu/data/glove.6B.zip\" -O \"glove.6B.zip\" -c"
      ],
      "execution_count": 13,
      "outputs": [
        {
          "output_type": "stream",
          "text": [
            "--2021-01-08 12:34:53--  https://nlp.stanford.edu/data/glove.6B.zip\n",
            "Resolving nlp.stanford.edu (nlp.stanford.edu)... 171.64.67.140\n",
            "Connecting to nlp.stanford.edu (nlp.stanford.edu)|171.64.67.140|:443... connected.\n",
            "HTTP request sent, awaiting response... 301 Moved Permanently\n",
            "Location: http://downloads.cs.stanford.edu/nlp/data/glove.6B.zip [following]\n",
            "--2021-01-08 12:34:53--  http://downloads.cs.stanford.edu/nlp/data/glove.6B.zip\n",
            "Resolving downloads.cs.stanford.edu (downloads.cs.stanford.edu)... 171.64.64.22\n",
            "Connecting to downloads.cs.stanford.edu (downloads.cs.stanford.edu)|171.64.64.22|:80... connected.\n",
            "HTTP request sent, awaiting response... 200 OK\n",
            "Length: 862182613 (822M) [application/zip]\n",
            "Saving to: ‘glove.6B.zip’\n",
            "\n",
            "glove.6B.zip        100%[===================>] 822.24M  2.17MB/s    in 6m 28s  \n",
            "\n",
            "2021-01-08 12:41:22 (2.12 MB/s) - ‘glove.6B.zip’ saved [862182613/862182613]\n",
            "\n"
          ],
          "name": "stdout"
        }
      ]
    },
    {
      "cell_type": "code",
      "metadata": {
        "colab": {
          "base_uri": "https://localhost:8080/"
        },
        "id": "VGm6El68SSTJ",
        "outputId": "62e067bb-639e-4beb-9451-2e718ce3861f"
      },
      "source": [
        "!unzip glove.6B.zip"
      ],
      "execution_count": 14,
      "outputs": [
        {
          "output_type": "stream",
          "text": [
            "Archive:  glove.6B.zip\n",
            "  inflating: glove.6B.50d.txt        \n",
            "  inflating: glove.6B.100d.txt       \n",
            "  inflating: glove.6B.200d.txt       \n",
            "  inflating: glove.6B.300d.txt       \n"
          ],
          "name": "stdout"
        }
      ]
    },
    {
      "cell_type": "code",
      "metadata": {
        "colab": {
          "base_uri": "https://localhost:8080/"
        },
        "id": "JBFBFK13Ql-z",
        "outputId": "f4664d50-b45e-4a0f-92cd-526b618461f6"
      },
      "source": [
        "from numpy import array\r\n",
        "from numpy import asarray\r\n",
        "from numpy import zeros\r\n",
        "\r\n",
        "embeddings_index = dict()\r\n",
        "\r\n",
        "glove_file = open('glove.6B.100d.txt', encoding=\"utf8\")\r\n",
        "\r\n",
        "for line in glove_file:\r\n",
        "     records = line.split()\r\n",
        "     word = records[0]\r\n",
        "     vector_dimensions = asarray(records[1:], dtype='float32')\r\n",
        "     embeddings_index[word] = vector_dimensions\r\n",
        "glove_file.close()\r\n",
        "\r\n",
        "print('Found %s word vectors.' %len(embeddings_index))"
      ],
      "execution_count": 15,
      "outputs": [
        {
          "output_type": "stream",
          "text": [
            "Found 400000 word vectors.\n"
          ],
          "name": "stdout"
        }
      ]
    },
    {
      "cell_type": "code",
      "metadata": {
        "colab": {
          "base_uri": "https://localhost:8080/"
        },
        "id": "xNSzHXg6Q15M",
        "outputId": "43b5da0e-bbbd-4f01-9b0e-3990de46d3cc"
      },
      "source": [
        "word_index = tokenizer.word_index\r\n",
        "print(len(word_index))\r\n",
        "\r\n",
        "\r\n",
        "num_words = min(max_features, len(word_index)) + 1\r\n",
        "print(num_words)\r\n",
        "\r\n",
        "embedding_dim = 100\r\n",
        "\r\n",
        "embedding_matrix = np.zeros((num_words, embedding_dim))\r\n",
        "\r\n",
        "for word, i in word_index.items():\r\n",
        "    if i > max_features:\r\n",
        "        continue\r\n",
        "    embedding_vector = embeddings_index.get(word)\r\n",
        "    if embedding_vector is not None:\r\n",
        "        embedding_matrix[i] = embedding_vector\r\n",
        "    else:\r\n",
        "        embedding_matrix[i] = np.random.randn(embedding_dim)"
      ],
      "execution_count": 16,
      "outputs": [
        {
          "output_type": "stream",
          "text": [
            "18333\n",
            "2001\n"
          ],
          "name": "stdout"
        }
      ]
    },
    {
      "cell_type": "code",
      "metadata": {
        "colab": {
          "base_uri": "https://localhost:8080/"
        },
        "id": "WPF72zGIScTz",
        "outputId": "b6d53e48-d4d8-487e-9159-ec088a9d3a64"
      },
      "source": [
        "from keras.models import Sequential\r\n",
        "from keras.initializers import Constant\r\n",
        "from keras import layers\r\n",
        "embed_dim = 100\r\n",
        "\r\n",
        "model = Sequential()\r\n",
        "model.add(layers.Embedding(num_words, embed_dim, embeddings_initializer=Constant(embedding_matrix), input_length=max_len))\r\n",
        "model.add(layers.Conv1D(128, 5, activation='relu'))\r\n",
        "model.add(layers.GlobalMaxPooling1D())\r\n",
        "model.add(layers.Dropout(0.2))\r\n",
        "model.add(layers.Dense(5, activation='softmax'))\r\n",
        "print(model.summary())"
      ],
      "execution_count": 60,
      "outputs": [
        {
          "output_type": "stream",
          "text": [
            "Model: \"sequential_2\"\n",
            "_________________________________________________________________\n",
            "Layer (type)                 Output Shape              Param #   \n",
            "=================================================================\n",
            "embedding_2 (Embedding)      (None, 512, 100)          200100    \n",
            "_________________________________________________________________\n",
            "conv1d_2 (Conv1D)            (None, 508, 128)          64128     \n",
            "_________________________________________________________________\n",
            "global_max_pooling1d_2 (Glob (None, 128)               0         \n",
            "_________________________________________________________________\n",
            "dropout_2 (Dropout)          (None, 128)               0         \n",
            "_________________________________________________________________\n",
            "dense_2 (Dense)              (None, 5)                 645       \n",
            "=================================================================\n",
            "Total params: 264,873\n",
            "Trainable params: 264,873\n",
            "Non-trainable params: 0\n",
            "_________________________________________________________________\n",
            "None\n"
          ],
          "name": "stdout"
        }
      ]
    },
    {
      "cell_type": "code",
      "metadata": {
        "id": "Yyp_gk3_VOAM"
      },
      "source": [
        "model.compile(loss = 'categorical_crossentropy', optimizer='adam',metrics = ['accuracy'])"
      ],
      "execution_count": 61,
      "outputs": []
    },
    {
      "cell_type": "code",
      "metadata": {
        "id": "uC5n55diWGtj"
      },
      "source": [
        "y_train=train['label']\r\n",
        "y_val = val['label']"
      ],
      "execution_count": 62,
      "outputs": []
    },
    {
      "cell_type": "code",
      "metadata": {
        "id": "ZKgizfcYWOf4"
      },
      "source": [
        "Y_train=pd.get_dummies(y_train).values\r\n",
        "Y_val = pd.get_dummies(y_val).values"
      ],
      "execution_count": 63,
      "outputs": []
    },
    {
      "cell_type": "code",
      "metadata": {
        "colab": {
          "base_uri": "https://localhost:8080/"
        },
        "id": "ekvP3IdjVinh",
        "outputId": "9ae3566f-7d8c-467f-9c27-7d2e76d4a5f8"
      },
      "source": [
        "history = model.fit(X_train, Y_train,batch_size = 64, validation_data=(X_val,Y_val), epochs=10, verbose=2)"
      ],
      "execution_count": 64,
      "outputs": [
        {
          "output_type": "stream",
          "text": [
            "Epoch 1/10\n",
            "251/251 - 77s - loss: 0.4816 - accuracy: 0.8685 - val_loss: 0.4746 - val_accuracy: 0.8879\n",
            "Epoch 2/10\n",
            "251/251 - 76s - loss: 0.2499 - accuracy: 0.9249 - val_loss: 0.5146 - val_accuracy: 0.8869\n",
            "Epoch 3/10\n",
            "251/251 - 76s - loss: 0.1752 - accuracy: 0.9454 - val_loss: 0.6068 - val_accuracy: 0.8869\n",
            "Epoch 4/10\n",
            "251/251 - 76s - loss: 0.1381 - accuracy: 0.9548 - val_loss: 0.6424 - val_accuracy: 0.8804\n",
            "Epoch 5/10\n",
            "251/251 - 76s - loss: 0.1081 - accuracy: 0.9641 - val_loss: 0.7037 - val_accuracy: 0.8834\n",
            "Epoch 6/10\n",
            "251/251 - 76s - loss: 0.0915 - accuracy: 0.9704 - val_loss: 0.7717 - val_accuracy: 0.8814\n",
            "Epoch 7/10\n",
            "251/251 - 76s - loss: 0.0768 - accuracy: 0.9755 - val_loss: 0.7891 - val_accuracy: 0.8774\n",
            "Epoch 8/10\n",
            "251/251 - 76s - loss: 0.0658 - accuracy: 0.9796 - val_loss: 0.9017 - val_accuracy: 0.8794\n",
            "Epoch 9/10\n",
            "251/251 - 76s - loss: 0.0588 - accuracy: 0.9818 - val_loss: 1.0173 - val_accuracy: 0.8834\n",
            "Epoch 10/10\n",
            "251/251 - 76s - loss: 0.0541 - accuracy: 0.9829 - val_loss: 0.9902 - val_accuracy: 0.8759\n"
          ],
          "name": "stdout"
        }
      ]
    },
    {
      "cell_type": "code",
      "metadata": {
        "colab": {
          "base_uri": "https://localhost:8080/",
          "height": 295
        },
        "id": "GCigd-uGVljZ",
        "outputId": "ba041bfd-87f5-42bb-bf8b-bd080dab9aff"
      },
      "source": [
        "import matplotlib.pyplot as plt\r\n",
        "\r\n",
        "plt.plot(history.history['accuracy']) \r\n",
        "plt.plot(history.history['val_accuracy'])\r\n",
        "plt.title('Model Accuracy')\r\n",
        "plt.ylabel('accuracy')\r\n",
        "plt.xlabel('epoch')\r\n",
        "plt.legend(['train','val'])\r\n",
        "#plt.show()\r\n",
        "plt.savefig('Model_accuracy.png', dpi=600)"
      ],
      "execution_count": 65,
      "outputs": [
        {
          "output_type": "display_data",
          "data": {
            "image/png": "[encoded data removed]",
            "text/plain": [
              "<Figure size 432x288 with 1 Axes>"
            ]
          },
          "metadata": {
            "tags": [],
            "needs_background": "light"
          }
        }
      ]
    },
    {
      "cell_type": "code",
      "metadata": {
        "id": "rXJYtNWEc_47"
      },
      "source": [
        "# score = model.evaluate(X_val,Y_val,verbose=1)\r\n",
        "predictions = np.argmax(model.predict(X_val),axis = -1)\r\n",
        "\r\n",
        "# print(\"Test score is {}\".format(score[0]))\r\n",
        "# print(\"Test Accuracy is {}\".format(score[1]))"
      ],
      "execution_count": 66,
      "outputs": []
    },
    {
      "cell_type": "code",
      "metadata": {
        "id": "t01dzXi4wgca"
      },
      "source": [
        "_, train_acc = model.evaluate(X_train, Y_train, verbose=0)\r\n",
        "_, test_acc = model.evaluate(X_val, Y_val, verbose=0)"
      ],
      "execution_count": 67,
      "outputs": []
    },
    {
      "cell_type": "code",
      "metadata": {
        "id": "XfhqQth_wnfy"
      },
      "source": [
        "rounded_predictions = np.argmax(model.predict(X_test, batch_size=128, verbose=0),axis = -1)"
      ],
      "execution_count": 68,
      "outputs": []
    },
    {
      "cell_type": "code",
      "metadata": {
        "id": "UzyBzz2rwwRd"
      },
      "source": [
        "import numpy as np\r\n",
        "rounded_labels=np.argmax(Y_val, axis=1)"
      ],
      "execution_count": 69,
      "outputs": []
    },
    {
      "cell_type": "code",
      "metadata": {
        "id": "PD68f0mzw10I"
      },
      "source": [
        "from sklearn.metrics import classification_report"
      ],
      "execution_count": 70,
      "outputs": []
    },
    {
      "cell_type": "code",
      "metadata": {
        "colab": {
          "base_uri": "https://localhost:8080/"
        },
        "id": "T4sijH6Qw5WE",
        "outputId": "da95e985-be3c-448b-d684-a45fe84a2249"
      },
      "source": [
        "print(classification_report(rounded_labels, predictions))"
      ],
      "execution_count": 71,
      "outputs": [
        {
          "output_type": "stream",
          "text": [
            "              precision    recall  f1-score   support\n",
            "\n",
            "           0       0.90      0.98      0.93      1779\n",
            "           1       0.40      0.10      0.16        20\n",
            "           2       0.50      0.08      0.13        13\n",
            "           3       0.00      0.00      0.00        24\n",
            "           4       0.25      0.08      0.12       163\n",
            "\n",
            "    accuracy                           0.88      1999\n",
            "   macro avg       0.41      0.25      0.27      1999\n",
            "weighted avg       0.82      0.88      0.84      1999\n",
            "\n"
          ],
          "name": "stdout"
        }
      ]
    },
    {
      "cell_type": "code",
      "metadata": {
        "id": "5o4UBtZLw7x_"
      },
      "source": [
        "a = {'id':[i for i in range(2001)]}\r\n",
        "a = pd.DataFrame(a)\r\n",
        "\r\n",
        "df = pd.DataFrame({'id':a.id,'labels':rounded_predictions})\r\n",
        "df.labels = df.labels.apply({0:'Not_offensive',1:'Offensive_Untargetede',2:'Offensive_Targeted_Insult_Group',3:'Offensive_Targeted_Insult_Individual',4:'not-malayalam'}.get)"
      ],
      "execution_count": 73,
      "outputs": []
    },
    {
      "cell_type": "code",
      "metadata": {
        "colab": {
          "base_uri": "https://localhost:8080/",
          "height": 423
        },
        "id": "wZDqlKCDAHTu",
        "outputId": "4d2e831d-7d81-44de-8bdd-7b0a6cca1f0e"
      },
      "source": [
        "df"
      ],
      "execution_count": 74,
      "outputs": [
        {
          "output_type": "execute_result",
          "data": {
            "text/html": [
              "<div>\n",
              "<style scoped>\n",
              "    .dataframe tbody tr th:only-of-type {\n",
              "        vertical-align: middle;\n",
              "    }\n",
              "\n",
              "    .dataframe tbody tr th {\n",
              "        vertical-align: top;\n",
              "    }\n",
              "\n",
              "    .dataframe thead th {\n",
              "        text-align: right;\n",
              "    }\n",
              "</style>\n",
              "<table border=\"1\" class=\"dataframe\">\n",
              "  <thead>\n",
              "    <tr style=\"text-align: right;\">\n",
              "      <th></th>\n",
              "      <th>id</th>\n",
              "      <th>labels</th>\n",
              "    </tr>\n",
              "  </thead>\n",
              "  <tbody>\n",
              "    <tr>\n",
              "      <th>0</th>\n",
              "      <td>0</td>\n",
              "      <td>Not_offensive</td>\n",
              "    </tr>\n",
              "    <tr>\n",
              "      <th>1</th>\n",
              "      <td>1</td>\n",
              "      <td>Not_offensive</td>\n",
              "    </tr>\n",
              "    <tr>\n",
              "      <th>2</th>\n",
              "      <td>2</td>\n",
              "      <td>Not_offensive</td>\n",
              "    </tr>\n",
              "    <tr>\n",
              "      <th>3</th>\n",
              "      <td>3</td>\n",
              "      <td>Not_offensive</td>\n",
              "    </tr>\n",
              "    <tr>\n",
              "      <th>4</th>\n",
              "      <td>4</td>\n",
              "      <td>Not_offensive</td>\n",
              "    </tr>\n",
              "    <tr>\n",
              "      <th>...</th>\n",
              "      <td>...</td>\n",
              "      <td>...</td>\n",
              "    </tr>\n",
              "    <tr>\n",
              "      <th>1996</th>\n",
              "      <td>1996</td>\n",
              "      <td>Not_offensive</td>\n",
              "    </tr>\n",
              "    <tr>\n",
              "      <th>1997</th>\n",
              "      <td>1997</td>\n",
              "      <td>Not_offensive</td>\n",
              "    </tr>\n",
              "    <tr>\n",
              "      <th>1998</th>\n",
              "      <td>1998</td>\n",
              "      <td>Not_offensive</td>\n",
              "    </tr>\n",
              "    <tr>\n",
              "      <th>1999</th>\n",
              "      <td>1999</td>\n",
              "      <td>Not_offensive</td>\n",
              "    </tr>\n",
              "    <tr>\n",
              "      <th>2000</th>\n",
              "      <td>2000</td>\n",
              "      <td>Not_offensive</td>\n",
              "    </tr>\n",
              "  </tbody>\n",
              "</table>\n",
              "<p>2001 rows × 2 columns</p>\n",
              "</div>"
            ],
            "text/plain": [
              "        id         labels\n",
              "0        0  Not_offensive\n",
              "1        1  Not_offensive\n",
              "2        2  Not_offensive\n",
              "3        3  Not_offensive\n",
              "4        4  Not_offensive\n",
              "...    ...            ...\n",
              "1996  1996  Not_offensive\n",
              "1997  1997  Not_offensive\n",
              "1998  1998  Not_offensive\n",
              "1999  1999  Not_offensive\n",
              "2000  2000  Not_offensive\n",
              "\n",
              "[2001 rows x 2 columns]"
            ]
          },
          "metadata": {
            "tags": []
          },
          "execution_count": 74
        }
      ]
    },
    {
      "cell_type": "code",
      "metadata": {
        "colab": {
          "base_uri": "https://localhost:8080/",
          "height": 17
        },
        "id": "s6lHOadxAJzq",
        "outputId": "9f94e40f-44eb-4afe-f7d7-c6bdf82507fa"
      },
      "source": [
        "df.to_csv('CNN_GloVe_Malayalam_submission.csv',index=False)\r\n",
        "from google.colab import files\r\n",
        "files.download(\"CNN_GloVe_Malayalam_submission.csv\")"
      ],
      "execution_count": 75,
      "outputs": [
        {
          "output_type": "display_data",
          "data": {
            "application/javascript": [
              "\n",
              "    async function download(id, filename, size) {\n",
              "      if (!google.colab.kernel.accessAllowed) {\n",
              "        return;\n",
              "      }\n",
              "      const div = document.createElement('div');\n",
              "      const label = document.createElement('label');\n",
              "      label.textContent = `Downloading \"${filename}\": `;\n",
              "      div.appendChild(label);\n",
              "      const progress = document.createElement('progress');\n",
              "      progress.max = size;\n",
              "      div.appendChild(progress);\n",
              "      document.body.appendChild(div);\n",
              "\n",
              "      const buffers = [];\n",
              "      let downloaded = 0;\n",
              "\n",
              "      const channel = await google.colab.kernel.comms.open(id);\n",
              "      // Send a message to notify the kernel that we're ready.\n",
              "      channel.send({})\n",
              "\n",
              "      for await (const message of channel.messages) {\n",
              "        // Send a message to notify the kernel that we're ready.\n",
              "        channel.send({})\n",
              "        if (message.buffers) {\n",
              "          for (const buffer of message.buffers) {\n",
              "            buffers.push(buffer);\n",
              "            downloaded += buffer.byteLength;\n",
              "            progress.value = downloaded;\n",
              "          }\n",
              "        }\n",
              "      }\n",
              "      const blob = new Blob(buffers, {type: 'application/binary'});\n",
              "      const a = document.createElement('a');\n",
              "      a.href = window.URL.createObjectURL(blob);\n",
              "      a.download = filename;\n",
              "      div.appendChild(a);\n",
              "      a.click();\n",
              "      div.remove();\n",
              "    }\n",
              "  "
            ],
            "text/plain": [
              "<IPython.core.display.Javascript object>"
            ]
          },
          "metadata": {
            "tags": []
          }
        },
        {
          "output_type": "display_data",
          "data": {
            "application/javascript": [
              "download(\"download_bd60c1ff-2d4a-44d6-8bbf-a9259100ac41\", \"CNN_GloVe_Malayalam_submission.csv\", 37058)"
            ],
            "text/plain": [
              "<IPython.core.display.Javascript object>"
            ]
          },
          "metadata": {
            "tags": []
          }
        }
      ]
    },
    {
      "cell_type": "code",
      "metadata": {
        "id": "3yVAI6hEJNqU"
      },
      "source": [
        ""
      ],
      "execution_count": null,
      "outputs": []
    }
  ]
}