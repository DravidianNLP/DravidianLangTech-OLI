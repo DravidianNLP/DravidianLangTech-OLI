{
  "nbformat": 4,
  "nbformat_minor": 0,
  "metadata": {
    "colab": {
      "name": "distilbert_cased_mal.ipynb",
      "provenance": [],
      "collapsed_sections": []
    },
    "kernelspec": {
      "name": "python3",
      "display_name": "Python 3"
    },
    "accelerator": "GPU",
    "widgets": {
      "application/vnd.jupyter.widget-state+json": {
        "a4021437869a4c028e2071409662d4e5": {
          "model_module": "@jupyter-widgets/controls",
          "model_name": "HBoxModel",
          "state": {
            "_view_name": "HBoxView",
            "_dom_classes": [],
            "_model_name": "HBoxModel",
            "_view_module": "@jupyter-widgets/controls",
            "_model_module_version": "1.5.0",
            "_view_count": null,
            "_view_module_version": "1.5.0",
            "box_style": "",
            "layout": "IPY_MODEL_58b8a08999144e3dba4fe5fc8693ee44",
            "_model_module": "@jupyter-widgets/controls",
            "children": [
              "IPY_MODEL_f705b78d99af4204a8117bb15c5531da",
              "IPY_MODEL_78a0c593c287418d804ba6314a7611f8"
            ]
          }
        },
        "58b8a08999144e3dba4fe5fc8693ee44": {
          "model_module": "@jupyter-widgets/base",
          "model_name": "LayoutModel",
          "state": {
            "_view_name": "LayoutView",
            "grid_template_rows": null,
            "right": null,
            "justify_content": null,
            "_view_module": "@jupyter-widgets/base",
            "overflow": null,
            "_model_module_version": "1.2.0",
            "_view_count": null,
            "flex_flow": null,
            "width": null,
            "min_width": null,
            "border": null,
            "align_items": null,
            "bottom": null,
            "_model_module": "@jupyter-widgets/base",
            "top": null,
            "grid_column": null,
            "overflow_y": null,
            "overflow_x": null,
            "grid_auto_flow": null,
            "grid_area": null,
            "grid_template_columns": null,
            "flex": null,
            "_model_name": "LayoutModel",
            "justify_items": null,
            "grid_row": null,
            "max_height": null,
            "align_content": null,
            "visibility": null,
            "align_self": null,
            "height": null,
            "min_height": null,
            "padding": null,
            "grid_auto_rows": null,
            "grid_gap": null,
            "max_width": null,
            "order": null,
            "_view_module_version": "1.2.0",
            "grid_template_areas": null,
            "object_position": null,
            "object_fit": null,
            "grid_auto_columns": null,
            "margin": null,
            "display": null,
            "left": null
          }
        },
        "f705b78d99af4204a8117bb15c5531da": {
          "model_module": "@jupyter-widgets/controls",
          "model_name": "FloatProgressModel",
          "state": {
            "_view_name": "ProgressView",
            "style": "IPY_MODEL_1c1e25fc48c940f68c4f7011e54cfc0e",
            "_dom_classes": [],
            "description": "Downloading: 100%",
            "_model_name": "FloatProgressModel",
            "bar_style": "success",
            "max": 466,
            "_view_module": "@jupyter-widgets/controls",
            "_model_module_version": "1.5.0",
            "value": 466,
            "_view_count": null,
            "_view_module_version": "1.5.0",
            "orientation": "horizontal",
            "min": 0,
            "description_tooltip": null,
            "_model_module": "@jupyter-widgets/controls",
            "layout": "IPY_MODEL_ac82f0b44655415db8b2f3d48d22e0e3"
          }
        },
        "78a0c593c287418d804ba6314a7611f8": {
          "model_module": "@jupyter-widgets/controls",
          "model_name": "HTMLModel",
          "state": {
            "_view_name": "HTMLView",
            "style": "IPY_MODEL_54398d1508c04c438849573d4a6a7352",
            "_dom_classes": [],
            "description": "",
            "_model_name": "HTMLModel",
            "placeholder": "​",
            "_view_module": "@jupyter-widgets/controls",
            "_model_module_version": "1.5.0",
            "value": " 466/466 [00:00&lt;00:00, 524B/s]",
            "_view_count": null,
            "_view_module_version": "1.5.0",
            "description_tooltip": null,
            "_model_module": "@jupyter-widgets/controls",
            "layout": "IPY_MODEL_f4f3d96d34a24cf1924898edcf53873c"
          }
        },
        "1c1e25fc48c940f68c4f7011e54cfc0e": {
          "model_module": "@jupyter-widgets/controls",
          "model_name": "ProgressStyleModel",
          "state": {
            "_view_name": "StyleView",
            "_model_name": "ProgressStyleModel",
            "description_width": "initial",
            "_view_module": "@jupyter-widgets/base",
            "_model_module_version": "1.5.0",
            "_view_count": null,
            "_view_module_version": "1.2.0",
            "bar_color": null,
            "_model_module": "@jupyter-widgets/controls"
          }
        },
        "ac82f0b44655415db8b2f3d48d22e0e3": {
          "model_module": "@jupyter-widgets/base",
          "model_name": "LayoutModel",
          "state": {
            "_view_name": "LayoutView",
            "grid_template_rows": null,
            "right": null,
            "justify_content": null,
            "_view_module": "@jupyter-widgets/base",
            "overflow": null,
            "_model_module_version": "1.2.0",
            "_view_count": null,
            "flex_flow": null,
            "width": null,
            "min_width": null,
            "border": null,
            "align_items": null,
            "bottom": null,
            "_model_module": "@jupyter-widgets/base",
            "top": null,
            "grid_column": null,
            "overflow_y": null,
            "overflow_x": null,
            "grid_auto_flow": null,
            "grid_area": null,
            "grid_template_columns": null,
            "flex": null,
            "_model_name": "LayoutModel",
            "justify_items": null,
            "grid_row": null,
            "max_height": null,
            "align_content": null,
            "visibility": null,
            "align_self": null,
            "height": null,
            "min_height": null,
            "padding": null,
            "grid_auto_rows": null,
            "grid_gap": null,
            "max_width": null,
            "order": null,
            "_view_module_version": "1.2.0",
            "grid_template_areas": null,
            "object_position": null,
            "object_fit": null,
            "grid_auto_columns": null,
            "margin": null,
            "display": null,
            "left": null
          }
        },
        "54398d1508c04c438849573d4a6a7352": {
          "model_module": "@jupyter-widgets/controls",
          "model_name": "DescriptionStyleModel",
          "state": {
            "_view_name": "StyleView",
            "_model_name": "DescriptionStyleModel",
            "description_width": "",
            "_view_module": "@jupyter-widgets/base",
            "_model_module_version": "1.5.0",
            "_view_count": null,
            "_view_module_version": "1.2.0",
            "_model_module": "@jupyter-widgets/controls"
          }
        },
        "f4f3d96d34a24cf1924898edcf53873c": {
          "model_module": "@jupyter-widgets/base",
          "model_name": "LayoutModel",
          "state": {
            "_view_name": "LayoutView",
            "grid_template_rows": null,
            "right": null,
            "justify_content": null,
            "_view_module": "@jupyter-widgets/base",
            "overflow": null,
            "_model_module_version": "1.2.0",
            "_view_count": null,
            "flex_flow": null,
            "width": null,
            "min_width": null,
            "border": null,
            "align_items": null,
            "bottom": null,
            "_model_module": "@jupyter-widgets/base",
            "top": null,
            "grid_column": null,
            "overflow_y": null,
            "overflow_x": null,
            "grid_auto_flow": null,
            "grid_area": null,
            "grid_template_columns": null,
            "flex": null,
            "_model_name": "LayoutModel",
            "justify_items": null,
            "grid_row": null,
            "max_height": null,
            "align_content": null,
            "visibility": null,
            "align_self": null,
            "height": null,
            "min_height": null,
            "padding": null,
            "grid_auto_rows": null,
            "grid_gap": null,
            "max_width": null,
            "order": null,
            "_view_module_version": "1.2.0",
            "grid_template_areas": null,
            "object_position": null,
            "object_fit": null,
            "grid_auto_columns": null,
            "margin": null,
            "display": null,
            "left": null
          }
        }
      }
    }
  },
  "cells": [
    {
      "cell_type": "code",
      "metadata": {
        "colab": {
          "base_uri": "https://localhost:8080/"
        },
        "id": "HRADUMUb4iUR",
        "outputId": "217b2330-2240-47f5-8f1b-efb23c5c7c79"
      },
      "source": [
        "import torch\r\n",
        "import time\r\n",
        "import torch.nn as nn\r\n",
        "import torch.optim as optim\r\n",
        "from torch.utils.data import Dataset,DataLoader\r\n",
        "import pandas as pd\r\n",
        "import numpy as np\r\n",
        "!pip install transformers\r\n",
        "from transformers import AutoModel, AutoTokenizer\r\n",
        "from torch import cuda\r\n",
        "device = 'cuda' if torch.cuda.is_available() else 'cpu'"
      ],
      "execution_count": 15,
      "outputs": [
        {
          "output_type": "stream",
          "text": [
            "Requirement already satisfied: transformers in /usr/local/lib/python3.6/dist-packages (3.3.1)\n",
            "Requirement already satisfied: packaging in /usr/local/lib/python3.6/dist-packages (from transformers) (20.8)\n",
            "Requirement already satisfied: dataclasses; python_version < \"3.7\" in /usr/local/lib/python3.6/dist-packages (from transformers) (0.8)\n",
            "Requirement already satisfied: sentencepiece!=0.1.92 in /usr/local/lib/python3.6/dist-packages (from transformers) (0.1.95)\n",
            "Requirement already satisfied: requests in /usr/local/lib/python3.6/dist-packages (from transformers) (2.23.0)\n",
            "Requirement already satisfied: filelock in /usr/local/lib/python3.6/dist-packages (from transformers) (3.0.12)\n",
            "Requirement already satisfied: sacremoses in /usr/local/lib/python3.6/dist-packages (from transformers) (0.0.43)\n",
            "Requirement already satisfied: regex!=2019.12.17 in /usr/local/lib/python3.6/dist-packages (from transformers) (2019.12.20)\n",
            "Requirement already satisfied: numpy in /usr/local/lib/python3.6/dist-packages (from transformers) (1.19.5)\n",
            "Requirement already satisfied: tokenizers==0.8.1.rc2 in /usr/local/lib/python3.6/dist-packages (from transformers) (0.8.1rc2)\n",
            "Requirement already satisfied: tqdm>=4.27 in /usr/local/lib/python3.6/dist-packages (from transformers) (4.41.1)\n",
            "Requirement already satisfied: pyparsing>=2.0.2 in /usr/local/lib/python3.6/dist-packages (from packaging->transformers) (2.4.7)\n",
            "Requirement already satisfied: idna<3,>=2.5 in /usr/local/lib/python3.6/dist-packages (from requests->transformers) (2.10)\n",
            "Requirement already satisfied: urllib3!=1.25.0,!=1.25.1,<1.26,>=1.21.1 in /usr/local/lib/python3.6/dist-packages (from requests->transformers) (1.24.3)\n",
            "Requirement already satisfied: chardet<4,>=3.0.2 in /usr/local/lib/python3.6/dist-packages (from requests->transformers) (3.0.4)\n",
            "Requirement already satisfied: certifi>=2017.4.17 in /usr/local/lib/python3.6/dist-packages (from requests->transformers) (2020.12.5)\n",
            "Requirement already satisfied: joblib in /usr/local/lib/python3.6/dist-packages (from sacremoses->transformers) (1.0.0)\n",
            "Requirement already satisfied: six in /usr/local/lib/python3.6/dist-packages (from sacremoses->transformers) (1.15.0)\n",
            "Requirement already satisfied: click in /usr/local/lib/python3.6/dist-packages (from sacremoses->transformers) (7.1.2)\n"
          ],
          "name": "stdout"
        }
      ]
    },
    {
      "cell_type": "code",
      "metadata": {
        "colab": {
          "base_uri": "https://localhost:8080/"
        },
        "id": "KOTWhUE343Ae",
        "outputId": "089b48f9-118b-4fa1-ad7c-afff12afce40"
      },
      "source": [
        "from google.colab import drive\r\n",
        "drive.mount('/content/drive')"
      ],
      "execution_count": 16,
      "outputs": [
        {
          "output_type": "stream",
          "text": [
            "Drive already mounted at /content/drive; to attempt to forcibly remount, call drive.mount(\"/content/drive\", force_remount=True).\n"
          ],
          "name": "stdout"
        }
      ]
    },
    {
      "cell_type": "code",
      "metadata": {
        "colab": {
          "base_uri": "https://localhost:8080/",
          "height": 331
        },
        "id": "7mYnjmTr485O",
        "outputId": "c7ec5e1a-dc7d-48dc-cdc9-f5591fcf8dee"
      },
      "source": [
        "train = pd.read_csv('/content/drive/MyDrive/Colab Notebooks/mal_full_offensive_train.csv', delimiter='\\t', names=['text','label','nan'])\r\n",
        "train = train.drop(columns=['nan'])\r\n",
        "# train['label'].value_counts()\r\n",
        "# train.label = train.label.apply({'Not_offensive':0,'Offensive_Untargetede':1,'Offensive_Targeted_Insult_Group':2,'Offensive_Targeted_Insult_Individual':3,'not-malayalam':4}.get)\r\n",
        "train.head(9)"
      ],
      "execution_count": 17,
      "outputs": [
        {
          "output_type": "execute_result",
          "data": {
            "text/html": [
              "<div>\n",
              "<style scoped>\n",
              "    .dataframe tbody tr th:only-of-type {\n",
              "        vertical-align: middle;\n",
              "    }\n",
              "\n",
              "    .dataframe tbody tr th {\n",
              "        vertical-align: top;\n",
              "    }\n",
              "\n",
              "    .dataframe thead th {\n",
              "        text-align: right;\n",
              "    }\n",
              "</style>\n",
              "<table border=\"1\" class=\"dataframe\">\n",
              "  <thead>\n",
              "    <tr style=\"text-align: right;\">\n",
              "      <th></th>\n",
              "      <th>text</th>\n",
              "      <th>label</th>\n",
              "    </tr>\n",
              "  </thead>\n",
              "  <tbody>\n",
              "    <tr>\n",
              "      <th>0</th>\n",
              "      <td>പലദേശം. പല ഭാഷ ഒരേ ഒരു രാജാവ്  അല്ലാതെ  സ്വന്ത...</td>\n",
              "      <td>Not_offensive</td>\n",
              "    </tr>\n",
              "    <tr>\n",
              "      <th>1</th>\n",
              "      <td>ഈ ഓണം ഏട്ടനും പിള്ളേർക്ക് ഉള്ളതാണ് എന്ന് ഉള്ളവ...</td>\n",
              "      <td>Not_offensive</td>\n",
              "    </tr>\n",
              "    <tr>\n",
              "      <th>2</th>\n",
              "      <td>ആരണ്ട ആരണ്ട തലുണ്ടാകാണാ ആരണ്ട ഞാൻ ആണ്ട ഞാൻ ആണ്...</td>\n",
              "      <td>Not_offensive</td>\n",
              "    </tr>\n",
              "    <tr>\n",
              "      <th>3</th>\n",
              "      <td>Sushin syam  Shaiju khalid  Midhun manual</td>\n",
              "      <td>Not_offensive</td>\n",
              "    </tr>\n",
              "    <tr>\n",
              "      <th>4</th>\n",
              "      <td>J A K E S.   B EJ O Y !!!</td>\n",
              "      <td>Not_offensive</td>\n",
              "    </tr>\n",
              "    <tr>\n",
              "      <th>5</th>\n",
              "      <td>Pwoli item padam kananda ennu karuthiyatha pak...</td>\n",
              "      <td>Not_offensive</td>\n",
              "    </tr>\n",
              "    <tr>\n",
              "      <th>6</th>\n",
              "      <td>Oru ratchasan feel kittitu ullalo. Bgm athra a...</td>\n",
              "      <td>Not_offensive</td>\n",
              "    </tr>\n",
              "    <tr>\n",
              "      <th>7</th>\n",
              "      <td>Super casting</td>\n",
              "      <td>Not_offensive</td>\n",
              "    </tr>\n",
              "    <tr>\n",
              "      <th>8</th>\n",
              "      <td>ഷൈലോക്ക് ന്റെ നല്ല ടീസർ ആയിട്ട് പോലും ട്രോളി ന...</td>\n",
              "      <td>Not_offensive</td>\n",
              "    </tr>\n",
              "  </tbody>\n",
              "</table>\n",
              "</div>"
            ],
            "text/plain": [
              "                                                text          label\n",
              "0  പലദേശം. പല ഭാഷ ഒരേ ഒരു രാജാവ്  അല്ലാതെ  സ്വന്ത...  Not_offensive\n",
              "1  ഈ ഓണം ഏട്ടനും പിള്ളേർക്ക് ഉള്ളതാണ് എന്ന് ഉള്ളവ...  Not_offensive\n",
              "2  ആരണ്ട ആരണ്ട തലുണ്ടാകാണാ ആരണ്ട ഞാൻ ആണ്ട ഞാൻ ആണ്...  Not_offensive\n",
              "3          Sushin syam  Shaiju khalid  Midhun manual  Not_offensive\n",
              "4                          J A K E S.   B EJ O Y !!!  Not_offensive\n",
              "5  Pwoli item padam kananda ennu karuthiyatha pak...  Not_offensive\n",
              "6  Oru ratchasan feel kittitu ullalo. Bgm athra a...  Not_offensive\n",
              "7                                      Super casting  Not_offensive\n",
              "8  ഷൈലോക്ക് ന്റെ നല്ല ടീസർ ആയിട്ട് പോലും ട്രോളി ന...  Not_offensive"
            ]
          },
          "metadata": {
            "tags": []
          },
          "execution_count": 17
        }
      ]
    },
    {
      "cell_type": "code",
      "metadata": {
        "colab": {
          "base_uri": "https://localhost:8080/",
          "height": 331
        },
        "id": "vgaaIEpS5lTV",
        "outputId": "cabc7341-6b03-4b42-eecf-330d5395f510"
      },
      "source": [
        "train.label = train.label.apply({'Not_offensive':0,'Offensive_Untargetede':1,'Offensive_Targeted_Insult_Group':2,'Offensive_Targeted_Insult_Individual':3,'not-malayalam':4}.get)\r\n",
        "train.head(9)"
      ],
      "execution_count": 18,
      "outputs": [
        {
          "output_type": "execute_result",
          "data": {
            "text/html": [
              "<div>\n",
              "<style scoped>\n",
              "    .dataframe tbody tr th:only-of-type {\n",
              "        vertical-align: middle;\n",
              "    }\n",
              "\n",
              "    .dataframe tbody tr th {\n",
              "        vertical-align: top;\n",
              "    }\n",
              "\n",
              "    .dataframe thead th {\n",
              "        text-align: right;\n",
              "    }\n",
              "</style>\n",
              "<table border=\"1\" class=\"dataframe\">\n",
              "  <thead>\n",
              "    <tr style=\"text-align: right;\">\n",
              "      <th></th>\n",
              "      <th>text</th>\n",
              "      <th>label</th>\n",
              "    </tr>\n",
              "  </thead>\n",
              "  <tbody>\n",
              "    <tr>\n",
              "      <th>0</th>\n",
              "      <td>പലദേശം. പല ഭാഷ ഒരേ ഒരു രാജാവ്  അല്ലാതെ  സ്വന്ത...</td>\n",
              "      <td>0</td>\n",
              "    </tr>\n",
              "    <tr>\n",
              "      <th>1</th>\n",
              "      <td>ഈ ഓണം ഏട്ടനും പിള്ളേർക്ക് ഉള്ളതാണ് എന്ന് ഉള്ളവ...</td>\n",
              "      <td>0</td>\n",
              "    </tr>\n",
              "    <tr>\n",
              "      <th>2</th>\n",
              "      <td>ആരണ്ട ആരണ്ട തലുണ്ടാകാണാ ആരണ്ട ഞാൻ ആണ്ട ഞാൻ ആണ്...</td>\n",
              "      <td>0</td>\n",
              "    </tr>\n",
              "    <tr>\n",
              "      <th>3</th>\n",
              "      <td>Sushin syam  Shaiju khalid  Midhun manual</td>\n",
              "      <td>0</td>\n",
              "    </tr>\n",
              "    <tr>\n",
              "      <th>4</th>\n",
              "      <td>J A K E S.   B EJ O Y !!!</td>\n",
              "      <td>0</td>\n",
              "    </tr>\n",
              "    <tr>\n",
              "      <th>5</th>\n",
              "      <td>Pwoli item padam kananda ennu karuthiyatha pak...</td>\n",
              "      <td>0</td>\n",
              "    </tr>\n",
              "    <tr>\n",
              "      <th>6</th>\n",
              "      <td>Oru ratchasan feel kittitu ullalo. Bgm athra a...</td>\n",
              "      <td>0</td>\n",
              "    </tr>\n",
              "    <tr>\n",
              "      <th>7</th>\n",
              "      <td>Super casting</td>\n",
              "      <td>0</td>\n",
              "    </tr>\n",
              "    <tr>\n",
              "      <th>8</th>\n",
              "      <td>ഷൈലോക്ക് ന്റെ നല്ല ടീസർ ആയിട്ട് പോലും ട്രോളി ന...</td>\n",
              "      <td>0</td>\n",
              "    </tr>\n",
              "  </tbody>\n",
              "</table>\n",
              "</div>"
            ],
            "text/plain": [
              "                                                text  label\n",
              "0  പലദേശം. പല ഭാഷ ഒരേ ഒരു രാജാവ്  അല്ലാതെ  സ്വന്ത...      0\n",
              "1  ഈ ഓണം ഏട്ടനും പിള്ളേർക്ക് ഉള്ളതാണ് എന്ന് ഉള്ളവ...      0\n",
              "2  ആരണ്ട ആരണ്ട തലുണ്ടാകാണാ ആരണ്ട ഞാൻ ആണ്ട ഞാൻ ആണ്...      0\n",
              "3          Sushin syam  Shaiju khalid  Midhun manual      0\n",
              "4                          J A K E S.   B EJ O Y !!!      0\n",
              "5  Pwoli item padam kananda ennu karuthiyatha pak...      0\n",
              "6  Oru ratchasan feel kittitu ullalo. Bgm athra a...      0\n",
              "7                                      Super casting      0\n",
              "8  ഷൈലോക്ക് ന്റെ നല്ല ടീസർ ആയിട്ട് പോലും ട്രോളി ന...      0"
            ]
          },
          "metadata": {
            "tags": []
          },
          "execution_count": 18
        }
      ]
    },
    {
      "cell_type": "code",
      "metadata": {
        "colab": {
          "base_uri": "https://localhost:8080/",
          "height": 331
        },
        "id": "LOKQqPcE5W2j",
        "outputId": "a730d849-06a5-4755-da78-ae41aee281fa"
      },
      "source": [
        "val = pd.read_csv('/content/drive/MyDrive/Colab Notebooks/mal_full_offensive_dev.csv', delimiter='\\t', names=['text','label','nan'])\r\n",
        "val = val.drop(columns=['nan'])\r\n",
        "val.head(9)"
      ],
      "execution_count": 19,
      "outputs": [
        {
          "output_type": "execute_result",
          "data": {
            "text/html": [
              "<div>\n",
              "<style scoped>\n",
              "    .dataframe tbody tr th:only-of-type {\n",
              "        vertical-align: middle;\n",
              "    }\n",
              "\n",
              "    .dataframe tbody tr th {\n",
              "        vertical-align: top;\n",
              "    }\n",
              "\n",
              "    .dataframe thead th {\n",
              "        text-align: right;\n",
              "    }\n",
              "</style>\n",
              "<table border=\"1\" class=\"dataframe\">\n",
              "  <thead>\n",
              "    <tr style=\"text-align: right;\">\n",
              "      <th></th>\n",
              "      <th>text</th>\n",
              "      <th>label</th>\n",
              "    </tr>\n",
              "  </thead>\n",
              "  <tbody>\n",
              "    <tr>\n",
              "      <th>0</th>\n",
              "      <td>Gopichettante BGM um mammookayum ishtapedunnav...</td>\n",
              "      <td>Not_offensive</td>\n",
              "    </tr>\n",
              "    <tr>\n",
              "      <th>1</th>\n",
              "      <td>ഇത് ഒരു പെണ്ണ് തന്നെ ആണോ direct ചെയ്യുന്നത്  p...</td>\n",
              "      <td>Not_offensive</td>\n",
              "    </tr>\n",
              "    <tr>\n",
              "      <th>2</th>\n",
              "      <td>പൃഥ്വിരാജ് സുരാജേട്ടൻ ലാലും അലക്സ്.. Lal jr. ന...</td>\n",
              "      <td>Not_offensive</td>\n",
              "    </tr>\n",
              "    <tr>\n",
              "      <th>3</th>\n",
              "      <td>പോകരുത് മക്കളെ പോക്ക .......... നൻ കണ്ട് എന്റ്...</td>\n",
              "      <td>Not_offensive</td>\n",
              "    </tr>\n",
              "    <tr>\n",
              "      <th>4</th>\n",
              "      <td>avan Varum ente Makan Madhura Raja....</td>\n",
              "      <td>Not_offensive</td>\n",
              "    </tr>\n",
              "    <tr>\n",
              "      <th>5</th>\n",
              "      <td>you guys dub in kannada we are kannadigas alwa...</td>\n",
              "      <td>not-malayalam</td>\n",
              "    </tr>\n",
              "    <tr>\n",
              "      <th>6</th>\n",
              "      <td>Oru nalla cinema kkaayi kathirikkkunnu.    Dha...</td>\n",
              "      <td>Not_offensive</td>\n",
              "    </tr>\n",
              "    <tr>\n",
              "      <th>7</th>\n",
              "      <td>Nine film arkum venda</td>\n",
              "      <td>Not_offensive</td>\n",
              "    </tr>\n",
              "    <tr>\n",
              "      <th>8</th>\n",
              "      <td>ഭവനേ. കൊലേ കാട്ടിലേ ഇരിക്ക് കൊല്ലാമ വിടമാട്ടെ ...</td>\n",
              "      <td>Not_offensive</td>\n",
              "    </tr>\n",
              "  </tbody>\n",
              "</table>\n",
              "</div>"
            ],
            "text/plain": [
              "                                                text          label\n",
              "0  Gopichettante BGM um mammookayum ishtapedunnav...  Not_offensive\n",
              "1  ഇത് ഒരു പെണ്ണ് തന്നെ ആണോ direct ചെയ്യുന്നത്  p...  Not_offensive\n",
              "2  പൃഥ്വിരാജ് സുരാജേട്ടൻ ലാലും അലക്സ്.. Lal jr. ന...  Not_offensive\n",
              "3  പോകരുത് മക്കളെ പോക്ക .......... നൻ കണ്ട് എന്റ്...  Not_offensive\n",
              "4             avan Varum ente Makan Madhura Raja....  Not_offensive\n",
              "5  you guys dub in kannada we are kannadigas alwa...  not-malayalam\n",
              "6  Oru nalla cinema kkaayi kathirikkkunnu.    Dha...  Not_offensive\n",
              "7                              Nine film arkum venda  Not_offensive\n",
              "8  ഭവനേ. കൊലേ കാട്ടിലേ ഇരിക്ക് കൊല്ലാമ വിടമാട്ടെ ...  Not_offensive"
            ]
          },
          "metadata": {
            "tags": []
          },
          "execution_count": 19
        }
      ]
    },
    {
      "cell_type": "code",
      "metadata": {
        "colab": {
          "base_uri": "https://localhost:8080/",
          "height": 331
        },
        "id": "rD-PQUwJ5zBK",
        "outputId": "0ea222ba-31c8-475e-f0fb-20462a88b40c"
      },
      "source": [
        "val.label = val.label.apply({'Not_offensive':0,'Offensive_Untargetede':1,'Offensive_Targeted_Insult_Group':2,'Offensive_Targeted_Insult_Individual':3,'not-malayalam':4}.get)\r\n",
        "val.head(9)"
      ],
      "execution_count": 20,
      "outputs": [
        {
          "output_type": "execute_result",
          "data": {
            "text/html": [
              "<div>\n",
              "<style scoped>\n",
              "    .dataframe tbody tr th:only-of-type {\n",
              "        vertical-align: middle;\n",
              "    }\n",
              "\n",
              "    .dataframe tbody tr th {\n",
              "        vertical-align: top;\n",
              "    }\n",
              "\n",
              "    .dataframe thead th {\n",
              "        text-align: right;\n",
              "    }\n",
              "</style>\n",
              "<table border=\"1\" class=\"dataframe\">\n",
              "  <thead>\n",
              "    <tr style=\"text-align: right;\">\n",
              "      <th></th>\n",
              "      <th>text</th>\n",
              "      <th>label</th>\n",
              "    </tr>\n",
              "  </thead>\n",
              "  <tbody>\n",
              "    <tr>\n",
              "      <th>0</th>\n",
              "      <td>Gopichettante BGM um mammookayum ishtapedunnav...</td>\n",
              "      <td>0</td>\n",
              "    </tr>\n",
              "    <tr>\n",
              "      <th>1</th>\n",
              "      <td>ഇത് ഒരു പെണ്ണ് തന്നെ ആണോ direct ചെയ്യുന്നത്  p...</td>\n",
              "      <td>0</td>\n",
              "    </tr>\n",
              "    <tr>\n",
              "      <th>2</th>\n",
              "      <td>പൃഥ്വിരാജ് സുരാജേട്ടൻ ലാലും അലക്സ്.. Lal jr. ന...</td>\n",
              "      <td>0</td>\n",
              "    </tr>\n",
              "    <tr>\n",
              "      <th>3</th>\n",
              "      <td>പോകരുത് മക്കളെ പോക്ക .......... നൻ കണ്ട് എന്റ്...</td>\n",
              "      <td>0</td>\n",
              "    </tr>\n",
              "    <tr>\n",
              "      <th>4</th>\n",
              "      <td>avan Varum ente Makan Madhura Raja....</td>\n",
              "      <td>0</td>\n",
              "    </tr>\n",
              "    <tr>\n",
              "      <th>5</th>\n",
              "      <td>you guys dub in kannada we are kannadigas alwa...</td>\n",
              "      <td>4</td>\n",
              "    </tr>\n",
              "    <tr>\n",
              "      <th>6</th>\n",
              "      <td>Oru nalla cinema kkaayi kathirikkkunnu.    Dha...</td>\n",
              "      <td>0</td>\n",
              "    </tr>\n",
              "    <tr>\n",
              "      <th>7</th>\n",
              "      <td>Nine film arkum venda</td>\n",
              "      <td>0</td>\n",
              "    </tr>\n",
              "    <tr>\n",
              "      <th>8</th>\n",
              "      <td>ഭവനേ. കൊലേ കാട്ടിലേ ഇരിക്ക് കൊല്ലാമ വിടമാട്ടെ ...</td>\n",
              "      <td>0</td>\n",
              "    </tr>\n",
              "  </tbody>\n",
              "</table>\n",
              "</div>"
            ],
            "text/plain": [
              "                                                text  label\n",
              "0  Gopichettante BGM um mammookayum ishtapedunnav...      0\n",
              "1  ഇത് ഒരു പെണ്ണ് തന്നെ ആണോ direct ചെയ്യുന്നത്  p...      0\n",
              "2  പൃഥ്വിരാജ് സുരാജേട്ടൻ ലാലും അലക്സ്.. Lal jr. ന...      0\n",
              "3  പോകരുത് മക്കളെ പോക്ക .......... നൻ കണ്ട് എന്റ്...      0\n",
              "4             avan Varum ente Makan Madhura Raja....      0\n",
              "5  you guys dub in kannada we are kannadigas alwa...      4\n",
              "6  Oru nalla cinema kkaayi kathirikkkunnu.    Dha...      0\n",
              "7                              Nine film arkum venda      0\n",
              "8  ഭവനേ. കൊലേ കാട്ടിലേ ഇരിക്ക് കൊല്ലാമ വിടമാട്ടെ ...      0"
            ]
          },
          "metadata": {
            "tags": []
          },
          "execution_count": 20
        }
      ]
    },
    {
      "cell_type": "code",
      "metadata": {
        "colab": {
          "base_uri": "https://localhost:8080/",
          "height": 331
        },
        "id": "uuoBImSt54M9",
        "outputId": "46adc8ff-cae0-4c59-dc1c-796c21fae2bd"
      },
      "source": [
        "test = pd.read_csv('/content/drive/MyDrive/test_labels/mal_full_offensive_test_with_labels.csv', delimiter='\\t', names=['text','label','nan'])\r\n",
        "test = test.drop(columns=['nan'])\r\n",
        "test.head(9)"
      ],
      "execution_count": 21,
      "outputs": [
        {
          "output_type": "execute_result",
          "data": {
            "text/html": [
              "<div>\n",
              "<style scoped>\n",
              "    .dataframe tbody tr th:only-of-type {\n",
              "        vertical-align: middle;\n",
              "    }\n",
              "\n",
              "    .dataframe tbody tr th {\n",
              "        vertical-align: top;\n",
              "    }\n",
              "\n",
              "    .dataframe thead th {\n",
              "        text-align: right;\n",
              "    }\n",
              "</style>\n",
              "<table border=\"1\" class=\"dataframe\">\n",
              "  <thead>\n",
              "    <tr style=\"text-align: right;\">\n",
              "      <th></th>\n",
              "      <th>text</th>\n",
              "      <th>label</th>\n",
              "    </tr>\n",
              "  </thead>\n",
              "  <tbody>\n",
              "    <tr>\n",
              "      <th>0</th>\n",
              "      <td>അപ്പൊ ഇതൊരൊന്നൊരാ മൊതലാണല്ലേ  Suraj ആണ് നടൻ ന്...</td>\n",
              "      <td>Not_offensive</td>\n",
              "    </tr>\n",
              "    <tr>\n",
              "      <th>1</th>\n",
              "      <td>എന്ത് ഊള എഡിറ്റിംഗ് ആടോ ഇത് ഒരുമാതിരി vivo vid...</td>\n",
              "      <td>Not_offensive</td>\n",
              "    </tr>\n",
              "    <tr>\n",
              "      <th>2</th>\n",
              "      <td>Fefka ee padam release cheyyan samadhicho?</td>\n",
              "      <td>Not_offensive</td>\n",
              "    </tr>\n",
              "    <tr>\n",
              "      <th>3</th>\n",
              "      <td>അആഹാ.. സംഗീതം ജെക്‌സ് ബിജോയ് ആണ് അപ്പൊ പൊട്ടലു...</td>\n",
              "      <td>Not_offensive</td>\n",
              "    </tr>\n",
              "    <tr>\n",
              "      <th>4</th>\n",
              "      <td>Ravile thane views likes ethra ayyi enn nokan ...</td>\n",
              "      <td>Not_offensive</td>\n",
              "    </tr>\n",
              "    <tr>\n",
              "      <th>5</th>\n",
              "      <td>2.10- joju ചേട്ടന്റെ ആ ഇരുത്തം കണ്ടിട്ട് കിരീട...</td>\n",
              "      <td>Not_offensive</td>\n",
              "    </tr>\n",
              "    <tr>\n",
              "      <th>6</th>\n",
              "      <td>Engane aada uvve 32K dislikes okke vanne? namm...</td>\n",
              "      <td>Not_offensive</td>\n",
              "    </tr>\n",
              "    <tr>\n",
              "      <th>7</th>\n",
              "      <td>പടം കാണാത്തവരുണ്ടങ്കിൽ ഇന്ന് തന്നെ പോയി കണ്ടോ ...</td>\n",
              "      <td>Not_offensive</td>\n",
              "    </tr>\n",
              "    <tr>\n",
              "      <th>8</th>\n",
              "      <td>Enta joju etta ningalithe ende bhavichaa</td>\n",
              "      <td>Not_offensive</td>\n",
              "    </tr>\n",
              "  </tbody>\n",
              "</table>\n",
              "</div>"
            ],
            "text/plain": [
              "                                                text          label\n",
              "0  അപ്പൊ ഇതൊരൊന്നൊരാ മൊതലാണല്ലേ  Suraj ആണ് നടൻ ന്...  Not_offensive\n",
              "1  എന്ത് ഊള എഡിറ്റിംഗ് ആടോ ഇത് ഒരുമാതിരി vivo vid...  Not_offensive\n",
              "2         Fefka ee padam release cheyyan samadhicho?  Not_offensive\n",
              "3  അആഹാ.. സംഗീതം ജെക്‌സ് ബിജോയ് ആണ് അപ്പൊ പൊട്ടലു...  Not_offensive\n",
              "4  Ravile thane views likes ethra ayyi enn nokan ...  Not_offensive\n",
              "5  2.10- joju ചേട്ടന്റെ ആ ഇരുത്തം കണ്ടിട്ട് കിരീട...  Not_offensive\n",
              "6  Engane aada uvve 32K dislikes okke vanne? namm...  Not_offensive\n",
              "7  പടം കാണാത്തവരുണ്ടങ്കിൽ ഇന്ന് തന്നെ പോയി കണ്ടോ ...  Not_offensive\n",
              "8           Enta joju etta ningalithe ende bhavichaa  Not_offensive"
            ]
          },
          "metadata": {
            "tags": []
          },
          "execution_count": 21
        }
      ]
    },
    {
      "cell_type": "code",
      "metadata": {
        "colab": {
          "base_uri": "https://localhost:8080/",
          "height": 331
        },
        "id": "Ez1sDybzduwE",
        "outputId": "b58fa640-4ca9-4179-af37-3f8e0f3b65d0"
      },
      "source": [
        "test.label = test.label.apply({'Not_offensive':0,'Offensive_Untargetede':1,'Offensive_Targeted_Insult_Group':2,'Offensive_Targeted_Insult_Individual':3,'not-malayalam':4}.get)\r\n",
        "test.head(9)"
      ],
      "execution_count": 22,
      "outputs": [
        {
          "output_type": "execute_result",
          "data": {
            "text/html": [
              "<div>\n",
              "<style scoped>\n",
              "    .dataframe tbody tr th:only-of-type {\n",
              "        vertical-align: middle;\n",
              "    }\n",
              "\n",
              "    .dataframe tbody tr th {\n",
              "        vertical-align: top;\n",
              "    }\n",
              "\n",
              "    .dataframe thead th {\n",
              "        text-align: right;\n",
              "    }\n",
              "</style>\n",
              "<table border=\"1\" class=\"dataframe\">\n",
              "  <thead>\n",
              "    <tr style=\"text-align: right;\">\n",
              "      <th></th>\n",
              "      <th>text</th>\n",
              "      <th>label</th>\n",
              "    </tr>\n",
              "  </thead>\n",
              "  <tbody>\n",
              "    <tr>\n",
              "      <th>0</th>\n",
              "      <td>അപ്പൊ ഇതൊരൊന്നൊരാ മൊതലാണല്ലേ  Suraj ആണ് നടൻ ന്...</td>\n",
              "      <td>0</td>\n",
              "    </tr>\n",
              "    <tr>\n",
              "      <th>1</th>\n",
              "      <td>എന്ത് ഊള എഡിറ്റിംഗ് ആടോ ഇത് ഒരുമാതിരി vivo vid...</td>\n",
              "      <td>0</td>\n",
              "    </tr>\n",
              "    <tr>\n",
              "      <th>2</th>\n",
              "      <td>Fefka ee padam release cheyyan samadhicho?</td>\n",
              "      <td>0</td>\n",
              "    </tr>\n",
              "    <tr>\n",
              "      <th>3</th>\n",
              "      <td>അആഹാ.. സംഗീതം ജെക്‌സ് ബിജോയ് ആണ് അപ്പൊ പൊട്ടലു...</td>\n",
              "      <td>0</td>\n",
              "    </tr>\n",
              "    <tr>\n",
              "      <th>4</th>\n",
              "      <td>Ravile thane views likes ethra ayyi enn nokan ...</td>\n",
              "      <td>0</td>\n",
              "    </tr>\n",
              "    <tr>\n",
              "      <th>5</th>\n",
              "      <td>2.10- joju ചേട്ടന്റെ ആ ഇരുത്തം കണ്ടിട്ട് കിരീട...</td>\n",
              "      <td>0</td>\n",
              "    </tr>\n",
              "    <tr>\n",
              "      <th>6</th>\n",
              "      <td>Engane aada uvve 32K dislikes okke vanne? namm...</td>\n",
              "      <td>0</td>\n",
              "    </tr>\n",
              "    <tr>\n",
              "      <th>7</th>\n",
              "      <td>പടം കാണാത്തവരുണ്ടങ്കിൽ ഇന്ന് തന്നെ പോയി കണ്ടോ ...</td>\n",
              "      <td>0</td>\n",
              "    </tr>\n",
              "    <tr>\n",
              "      <th>8</th>\n",
              "      <td>Enta joju etta ningalithe ende bhavichaa</td>\n",
              "      <td>0</td>\n",
              "    </tr>\n",
              "  </tbody>\n",
              "</table>\n",
              "</div>"
            ],
            "text/plain": [
              "                                                text  label\n",
              "0  അപ്പൊ ഇതൊരൊന്നൊരാ മൊതലാണല്ലേ  Suraj ആണ് നടൻ ന്...      0\n",
              "1  എന്ത് ഊള എഡിറ്റിംഗ് ആടോ ഇത് ഒരുമാതിരി vivo vid...      0\n",
              "2         Fefka ee padam release cheyyan samadhicho?      0\n",
              "3  അആഹാ.. സംഗീതം ജെക്‌സ് ബിജോയ് ആണ് അപ്പൊ പൊട്ടലു...      0\n",
              "4  Ravile thane views likes ethra ayyi enn nokan ...      0\n",
              "5  2.10- joju ചേട്ടന്റെ ആ ഇരുത്തം കണ്ടിട്ട് കിരീട...      0\n",
              "6  Engane aada uvve 32K dislikes okke vanne? namm...      0\n",
              "7  പടം കാണാത്തവരുണ്ടങ്കിൽ ഇന്ന് തന്നെ പോയി കണ്ടോ ...      0\n",
              "8           Enta joju etta ningalithe ende bhavichaa      0"
            ]
          },
          "metadata": {
            "tags": []
          },
          "execution_count": 22
        }
      ]
    },
    {
      "cell_type": "code",
      "metadata": {
        "id": "XxRWgYgt6OlH"
      },
      "source": [
        "import re\r\n",
        "def clean(df):\r\n",
        "    df['text'] = df['text'].apply(lambda x: x.lower())\r\n",
        "    df['text'] = df['text'].apply(lambda x: re.sub(r' +', ' ',x))\r\n",
        "    df['text'] = df['text'].apply(lambda x: re.sub(\"[!@#$+%*:()'-]\", ' ',x))\r\n",
        "    df['text'] = df['text'].str.replace('\\d+', '')\r\n",
        "\r\n",
        "clean(train)\r\n",
        "clean(val)\r\n",
        "clean(test)"
      ],
      "execution_count": 23,
      "outputs": []
    },
    {
      "cell_type": "code",
      "metadata": {
        "id": "OBgPd5gd6dfk"
      },
      "source": [
        "import pandas as pd\r\n",
        "from torch.utils.data import Dataset,DataLoader\r\n",
        "\r\n",
        "class RFDataset(Dataset):\r\n",
        "  def __init__(self,text,label,tokenizer,max_len):\r\n",
        "    self.text = text\r\n",
        "    self.label = label\r\n",
        "    self.tokenizer = tokenizer\r\n",
        "    self.max_len = max_len\r\n",
        "  \r\n",
        "  def __len__(self):\r\n",
        "    return len(self.text)\r\n",
        "  \r\n",
        "  def __getitem__(self,item):\r\n",
        "    text = str(self.text[item])\r\n",
        "    label = self.label[item]\r\n",
        "\r\n",
        "    encoding = self.tokenizer.encode_plus(\r\n",
        "        text,\r\n",
        "        add_special_tokens=True,\r\n",
        "        max_length = self.max_len,\r\n",
        "        return_token_type_ids = False,\r\n",
        "        padding = 'max_length',\r\n",
        "        return_attention_mask= True,\r\n",
        "        return_tensors='pt',\r\n",
        "        truncation=True\r\n",
        "    )\r\n",
        "\r\n",
        "    return {\r\n",
        "        'text' : text,\r\n",
        "        'input_ids' : encoding['input_ids'].flatten(),\r\n",
        "        'attention_mask' : encoding['attention_mask'].flatten(),\r\n",
        "        'label' : torch.tensor(label,dtype=torch.long)\r\n",
        "\r\n",
        "    }"
      ],
      "execution_count": 24,
      "outputs": []
    },
    {
      "cell_type": "code",
      "metadata": {
        "colab": {
          "base_uri": "https://localhost:8080/"
        },
        "id": "pMktTZ6_6hJD",
        "outputId": "ab9c0e8b-a62b-4090-bf09-2d3e8b450ca0"
      },
      "source": [
        "print('Training set size:',train.shape)\r\n",
        "print('Testing set size:',test.shape)\r\n",
        "print('validation set size:',val.shape)"
      ],
      "execution_count": 25,
      "outputs": [
        {
          "output_type": "stream",
          "text": [
            "Training set size: (16010, 2)\n",
            "Testing set size: (2001, 2)\n",
            "validation set size: (1999, 2)\n"
          ],
          "name": "stdout"
        }
      ]
    },
    {
      "cell_type": "code",
      "metadata": {
        "id": "nbTsj5mJ6kVW"
      },
      "source": [
        "def create_data_loader(df,tokenizer,max_len,batch_size,shuffle):\r\n",
        "  ds = RFDataset(\r\n",
        "      text = df.text.to_numpy(),\r\n",
        "      label = df.label.to_numpy(),\r\n",
        "      tokenizer = tokenizer,\r\n",
        "      max_len = max_len\r\n",
        "  )\r\n",
        "\r\n",
        "  return DataLoader(ds,\r\n",
        "                    batch_size = batch_size,\r\n",
        "                    shuffle = shuffle,\r\n",
        "                    num_workers=4)"
      ],
      "execution_count": 26,
      "outputs": []
    },
    {
      "cell_type": "code",
      "metadata": {
        "colab": {
          "base_uri": "https://localhost:8080/",
          "height": 66,
          "referenced_widgets": [
            "a4021437869a4c028e2071409662d4e5",
            "58b8a08999144e3dba4fe5fc8693ee44",
            "f705b78d99af4204a8117bb15c5531da",
            "78a0c593c287418d804ba6314a7611f8",
            "1c1e25fc48c940f68c4f7011e54cfc0e",
            "ac82f0b44655415db8b2f3d48d22e0e3",
            "54398d1508c04c438849573d4a6a7352",
            "f4f3d96d34a24cf1924898edcf53873c"
          ]
        },
        "id": "5Cef5tnX6pC2",
        "outputId": "809f1754-6a81-4d8f-e359-2b5b58b9eb0d"
      },
      "source": [
        "PRE_TRAINED_MODEL_NAME = 'distilbert-base-multilingual-cased'\r\n",
        "tokenizer = AutoTokenizer.from_pretrained(PRE_TRAINED_MODEL_NAME,return_dict=False)"
      ],
      "execution_count": 28,
      "outputs": [
        {
          "output_type": "display_data",
          "data": {
            "application/vnd.jupyter.widget-view+json": {
              "model_id": "a4021437869a4c028e2071409662d4e5",
              "version_minor": 0,
              "version_major": 2
            },
            "text/plain": [
              "HBox(children=(FloatProgress(value=0.0, description='Downloading', max=466.0, style=ProgressStyle(description_…"
            ]
          },
          "metadata": {
            "tags": []
          }
        },
        {
          "output_type": "stream",
          "text": [
            "\n"
          ],
          "name": "stdout"
        }
      ]
    },
    {
      "cell_type": "code",
      "metadata": {
        "id": "xxlzHnmn6zD7"
      },
      "source": [
        "BATCH_SIZE = 32\r\n",
        "MAX_LEN = 128\r\n",
        "train_data_loader = create_data_loader(train,tokenizer,MAX_LEN,BATCH_SIZE,shuffle=True)\r\n",
        "val_data_loader = create_data_loader(val,tokenizer,MAX_LEN,BATCH_SIZE,shuffle=True)\r\n",
        "test_data_loader = create_data_loader(test,tokenizer,MAX_LEN,BATCH_SIZE,shuffle=False)"
      ],
      "execution_count": 44,
      "outputs": []
    },
    {
      "cell_type": "code",
      "metadata": {
        "id": "-vcgyKwj7Fyg"
      },
      "source": [
        "DistilBertModel = AutoModel.from_pretrained(PRE_TRAINED_MODEL_NAME)"
      ],
      "execution_count": 47,
      "outputs": []
    },
    {
      "cell_type": "code",
      "metadata": {
        "id": "_6MKa2db7GkL"
      },
      "source": [
        "class DistilBERTClass(torch.nn.Module):\r\n",
        "    def __init__(self):\r\n",
        "        super(DistilBERTClass, self).__init__()\r\n",
        "        self.l1 = DistilBertModel.from_pretrained(\"distilbert-base-multilingual-cased\")\r\n",
        "        self.pre_classifier = torch.nn.Linear(768, 768)\r\n",
        "        self.dropout = torch.nn.Dropout(0.3)\r\n",
        "        self.classifier = torch.nn.Linear(768, 5)\r\n",
        "\r\n",
        "    def forward(self, input_ids, attention_mask):\r\n",
        "        output_1 = self.l1(input_ids=input_ids, attention_mask=attention_mask)\r\n",
        "        hidden_state = output_1[0]\r\n",
        "        pooler = hidden_state[:, 0]\r\n",
        "        pooler = self.pre_classifier(pooler)\r\n",
        "        pooler = torch.nn.ReLU()(pooler)\r\n",
        "        pooler = self.dropout(pooler)\r\n",
        "        output = self.classifier(pooler)\r\n",
        "        return output"
      ],
      "execution_count": 48,
      "outputs": []
    },
    {
      "cell_type": "code",
      "metadata": {
        "id": "mwguXGDg7P61"
      },
      "source": [
        "model = DistilBERTClass()\r\n",
        "model = model.to(device)"
      ],
      "execution_count": 49,
      "outputs": []
    },
    {
      "cell_type": "code",
      "metadata": {
        "id": "ENH4eoXi7e0Y"
      },
      "source": [
        "from transformers import AdamW,get_linear_schedule_with_warmup\r\n",
        "EPOCHS = 5\r\n",
        "optimizer = AdamW(model.parameters(), lr=2e-5, correct_bias=False)\r\n",
        "total_steps = len(train_data_loader) * EPOCHS\r\n",
        "scheduler = get_linear_schedule_with_warmup(\r\n",
        "  optimizer,\r\n",
        "  num_warmup_steps=0,\r\n",
        "  num_training_steps=total_steps\r\n",
        ")\r\n",
        "\r\n",
        "loss_fn = nn.CrossEntropyLoss().to(device)"
      ],
      "execution_count": 50,
      "outputs": []
    },
    {
      "cell_type": "code",
      "metadata": {
        "id": "HMFWF2cP7lsM"
      },
      "source": [
        "def train_epoch(model,data_loader,loss_fn,optimizer,device,scheduler,n_examples):\r\n",
        "    model = model.train()\r\n",
        "    losses = []\r\n",
        "    correct_predictions = 0\r\n",
        "\r\n",
        "    for data in data_loader:\r\n",
        "        input_ids = data['input_ids'].to(device)\r\n",
        "        attention_mask = data['attention_mask'].to(device)\r\n",
        "        label = data['label'].to(device)\r\n",
        "\r\n",
        "        outputs = model(\r\n",
        "            input_ids=input_ids,\r\n",
        "            attention_mask=attention_mask\r\n",
        "            )\r\n",
        "        _, preds = torch.max(outputs, dim=1)\r\n",
        "        loss = loss_fn(outputs,label)\r\n",
        "\r\n",
        "        correct_predictions += torch.sum(preds == label)\r\n",
        "        losses.append(loss.item())\r\n",
        "\r\n",
        "        loss.backward()\r\n",
        "        nn.utils.clip_grad_norm_(model.parameters(), max_norm=1.0)\r\n",
        "        optimizer.step()\r\n",
        "        scheduler.step()\r\n",
        "        optimizer.zero_grad()\r\n",
        "\r\n",
        "    return correct_predictions.double() / n_examples, np.mean(losses)"
      ],
      "execution_count": 51,
      "outputs": []
    },
    {
      "cell_type": "code",
      "metadata": {
        "id": "wXKQKeMh7xre"
      },
      "source": [
        "def eval_model(model, data_loader, loss_fn, device, n_examples):\r\n",
        "  model = model.eval()\r\n",
        "  losses = []\r\n",
        "  correct_predictions = 0\r\n",
        "  with torch.no_grad():\r\n",
        "    for d in data_loader:\r\n",
        "      input_ids = d[\"input_ids\"].to(device)\r\n",
        "      attention_mask = d[\"attention_mask\"].to(device)\r\n",
        "      label = d[\"label\"].to(device)\r\n",
        "      outputs = model(\r\n",
        "        input_ids=input_ids,\r\n",
        "        attention_mask=attention_mask\r\n",
        "      )\r\n",
        "      _, preds = torch.max(outputs, dim=1)\r\n",
        "      loss = loss_fn(outputs, label)\r\n",
        "      correct_predictions += torch.sum(preds == label)\r\n",
        "      losses.append(loss.item())\r\n",
        "  return correct_predictions.double() / n_examples, np.mean(losses)"
      ],
      "execution_count": 52,
      "outputs": []
    },
    {
      "cell_type": "code",
      "metadata": {
        "id": "JgMyvQvA7461"
      },
      "source": [
        "import time\r\n",
        "\r\n",
        "def epoch_time(start_time, end_time):\r\n",
        "    elapsed_time = end_time - start_time\r\n",
        "    elapsed_mins = int(elapsed_time / 60)\r\n",
        "    elapsed_secs = int(elapsed_time - (elapsed_mins * 60))\r\n",
        "    return elapsed_mins, elapsed_secs"
      ],
      "execution_count": 53,
      "outputs": []
    },
    {
      "cell_type": "code",
      "metadata": {
        "colab": {
          "base_uri": "https://localhost:8080/"
        },
        "id": "TjXg_FfC7964",
        "outputId": "807865ce-7162-4981-8793-8d75eeb35071"
      },
      "source": [
        "from collections import defaultdict\r\n",
        "import torch\r\n",
        " \r\n",
        "history = defaultdict(list)\r\n",
        "best_accuracy = 0\r\n",
        "for epoch in range(EPOCHS):\r\n",
        " \r\n",
        " \r\n",
        "  start_time = time.time()\r\n",
        "  train_acc,train_loss = train_epoch(\r\n",
        "      model,\r\n",
        "      train_data_loader,\r\n",
        "      loss_fn,\r\n",
        "      optimizer,\r\n",
        "      device,\r\n",
        "      scheduler,\r\n",
        "      len(train)\r\n",
        "  )\r\n",
        "   \r\n",
        "  \r\n",
        "  val_acc,val_loss = eval_model(\r\n",
        "      model,\r\n",
        "      val_data_loader,\r\n",
        "      loss_fn,\r\n",
        "      device,\r\n",
        "      len(val)\r\n",
        "  )\r\n",
        "  \r\n",
        "  end_time = time.time()\r\n",
        "  epoch_mins, epoch_secs = epoch_time(start_time, end_time)\r\n",
        "  print(f'Epoch: {epoch+1:02} | Epoch Time: {epoch_mins}m {epoch_secs}s')\r\n",
        "  print(f'Train Loss {train_loss} accuracy {train_acc}')\r\n",
        "  print(f'Val Loss {val_loss} accuracy {val_acc}')\r\n",
        "  print()\r\n",
        "\r\n",
        "  history['train_acc'].append(train_acc)\r\n",
        "  history['train_loss'].append(train_loss)\r\n",
        "  history['val_acc'].append(val_acc)\r\n",
        "  history['val_loss'].append(val_loss)\r\n",
        "\r\n",
        "  if val_acc > best_accuracy:\r\n",
        "    torch.save(model.state_dict(),'bert-base-multilingual-cased.bin')\r\n",
        "    best_accuracy = val_acc"
      ],
      "execution_count": 54,
      "outputs": [
        {
          "output_type": "stream",
          "text": [
            "Epoch: 01 | Epoch Time: 5m 57s\n",
            "Train Loss 0.3113711522947885 accuracy 0.921424109931293\n",
            "Val Loss 0.22445546031471283 accuracy 0.9404702351175587\n",
            "\n",
            "Epoch: 02 | Epoch Time: 5m 56s\n",
            "Train Loss 0.20867893547042757 accuracy 0.9482198625858838\n",
            "Val Loss 0.2076687975121396 accuracy 0.9474737368684342\n",
            "\n",
            "Epoch: 03 | Epoch Time: 5m 56s\n",
            "Train Loss 0.15647559191105875 accuracy 0.9596502186133666\n",
            "Val Loss 0.19480361517459627 accuracy 0.9524762381190595\n",
            "\n",
            "Epoch: 04 | Epoch Time: 5m 56s\n",
            "Train Loss 0.1149325269802349 accuracy 0.9698313554028732\n",
            "Val Loss 0.2049836371729653 accuracy 0.9539769884942471\n",
            "\n",
            "Epoch: 05 | Epoch Time: 5m 56s\n",
            "Train Loss 0.08883635549687087 accuracy 0.9763272954403498\n",
            "Val Loss 0.2113353312089448 accuracy 0.9549774887443722\n",
            "\n"
          ],
          "name": "stdout"
        }
      ]
    },
    {
      "cell_type": "code",
      "metadata": {
        "colab": {
          "base_uri": "https://localhost:8080/",
          "height": 312
        },
        "id": "lXzI1n0J8EZn",
        "outputId": "7112adf6-ee12-4764-d4e6-98987050d64d"
      },
      "source": [
        "import matplotlib.pyplot as plt\r\n",
        "plt.plot(history['train_acc'], label='train accuracy')\r\n",
        "plt.plot(history['val_acc'], label='validation accuracy')\r\n",
        "plt.title('Training history')\r\n",
        "plt.ylabel('Accuracy')\r\n",
        "plt.xlabel('Epoch')\r\n",
        "plt.legend()\r\n",
        "#plt.ylim([0, 1])"
      ],
      "execution_count": 55,
      "outputs": [
        {
          "output_type": "execute_result",
          "data": {
            "text/plain": [
              "<matplotlib.legend.Legend at 0x7f81a86d85f8>"
            ]
          },
          "metadata": {
            "tags": []
          },
          "execution_count": 55
        },
        {
          "output_type": "display_data",
          "data": {
            "image/png": "[encoded data removed]",
            "text/plain": [
              "<Figure size 432x288 with 1 Axes>"
            ]
          },
          "metadata": {
            "tags": [],
            "needs_background": "light"
          }
        }
      ]
    },
    {
      "cell_type": "code",
      "metadata": {
        "id": "RHm_zGPf8Ime"
      },
      "source": [
        "def get_predictions(model, data_loader):\r\n",
        "  model = model.eval()\r\n",
        "  sentence = []\r\n",
        "  predictions = []\r\n",
        "  prediction_probs = []\r\n",
        "  real_values = []\r\n",
        "  with torch.no_grad():\r\n",
        "    for d in data_loader:\r\n",
        "      texts = d[\"text\"]\r\n",
        "      input_ids = d[\"input_ids\"].to(device)\r\n",
        "      attention_mask = d[\"attention_mask\"].to(device)\r\n",
        "      labels = d[\"label\"].to(device)\r\n",
        "      outputs = model(\r\n",
        "        input_ids=input_ids,\r\n",
        "        attention_mask=attention_mask\r\n",
        "      )\r\n",
        "      _, preds = torch.max(outputs, dim=1)\r\n",
        "      sentence.extend(texts)\r\n",
        "      predictions.extend(preds)\r\n",
        "      prediction_probs.extend(outputs)\r\n",
        "      real_values.extend(labels)\r\n",
        "  predictions = torch.stack(predictions).cpu()\r\n",
        "  prediction_probs = torch.stack(prediction_probs).cpu()\r\n",
        "  real_values = torch.stack(real_values).cpu()\r\n",
        "  return sentence, predictions, prediction_probs, real_values"
      ],
      "execution_count": 56,
      "outputs": []
    },
    {
      "cell_type": "code",
      "metadata": {
        "id": "UqcCViIN8grv"
      },
      "source": [
        "y_review_texts, y_pred, y_pred_probs, y_test = get_predictions(\r\n",
        "  model,\r\n",
        "  test_data_loader\r\n",
        ")"
      ],
      "execution_count": 57,
      "outputs": []
    },
    {
      "cell_type": "code",
      "metadata": {
        "id": "2EdGm8uN83MJ"
      },
      "source": [
        "class_name = ['Not_offensive' ,'Offensive_Untargetede' ,'Offensive_Targeted_Insult_Group' ,\r\n",
        "'Offensive_Targeted_Insult_Individual' ,'not-malayalam' ]"
      ],
      "execution_count": 58,
      "outputs": []
    },
    {
      "cell_type": "code",
      "metadata": {
        "colab": {
          "base_uri": "https://localhost:8080/"
        },
        "id": "LwSRzclREYAP",
        "outputId": "75c1fb74-ac72-48a4-e05b-d0026f7c9ce4"
      },
      "source": [
        "from sklearn.metrics import classification_report,confusion_matrix\r\n",
        "print(classification_report(y_test, y_pred, target_names=class_name,zero_division=0))"
      ],
      "execution_count": 59,
      "outputs": [
        {
          "output_type": "stream",
          "text": [
            "                                      precision    recall  f1-score   support\n",
            "\n",
            "                       Not_offensive       0.97      0.98      0.97      1765\n",
            "               Offensive_Untargetede       0.48      0.55      0.52        29\n",
            "     Offensive_Targeted_Insult_Group       0.80      0.17      0.29        23\n",
            "Offensive_Targeted_Insult_Individual       0.32      0.33      0.33        27\n",
            "                       not-malayalam       0.91      0.87      0.89       157\n",
            "\n",
            "                            accuracy                           0.95      2001\n",
            "                           macro avg       0.70      0.58      0.60      2001\n",
            "                        weighted avg       0.95      0.95      0.94      2001\n",
            "\n"
          ],
          "name": "stdout"
        }
      ]
    },
    {
      "cell_type": "code",
      "metadata": {
        "id": "iLwJbrxreAmx"
      },
      "source": [
        ""
      ],
      "execution_count": null,
      "outputs": []
    }
  ]
}