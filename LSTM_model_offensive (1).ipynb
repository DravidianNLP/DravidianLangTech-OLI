{
 "cells": [
  {
   "cell_type": "code",
   "execution_count": 87,
   "metadata": {},
   "outputs": [],
   "source": [
    "import pandas as pd\n",
    "import numpy as np\n",
    "from sklearn.feature_extraction.text import CountVectorizer\n",
    "from keras.preprocessing.text import Tokenizer\n",
    "from keras.preprocessing.sequence import pad_sequences\n",
    "from keras.models import Sequential\n",
    "from keras.layers import Dense, Embedding, LSTM\n",
    "from sklearn.model_selection import train_test_split\n",
    "from keras.utils.np_utils import to_categorical\n",
    "import re\n",
    "import matplotlib.pyplot as plt"
   ]
  },
  {
   "cell_type": "code",
   "execution_count": 88,
   "metadata": {},
   "outputs": [],
   "source": [
    "train = pd.read_csv(r'C:\\Users\\Yasaswini\\Downloads\\kannada_offensive_train.csv')\n",
    "val = pd.read_csv(r'C:\\Users\\Yasaswini\\Downloads\\kannada_offensive_dev.csv')"
   ]
  },
  {
   "cell_type": "code",
   "execution_count": 89,
   "metadata": {},
   "outputs": [
    {
     "data": {
      "text/html": [
       "<div>\n",
       "<style scoped>\n",
       "    .dataframe tbody tr th:only-of-type {\n",
       "        vertical-align: middle;\n",
       "    }\n",
       "\n",
       "    .dataframe tbody tr th {\n",
       "        vertical-align: top;\n",
       "    }\n",
       "\n",
       "    .dataframe thead th {\n",
       "        text-align: right;\n",
       "    }\n",
       "</style>\n",
       "<table border=\"1\" class=\"dataframe\">\n",
       "  <thead>\n",
       "    <tr style=\"text-align: right;\">\n",
       "      <th></th>\n",
       "      <th>Tik tok alli jagala madtidralla adra baggenu ondu video madi anna super agi ugididdira\tNot_offensive</th>\n",
       "    </tr>\n",
       "  </thead>\n",
       "  <tbody>\n",
       "    <tr>\n",
       "      <th>0</th>\n",
       "      <td>Anyone from kerala here\\tnot-Kannada</td>\n",
       "    </tr>\n",
       "    <tr>\n",
       "      <th>1</th>\n",
       "      <td>Movie rerelease madi plss\\tNot_offensive</td>\n",
       "    </tr>\n",
       "    <tr>\n",
       "      <th>2</th>\n",
       "      <td>Amazon prime alli bittidira....yella manele no...</td>\n",
       "    </tr>\n",
       "    <tr>\n",
       "      <th>3</th>\n",
       "      <td>Guru sure news nanu tik tok dawn lod madeda ya...</td>\n",
       "    </tr>\n",
       "    <tr>\n",
       "      <th>4</th>\n",
       "      <td>ಸುದೀಪ್ ಸರ್ ಅಂಡ್ ದರ್ಶನ್ ಸರ್ ಅವರಿಗೆ ಇರೋ ಫ್ಯಾನ್ಸ್...</td>\n",
       "    </tr>\n",
       "  </tbody>\n",
       "</table>\n",
       "</div>"
      ],
      "text/plain": [
       "  Tik tok alli jagala madtidralla adra baggenu ondu video madi anna super agi ugididdira\\tNot_offensive\n",
       "0               Anyone from kerala here\\tnot-Kannada                                                   \n",
       "1           Movie rerelease madi plss\\tNot_offensive                                                   \n",
       "2  Amazon prime alli bittidira....yella manele no...                                                   \n",
       "3  Guru sure news nanu tik tok dawn lod madeda ya...                                                   \n",
       "4  ಸುದೀಪ್ ಸರ್ ಅಂಡ್ ದರ್ಶನ್ ಸರ್ ಅವರಿಗೆ ಇರೋ ಫ್ಯಾನ್ಸ್...                                                   "
      ]
     },
     "execution_count": 89,
     "metadata": {},
     "output_type": "execute_result"
    }
   ],
   "source": [
    "train.head()"
   ]
  },
  {
   "cell_type": "code",
   "execution_count": 90,
   "metadata": {},
   "outputs": [
    {
     "data": {
      "text/plain": [
       "Index(['Tik tok alli jagala madtidralla adra baggenu ondu video madi anna super agi ugididdira\\tNot_offensive'], dtype='object')"
      ]
     },
     "execution_count": 90,
     "metadata": {},
     "output_type": "execute_result"
    }
   ],
   "source": [
    "train.columns"
   ]
  },
  {
   "cell_type": "code",
   "execution_count": 91,
   "metadata": {},
   "outputs": [
    {
     "data": {
      "text/html": [
       "<div>\n",
       "<style scoped>\n",
       "    .dataframe tbody tr th:only-of-type {\n",
       "        vertical-align: middle;\n",
       "    }\n",
       "\n",
       "    .dataframe tbody tr th {\n",
       "        vertical-align: top;\n",
       "    }\n",
       "\n",
       "    .dataframe thead th {\n",
       "        text-align: right;\n",
       "    }\n",
       "</style>\n",
       "<table border=\"1\" class=\"dataframe\">\n",
       "  <thead>\n",
       "    <tr style=\"text-align: right;\">\n",
       "      <th></th>\n",
       "      <th>Tik tok alli jagala madtidralla adra baggenu ondu video madi anna super agi ugididdira\tNot_offensive</th>\n",
       "    </tr>\n",
       "  </thead>\n",
       "  <tbody>\n",
       "    <tr>\n",
       "      <th>count</th>\n",
       "      <td>6216</td>\n",
       "    </tr>\n",
       "    <tr>\n",
       "      <th>unique</th>\n",
       "      <td>5935</td>\n",
       "    </tr>\n",
       "    <tr>\n",
       "      <th>top</th>\n",
       "      <td>ಚಂದನ್ ಶೆಟ್ಟಿ ಟ್ರೊಲ್ ವಿಡಿಯೋ ನೀವು ನೋಡಿ ನೆಗಡ್ಡೆ ಇ...</td>\n",
       "    </tr>\n",
       "    <tr>\n",
       "      <th>freq</th>\n",
       "      <td>66</td>\n",
       "    </tr>\n",
       "  </tbody>\n",
       "</table>\n",
       "</div>"
      ],
      "text/plain": [
       "       Tik tok alli jagala madtidralla adra baggenu ondu video madi anna super agi ugididdira\\tNot_offensive\n",
       "count                                                6216                                                   \n",
       "unique                                               5935                                                   \n",
       "top     ಚಂದನ್ ಶೆಟ್ಟಿ ಟ್ರೊಲ್ ವಿಡಿಯೋ ನೀವು ನೋಡಿ ನೆಗಡ್ಡೆ ಇ...                                                   \n",
       "freq                                                   66                                                   "
      ]
     },
     "execution_count": 91,
     "metadata": {},
     "output_type": "execute_result"
    }
   ],
   "source": [
    "train.describe()"
   ]
  },
  {
   "cell_type": "code",
   "execution_count": 92,
   "metadata": {},
   "outputs": [
    {
     "data": {
      "text/html": [
       "<div>\n",
       "<style scoped>\n",
       "    .dataframe tbody tr th:only-of-type {\n",
       "        vertical-align: middle;\n",
       "    }\n",
       "\n",
       "    .dataframe tbody tr th {\n",
       "        vertical-align: top;\n",
       "    }\n",
       "\n",
       "    .dataframe thead th {\n",
       "        text-align: right;\n",
       "    }\n",
       "</style>\n",
       "<table border=\"1\" class=\"dataframe\">\n",
       "  <thead>\n",
       "    <tr style=\"text-align: right;\">\n",
       "      <th></th>\n",
       "      <th>sentence</th>\n",
       "      <th>classes</th>\n",
       "    </tr>\n",
       "  </thead>\n",
       "  <tbody>\n",
       "    <tr>\n",
       "      <th>0</th>\n",
       "      <td>Tik tok alli jagala madtidralla adra baggenu o...</td>\n",
       "      <td>Not_offensive</td>\n",
       "    </tr>\n",
       "    <tr>\n",
       "      <th>1</th>\n",
       "      <td>Anyone from kerala here</td>\n",
       "      <td>not-Kannada</td>\n",
       "    </tr>\n",
       "    <tr>\n",
       "      <th>2</th>\n",
       "      <td>Movie rerelease madi plss</td>\n",
       "      <td>Not_offensive</td>\n",
       "    </tr>\n",
       "    <tr>\n",
       "      <th>3</th>\n",
       "      <td>Amazon prime alli bittidira....yella manele no...</td>\n",
       "      <td>Not_offensive</td>\n",
       "    </tr>\n",
       "    <tr>\n",
       "      <th>4</th>\n",
       "      <td>Guru sure news nanu tik tok dawn lod madeda ya...</td>\n",
       "      <td>Not_offensive</td>\n",
       "    </tr>\n",
       "  </tbody>\n",
       "</table>\n",
       "</div>"
      ],
      "text/plain": [
       "                                            sentence        classes\n",
       "0  Tik tok alli jagala madtidralla adra baggenu o...  Not_offensive\n",
       "1                            Anyone from kerala here    not-Kannada\n",
       "2                          Movie rerelease madi plss  Not_offensive\n",
       "3  Amazon prime alli bittidira....yella manele no...  Not_offensive\n",
       "4  Guru sure news nanu tik tok dawn lod madeda ya...  Not_offensive"
      ]
     },
     "execution_count": 92,
     "metadata": {},
     "output_type": "execute_result"
    }
   ],
   "source": [
    "train = pd.read_csv(r'C:\\Users\\Yasaswini\\Downloads\\kannada_offensive_train.csv', delimiter='\\t', names=['sentence','classes','nan'])\n",
    "train = train.drop(columns=['nan'])\n",
    "train.head()"
   ]
  },
  {
   "cell_type": "code",
   "execution_count": 93,
   "metadata": {},
   "outputs": [
    {
     "data": {
      "text/plain": [
       "Not_offensive                           3543\n",
       "not-Kannada                             1521\n",
       "Offensive_Targeted_Insult_Individual     487\n",
       "Offensive_Targeted_Insult_Group          329\n",
       "Offensive_Untargetede                    212\n",
       "Offensive_Targeted_Insult_Other          123\n",
       "30                                         1\n",
       "Name: classes, dtype: int64"
      ]
     },
     "execution_count": 93,
     "metadata": {},
     "output_type": "execute_result"
    }
   ],
   "source": [
    "train['classes'].value_counts()"
   ]
  },
  {
   "cell_type": "code",
   "execution_count": 94,
   "metadata": {},
   "outputs": [],
   "source": [
    "i = train[(train.classes=='30')].index\n",
    "train = train.drop(i)"
   ]
  },
  {
   "cell_type": "code",
   "execution_count": 95,
   "metadata": {},
   "outputs": [
    {
     "data": {
      "text/plain": [
       "Not_offensive                           3543\n",
       "not-Kannada                             1521\n",
       "Offensive_Targeted_Insult_Individual     487\n",
       "Offensive_Targeted_Insult_Group          329\n",
       "Offensive_Untargetede                    212\n",
       "Offensive_Targeted_Insult_Other          123\n",
       "Name: classes, dtype: int64"
      ]
     },
     "execution_count": 95,
     "metadata": {},
     "output_type": "execute_result"
    }
   ],
   "source": [
    "train['classes'].value_counts()"
   ]
  },
  {
   "cell_type": "code",
   "execution_count": 96,
   "metadata": {},
   "outputs": [],
   "source": [
    "train['sentence'] = train['sentence'].apply(lambda x: x.lower())\n",
    "train['sentence'] = train['sentence'].apply(lambda x: re.sub(r' +', ' ',x))\n",
    "max_features = 2000\n",
    "tokenizer = Tokenizer(num_words=max_features, split=' ')\n",
    "tokenizer.fit_on_texts(train['sentence'].values)\n",
    "X  = tokenizer.texts_to_sequences(train['sentence'].values)\n",
    "X = pad_sequences(X)"
   ]
  },
  {
   "cell_type": "code",
   "execution_count": 97,
   "metadata": {
    "scrolled": true
   },
   "outputs": [
    {
     "name": "stdout",
     "output_type": "stream",
     "text": [
      "(4972, 61) (4972, 6)\n",
      "(1244, 61) (1244, 6)\n"
     ]
    }
   ],
   "source": [
    "target_names = train['classes'].unique()\n",
    "target_dict = {n:i for i, n in enumerate(target_names)}\n",
    "Y = train['classes'].map(target_dict)\n",
    "Y = to_categorical(Y)\n",
    "Y = pd.get_dummies(train['classes']).values\n",
    "X_train, X_test, Y_train, Y_test = train_test_split(X,Y, test_size = 0.20, random_state = 42)\n",
    "print(X_train.shape,Y_train.shape)\n",
    "print(X_test.shape,Y_test.shape)"
   ]
  },
  {
   "cell_type": "code",
   "execution_count": 98,
   "metadata": {},
   "outputs": [
    {
     "name": "stdout",
     "output_type": "stream",
     "text": [
      "Model: \"sequential_8\"\n",
      "_________________________________________________________________\n",
      "Layer (type)                 Output Shape              Param #   \n",
      "=================================================================\n",
      "embedding_7 (Embedding)      (None, 61, 100)           200000    \n",
      "_________________________________________________________________\n",
      "lstm_7 (LSTM)                (None, 128)               117248    \n",
      "_________________________________________________________________\n",
      "dense_7 (Dense)              (None, 6)                 774       \n",
      "=================================================================\n",
      "Total params: 318,022\n",
      "Trainable params: 318,022\n",
      "Non-trainable params: 0\n",
      "_________________________________________________________________\n",
      "None\n"
     ]
    }
   ],
   "source": [
    "embed_dim = 100\n",
    "lstm_out = 128\n",
    "model = Sequential()\n",
    "model.add(Embedding(max_features, embed_dim,input_length = X_train.shape[1] ))\n",
    "model.add(LSTM(lstm_out,return_sequences=False))\n",
    "model.add(Dense(6,activation='softmax'))\n",
    "\n",
    "print(model.summary())"
   ]
  },
  {
   "cell_type": "code",
   "execution_count": 99,
   "metadata": {},
   "outputs": [],
   "source": [
    "model.compile(loss = 'categorical_crossentropy', optimizer='adam',metrics = ['accuracy'])"
   ]
  },
  {
   "cell_type": "code",
   "execution_count": 100,
   "metadata": {},
   "outputs": [
    {
     "name": "stdout",
     "output_type": "stream",
     "text": [
      "Train on 4972 samples, validate on 1244 samples\n",
      "Epoch 1/50\n",
      " - 16s - loss: 1.1230 - acc: 0.5907 - val_loss: 0.9545 - val_acc: 0.6656\n",
      "Epoch 2/50\n",
      " - 15s - loss: 0.7826 - acc: 0.7253 - val_loss: 0.8814 - val_acc: 0.6961\n",
      "Epoch 3/50\n",
      " - 16s - loss: 0.6545 - acc: 0.7593 - val_loss: 0.9160 - val_acc: 0.6905\n",
      "Epoch 4/50\n",
      " - 17s - loss: 0.5911 - acc: 0.7852 - val_loss: 0.9415 - val_acc: 0.6801\n",
      "Epoch 5/50\n",
      " - 15s - loss: 0.5256 - acc: 0.8027 - val_loss: 1.0256 - val_acc: 0.6752\n",
      "Epoch 6/50\n",
      " - 16s - loss: 0.4746 - acc: 0.8188 - val_loss: 1.0692 - val_acc: 0.6744\n",
      "Epoch 7/50\n",
      " - 15s - loss: 0.4291 - acc: 0.8345 - val_loss: 1.1620 - val_acc: 0.6760\n",
      "Epoch 8/50\n",
      " - 15s - loss: 0.3883 - acc: 0.8490 - val_loss: 1.2295 - val_acc: 0.6632\n",
      "Epoch 9/50\n",
      " - 14s - loss: 0.3451 - acc: 0.8652 - val_loss: 1.2742 - val_acc: 0.6672\n",
      "Epoch 10/50\n",
      " - 15s - loss: 0.3135 - acc: 0.8737 - val_loss: 1.3232 - val_acc: 0.6495\n",
      "Epoch 11/50\n",
      " - 15s - loss: 0.2846 - acc: 0.8821 - val_loss: 1.4489 - val_acc: 0.6495\n",
      "Epoch 12/50\n",
      " - 15s - loss: 0.2662 - acc: 0.8874 - val_loss: 1.4758 - val_acc: 0.6535\n",
      "Epoch 13/50\n",
      " - 17s - loss: 0.2455 - acc: 0.9000 - val_loss: 1.5385 - val_acc: 0.6463\n",
      "Epoch 14/50\n",
      " - 15s - loss: 0.2330 - acc: 0.9004 - val_loss: 1.6713 - val_acc: 0.6527\n",
      "Epoch 15/50\n",
      " - 16s - loss: 0.2236 - acc: 0.9008 - val_loss: 1.7781 - val_acc: 0.6439\n",
      "Epoch 16/50\n",
      " - 17s - loss: 0.2112 - acc: 0.9085 - val_loss: 1.8013 - val_acc: 0.6423\n",
      "Epoch 17/50\n",
      " - 15s - loss: 0.2026 - acc: 0.9143 - val_loss: 1.8476 - val_acc: 0.6359\n",
      "Epoch 18/50\n",
      " - 14s - loss: 0.2001 - acc: 0.9161 - val_loss: 1.8743 - val_acc: 0.6326\n",
      "Epoch 19/50\n",
      " - 14s - loss: 0.1995 - acc: 0.9131 - val_loss: 1.8450 - val_acc: 0.6479\n",
      "Epoch 20/50\n",
      " - 16s - loss: 0.1868 - acc: 0.9187 - val_loss: 1.9603 - val_acc: 0.6423\n",
      "Epoch 21/50\n",
      " - 16s - loss: 0.1750 - acc: 0.9238 - val_loss: 2.0301 - val_acc: 0.6391\n",
      "Epoch 22/50\n",
      " - 16s - loss: 0.1660 - acc: 0.9278 - val_loss: 2.1234 - val_acc: 0.6367\n",
      "Epoch 23/50\n",
      " - 15s - loss: 0.1598 - acc: 0.9310 - val_loss: 2.1551 - val_acc: 0.6326\n",
      "Epoch 24/50\n",
      " - 16s - loss: 0.1594 - acc: 0.9298 - val_loss: 2.1800 - val_acc: 0.6375\n",
      "Epoch 25/50\n",
      " - 13s - loss: 0.1549 - acc: 0.9354 - val_loss: 2.2328 - val_acc: 0.6302\n",
      "Epoch 26/50\n",
      " - 14s - loss: 0.1475 - acc: 0.9330 - val_loss: 2.2292 - val_acc: 0.6318\n",
      "Epoch 27/50\n",
      " - 14s - loss: 0.1395 - acc: 0.9368 - val_loss: 2.3925 - val_acc: 0.6222\n",
      "Epoch 28/50\n",
      " - 17s - loss: 0.1458 - acc: 0.9360 - val_loss: 2.2605 - val_acc: 0.6190\n",
      "Epoch 29/50\n",
      " - 17s - loss: 0.1525 - acc: 0.9316 - val_loss: 2.2486 - val_acc: 0.6166\n",
      "Epoch 30/50\n",
      " - 16s - loss: 0.1492 - acc: 0.9326 - val_loss: 2.2534 - val_acc: 0.6302\n",
      "Epoch 31/50\n",
      " - 15s - loss: 0.1387 - acc: 0.9379 - val_loss: 2.3672 - val_acc: 0.6158\n",
      "Epoch 32/50\n",
      " - 17s - loss: 0.1295 - acc: 0.9417 - val_loss: 2.3837 - val_acc: 0.6182\n",
      "Epoch 33/50\n",
      " - 16s - loss: 0.1245 - acc: 0.9415 - val_loss: 2.4501 - val_acc: 0.6222\n",
      "Epoch 34/50\n",
      " - 15s - loss: 0.1225 - acc: 0.9411 - val_loss: 2.5194 - val_acc: 0.6174\n",
      "Epoch 35/50\n",
      " - 15s - loss: 0.1204 - acc: 0.9457 - val_loss: 2.4862 - val_acc: 0.6125\n",
      "Epoch 36/50\n",
      " - 14s - loss: 0.1185 - acc: 0.9459 - val_loss: 2.5486 - val_acc: 0.6206\n",
      "Epoch 37/50\n",
      " - 15s - loss: 0.1197 - acc: 0.9477 - val_loss: 2.6076 - val_acc: 0.6238\n",
      "Epoch 38/50\n",
      " - 13s - loss: 0.1160 - acc: 0.9451 - val_loss: 2.6031 - val_acc: 0.6238\n",
      "Epoch 39/50\n",
      " - 15s - loss: 0.1210 - acc: 0.9461 - val_loss: 2.6199 - val_acc: 0.6294\n",
      "Epoch 40/50\n",
      " - 13s - loss: 0.1119 - acc: 0.9469 - val_loss: 2.6203 - val_acc: 0.6069\n",
      "Epoch 41/50\n",
      " - 14s - loss: 0.1125 - acc: 0.9469 - val_loss: 2.6778 - val_acc: 0.6254\n",
      "Epoch 42/50\n",
      " - 13s - loss: 0.1093 - acc: 0.9465 - val_loss: 2.7225 - val_acc: 0.6278\n",
      "Epoch 43/50\n",
      " - 13s - loss: 0.1389 - acc: 0.9405 - val_loss: 2.3840 - val_acc: 0.6141\n",
      "Epoch 44/50\n",
      " - 13s - loss: 0.1311 - acc: 0.9385 - val_loss: 2.5362 - val_acc: 0.6077\n",
      "Epoch 45/50\n",
      " - 14s - loss: 0.1148 - acc: 0.9457 - val_loss: 2.5659 - val_acc: 0.6230\n",
      "Epoch 46/50\n",
      " - 14s - loss: 0.1058 - acc: 0.9507 - val_loss: 2.6072 - val_acc: 0.6174\n",
      "Epoch 47/50\n",
      " - 13s - loss: 0.1048 - acc: 0.9489 - val_loss: 2.6875 - val_acc: 0.6230\n",
      "Epoch 48/50\n",
      " - 13s - loss: 0.1054 - acc: 0.9493 - val_loss: 2.6993 - val_acc: 0.6238\n",
      "Epoch 49/50\n",
      " - 12s - loss: 0.1027 - acc: 0.9491 - val_loss: 2.7577 - val_acc: 0.6141\n",
      "Epoch 50/50\n",
      " - 13s - loss: 0.1024 - acc: 0.9497 - val_loss: 2.7293 - val_acc: 0.6158\n"
     ]
    }
   ],
   "source": [
    "history = model.fit(X_train, Y_train,batch_size = 32, validation_data=(X_test,Y_test), epochs=50, verbose=2)"
   ]
  },
  {
   "cell_type": "code",
   "execution_count": 101,
   "metadata": {},
   "outputs": [
    {
     "data": {
      "image/png": "[encoded data removed]",
      "text/plain": [
       "<Figure size 432x288 with 1 Axes>"
      ]
     },
     "metadata": {
      "needs_background": "light"
     },
     "output_type": "display_data"
    }
   ],
   "source": [
    "import matplotlib.pyplot as plt\n",
    "\n",
    "plt.plot(history.history['acc']) \n",
    "plt.plot(history.history['val_acc'])\n",
    "plt.title('Model Accuracy')\n",
    "plt.ylabel('accuracy')\n",
    "plt.xlabel('epoch')\n",
    "plt.legend(['train','test'])\n",
    "#plt.show()\n",
    "plt.savefig('Model_accuracy.png', dpi=600)"
   ]
  },
  {
   "cell_type": "code",
   "execution_count": 102,
   "metadata": {},
   "outputs": [
    {
     "name": "stdout",
     "output_type": "stream",
     "text": [
      "1244/1244 [==============================] - 0s 371us/step\n",
      "Test score is 2.729305174573058\n",
      "Test Accuracy is 0.6157556268179915\n"
     ]
    }
   ],
   "source": [
    "score = model.evaluate(X_test,Y_test,verbose=1)\n",
    "predictions = model.predict(X_test)\n",
    "\n",
    "print(\"Test score is {}\".format(score[0]))\n",
    "print(\"Test Accuracy is {}\".format(score[1]))"
   ]
  },
  {
   "cell_type": "code",
   "execution_count": 103,
   "metadata": {},
   "outputs": [],
   "source": [
    "_, train_acc = model.evaluate(X_train, Y_train, verbose=0)\n",
    "_, test_acc = model.evaluate(X_test, Y_test, verbose=0)"
   ]
  },
  {
   "cell_type": "code",
   "execution_count": 104,
   "metadata": {},
   "outputs": [
    {
     "data": {
      "text/plain": [
       "0"
      ]
     },
     "execution_count": 104,
     "metadata": {},
     "output_type": "execute_result"
    }
   ],
   "source": [
    "rounded_predictions = model.predict_classes(X_test, batch_size=128, verbose=0)\n",
    "rounded_predictions[1]"
   ]
  },
  {
   "cell_type": "code",
   "execution_count": 105,
   "metadata": {},
   "outputs": [
    {
     "name": "stdout",
     "output_type": "stream",
     "text": [
      "confusion Matrix: [[531  32  38   6  12  89]\n",
      " [ 34  14  13   2   2   9]\n",
      " [ 34   2  42   0   4  10]\n",
      " [ 14   4   7   1   3   4]\n",
      " [ 26   6   5   0   0   5]\n",
      " [ 98   9   4   2   4 178]]\n",
      "Accuracy: 0.615756\n",
      "Precision: 0.615756\n",
      "Recall: 0.615756\n",
      "F1 score: 0.615756\n",
      "Cohens kappa: 0.355284\n"
     ]
    }
   ],
   "source": [
    "import numpy as np\n",
    "rounded_labels=np.argmax(Y_test, axis=1)\n",
    "rounded_labels[1]\n",
    "from sklearn.metrics import accuracy_score\n",
    "from sklearn.metrics import precision_score\n",
    "from sklearn.metrics import recall_score\n",
    "from sklearn.metrics import f1_score\n",
    "from sklearn.metrics import confusion_matrix\n",
    "from sklearn.metrics import cohen_kappa_score\n",
    "cm = confusion_matrix(rounded_labels, rounded_predictions)\n",
    "print('confusion Matrix: {}'.format(cm))\n",
    " \n",
    "# accuracy: (tp + tn) / (p + n)\n",
    "accuracy = accuracy_score(rounded_labels, rounded_predictions)\n",
    "print('Accuracy: %f' % accuracy)\n",
    "# precision tp / (tp + fp)\n",
    "precision = precision_score(rounded_labels, rounded_predictions,average='micro')\n",
    "print('Precision: %f' % precision)\n",
    "# recall: tp / (tp + fn)\n",
    "recall = recall_score(rounded_labels, rounded_predictions,average='micro')\n",
    "print('Recall: %f' % recall)\n",
    "# f1: 2 tp / (2 tp + fp + fn)\n",
    "f1 = f1_score(rounded_labels, rounded_predictions,average='micro')\n",
    "print('F1 score: %f' % f1)\n",
    " \n",
    "# kappa\n",
    "kappa = cohen_kappa_score(rounded_labels, rounded_predictions)\n",
    "print('Cohens kappa: %f' % kappa)"
   ]
  },
  {
   "cell_type": "code",
   "execution_count": null,
   "metadata": {},
   "outputs": [],
   "source": []
  }
 ],
 "metadata": {
  "kernelspec": {
   "display_name": "Python 3",
   "language": "python",
   "name": "python3"
  },
  "language_info": {
   "codemirror_mode": {
    "name": "ipython",
    "version": 3
   },
   "file_extension": ".py",
   "mimetype": "text/x-python",
   "name": "python",
   "nbconvert_exporter": "python",
   "pygments_lexer": "ipython3",
   "version": "3.7.9"
  }
 },
 "nbformat": 4,
 "nbformat_minor": 4
}
