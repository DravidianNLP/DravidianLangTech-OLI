{
  "nbformat": 4,
  "nbformat_minor": 0,
  "metadata": {
    "colab": {
      "name": "CNN_GloVe_tamil.ipynb",
      "provenance": [],
      "collapsed_sections": []
    },
    "kernelspec": {
      "name": "python3",
      "display_name": "Python 3"
    }
  },
  "cells": [
    {
      "cell_type": "code",
      "metadata": {
        "id": "JuW_g2qRCffY"
      },
      "source": [
        "import os\r\n",
        "import re\r\n",
        "# from tqdm import tqdm\r\n",
        "import numpy as np\r\n",
        "import pandas as pd\r\n",
        "# import nltk\r\n",
        "# nltk.download(\"all\")\r\n",
        "import matplotlib.pyplot as plt\r\n",
        "import torch\r\n",
        "\r\n",
        "%matplotlib inline"
      ],
      "execution_count": 1,
      "outputs": []
    },
    {
      "cell_type": "code",
      "metadata": {
        "colab": {
          "base_uri": "https://localhost:8080/"
        },
        "id": "mKE7v6bJCOei",
        "outputId": "4a07e1bd-a063-40f3-f8c3-2c7301e42596"
      },
      "source": [
        "from google.colab import drive\r\n",
        "drive.mount('/content/drive')"
      ],
      "execution_count": 2,
      "outputs": [
        {
          "output_type": "stream",
          "text": [
            "Mounted at /content/drive\n"
          ],
          "name": "stdout"
        }
      ]
    },
    {
      "cell_type": "code",
      "metadata": {
        "id": "4D9PP6DlCm6l"
      },
      "source": [
        "train = pd.read_csv('/content/drive/MyDrive/Datasets/tamil_offensive_full_train.csv', delimiter='\\t', names=['text','label','nan'])\r\n",
        "train = train.drop(columns=['nan'])\r\n",
        "train.label = train.label.apply({'Not_offensive':0,'Offensive_Untargetede':1,'Offensive_Targeted_Insult_Group':2,'Offensive_Targeted_Insult_Individual':3,'not-Tamil':4, 'Offensive_Targeted_Insult_Other':5}.get)"
      ],
      "execution_count": 3,
      "outputs": []
    },
    {
      "cell_type": "code",
      "metadata": {
        "id": "fdvrP6BDC4dK"
      },
      "source": [
        "val = pd.read_csv('/content/drive/MyDrive/Datasets/tamil_offensive_full_dev.csv', delimiter='\\t', names=['text','label','nan'])\r\n",
        "val = val.drop(columns=['nan'])\r\n",
        "val.label = val.label.apply({'Not_offensive':0,'Offensive_Untargetede':1,'Offensive_Targeted_Insult_Group':2,'Offensive_Targeted_Insult_Individual':3,'not-Tamil':4, 'Offensive_Targeted_Insult_Other':5}.get)"
      ],
      "execution_count": 4,
      "outputs": []
    },
    {
      "cell_type": "code",
      "metadata": {
        "id": "sFN0FGuHEh41"
      },
      "source": [
        "import re\r\n",
        "def clean(df):\r\n",
        "    df['text'] = df['text'].apply(lambda x: x.lower())\r\n",
        "    df['text'] = df['text'].apply(lambda x: re.sub(r' +', ' ',x))\r\n",
        "    df['text'] = df['text'].apply(lambda x: re.sub(\"[!@#$+%*:()'-]\", ' ',x))\r\n",
        "    df['text'] = df['text'].str.replace('\\d+', '')\r\n",
        "\r\n",
        "clean(train)\r\n",
        "clean(val)"
      ],
      "execution_count": 5,
      "outputs": []
    },
    {
      "cell_type": "code",
      "metadata": {
        "id": "38h0VQMrK60h"
      },
      "source": [
        "# !pip install fastText"
      ],
      "execution_count": null,
      "outputs": []
    },
    {
      "cell_type": "code",
      "metadata": {
        "id": "2OpXZkXvE3kl"
      },
      "source": [
        "# import fasttext.util\r\n",
        "# fasttext.util.download_model('ta', if_exists='ignore')  # Tamil\r\n",
        "# ft = fasttext.load_model('cc.ta.300.bin')"
      ],
      "execution_count": null,
      "outputs": []
    },
    {
      "cell_type": "code",
      "metadata": {
        "id": "K91Sf7hZGPYj"
      },
      "source": [
        "from keras.preprocessing.text import Tokenizer\r\n",
        "from keras.preprocessing.sequence import pad_sequences\r\n",
        "max_features = 2000\r\n",
        "max_len = 512\r\n",
        "tokenizer = Tokenizer(num_words=max_features, split=' ')"
      ],
      "execution_count": 6,
      "outputs": []
    },
    {
      "cell_type": "code",
      "metadata": {
        "id": "lhXwNX72QP5C"
      },
      "source": [
        "tokenizer.fit_on_texts(train['text'].values)\r\n",
        "X_train = tokenizer.texts_to_sequences(train['text'].values)\r\n",
        "# vocab_size = len(tokenizer.word_index) + 1\r\n",
        "X_train = pad_sequences(X_train,padding = 'post', maxlen=max_len)"
      ],
      "execution_count": 7,
      "outputs": []
    },
    {
      "cell_type": "code",
      "metadata": {
        "id": "7RLAoB3pQZCK"
      },
      "source": [
        "tokenizer.fit_on_texts(val['text'].values)\r\n",
        "X_val = tokenizer.texts_to_sequences(val['text'].values)\r\n",
        "# vocab_size = len(tokenizer.word_index) + 1\r\n",
        "X_val = pad_sequences(X_val,padding = 'post', maxlen=max_len)"
      ],
      "execution_count": 8,
      "outputs": []
    },
    {
      "cell_type": "code",
      "metadata": {
        "colab": {
          "base_uri": "https://localhost:8080/"
        },
        "id": "QvKeTGylSNhA",
        "outputId": "abca9776-7cab-4937-f568-f70b24a823f9"
      },
      "source": [
        "!wget --header=\"Host: nlp.stanford.edu\" --header=\"User-Agent: Mozilla/5.0 (Windows NT 10.0; Win64; x64) AppleWebKit/537.36 (KHTML, like Gecko) Chrome/69.0.3497.100 Safari/537.36\" --header=\"Accept: text/html,application/xhtml+xml,application/xml;q=0.9,image/webp,image/apng,*/*;q=0.8\" --header=\"Accept-Language: en-US,en;q=0.9\" --header=\"Cookie: _ga=GA1.2.456156586.1539718115; _gid=GA1.2.491677602.1539718115; _gat=1\" --header=\"Connection: keep-alive\" \"https://nlp.stanford.edu/data/glove.6B.zip\" -O \"glove.6B.zip\" -c"
      ],
      "execution_count": 9,
      "outputs": [
        {
          "output_type": "stream",
          "text": [
            "--2021-01-07 04:40:27--  https://nlp.stanford.edu/data/glove.6B.zip\n",
            "Resolving nlp.stanford.edu (nlp.stanford.edu)... 171.64.67.140\n",
            "Connecting to nlp.stanford.edu (nlp.stanford.edu)|171.64.67.140|:443... connected.\n",
            "HTTP request sent, awaiting response... 301 Moved Permanently\n",
            "Location: http://downloads.cs.stanford.edu/nlp/data/glove.6B.zip [following]\n",
            "--2021-01-07 04:40:27--  http://downloads.cs.stanford.edu/nlp/data/glove.6B.zip\n",
            "Resolving downloads.cs.stanford.edu (downloads.cs.stanford.edu)... 171.64.64.22\n",
            "Connecting to downloads.cs.stanford.edu (downloads.cs.stanford.edu)|171.64.64.22|:80... connected.\n",
            "HTTP request sent, awaiting response... 200 OK\n",
            "Length: 862182613 (822M) [application/zip]\n",
            "Saving to: ‘glove.6B.zip’\n",
            "\n",
            "glove.6B.zip        100%[===================>] 822.24M  2.04MB/s    in 6m 27s  \n",
            "\n",
            "2021-01-07 04:46:54 (2.12 MB/s) - ‘glove.6B.zip’ saved [862182613/862182613]\n",
            "\n"
          ],
          "name": "stdout"
        }
      ]
    },
    {
      "cell_type": "code",
      "metadata": {
        "colab": {
          "base_uri": "https://localhost:8080/"
        },
        "id": "VGm6El68SSTJ",
        "outputId": "830dc9b4-987c-4a0a-bbcb-c9533d73e1e9"
      },
      "source": [
        "!unzip glove.6B.zip"
      ],
      "execution_count": 10,
      "outputs": [
        {
          "output_type": "stream",
          "text": [
            "Archive:  glove.6B.zip\n",
            "  inflating: glove.6B.50d.txt        \n",
            "  inflating: glove.6B.100d.txt       \n",
            "  inflating: glove.6B.200d.txt       \n",
            "  inflating: glove.6B.300d.txt       \n"
          ],
          "name": "stdout"
        }
      ]
    },
    {
      "cell_type": "code",
      "metadata": {
        "colab": {
          "base_uri": "https://localhost:8080/"
        },
        "id": "JBFBFK13Ql-z",
        "outputId": "4302cc38-0184-427c-f147-5bcf6c8ebf4a"
      },
      "source": [
        "from numpy import array\r\n",
        "from numpy import asarray\r\n",
        "from numpy import zeros\r\n",
        "\r\n",
        "embeddings_index = dict()\r\n",
        "\r\n",
        "glove_file = open('glove.6B.100d.txt', encoding=\"utf8\")\r\n",
        "for line in glove_file:\r\n",
        "     records = line.split()\r\n",
        "     word = records[0]\r\n",
        "     vector_dimensions = asarray(records[1:], dtype='float32')\r\n",
        "     embeddings_index[word] = vector_dimensions\r\n",
        "glove_file.close()\r\n",
        "\r\n",
        "print('Found %s word vectors.' %len(embeddings_index))"
      ],
      "execution_count": 11,
      "outputs": [
        {
          "output_type": "stream",
          "text": [
            "Found 400000 word vectors.\n"
          ],
          "name": "stdout"
        }
      ]
    },
    {
      "cell_type": "code",
      "metadata": {
        "colab": {
          "base_uri": "https://localhost:8080/"
        },
        "id": "xNSzHXg6Q15M",
        "outputId": "bdcd531a-c860-4ca1-b9b5-e1a9959951cb"
      },
      "source": [
        "word_index = tokenizer.word_index\r\n",
        "print(len(word_index))\r\n",
        "\r\n",
        "\r\n",
        "num_words = min(max_features, len(word_index)) + 1\r\n",
        "print(num_words)\r\n",
        "\r\n",
        "embedding_dim = 100\r\n",
        "\r\n",
        "embedding_matrix = np.zeros((num_words, embedding_dim))\r\n",
        "\r\n",
        "for word, i in word_index.items():\r\n",
        "    if i > max_features:\r\n",
        "        continue\r\n",
        "    embedding_vector = embeddings_index.get(word)\r\n",
        "    if embedding_vector is not None:\r\n",
        "        embedding_matrix[i] = embedding_vector\r\n",
        "    else:\r\n",
        "        embedding_matrix[i] = np.random.randn(embedding_dim)"
      ],
      "execution_count": 12,
      "outputs": [
        {
          "output_type": "stream",
          "text": [
            "72158\n",
            "2001\n"
          ],
          "name": "stdout"
        }
      ]
    },
    {
      "cell_type": "code",
      "metadata": {
        "colab": {
          "base_uri": "https://localhost:8080/"
        },
        "id": "WPF72zGIScTz",
        "outputId": "2da1f91a-c447-43c5-bd8a-96581d389384"
      },
      "source": [
        "from tensorflow.keras import backend as K\r\n",
        "K.clear_session()\r\n",
        "# from keras.models import Sequential\r\n",
        "from keras.initializers import Constant\r\n",
        "from keras import layers\r\n",
        "from keras.layers import Input\r\n",
        "from keras.layers import Dense, Embedding, LSTM, Bidirectional, Dropout, Conv1D, Flatten\r\n",
        "from keras.models import Model\r\n",
        "from keras.regularizers import l2\r\n",
        "from keras.losses import kullback_leibler_divergence\r\n",
        "embed_dim = 100\r\n",
        "\r\n",
        "# model = Sequential()\r\n",
        "inputs = Input(shape=(512,))\r\n",
        "# model.add(layers.Embedding(num_words, embed_dim, embeddings_initializer=Constant(embedding_matrix), input_length=X_train.shape[1]))\r\n",
        "x = Embedding(num_words, embed_dim, embeddings_initializer=Constant(embedding_matrix), input_length=X_train.shape[1])(inputs)\r\n",
        "# model.add(layers.Conv1D(128, 5, activation='relu'))\r\n",
        "conv2 = Conv1D(128, 5, activation='relu',kernel_regularizer=l2(0.01), bias_regularizer=l2(0.01))(x)\r\n",
        "drop21 = Dropout(0.5)(conv2)\r\n",
        "conv22 = Conv1D(64, 5, activation='relu')(drop21)\r\n",
        "drop22 = Dropout(0.5)(conv22)\r\n",
        "\r\n",
        "lstm1 = Bidirectional(LSTM(128, return_sequences = True, dropout=0.2))(drop22)\r\n",
        "# lstm2 = Bidirectional(LSTM(64, return_sequences = True))(lstm1)\r\n",
        "\r\n",
        "flat = Flatten()(lstm1)\r\n",
        "# dense = Dense(128, activation='relu')(flat)\r\n",
        "out = Dense(32, activation='relu')(flat)\r\n",
        "outputs = Dense(6, activation='softmax')(flat)\r\n",
        "model = Model(inputs,outputs)\r\n",
        "\r\n",
        "\r\n",
        "# model.add(layers.GlobalMaxPooling1D())\r\n",
        "# model.add(layers.Dropout(0.2))\r\n",
        "# model.add(layers.Dense(10, activation='relu'))\r\n",
        "# model.add(layers.Dense(6, activation='softmax'))\r\n",
        "print(model.summary())"
      ],
      "execution_count": 39,
      "outputs": [
        {
          "output_type": "stream",
          "text": [
            "Model: \"model\"\n",
            "_________________________________________________________________\n",
            "Layer (type)                 Output Shape              Param #   \n",
            "=================================================================\n",
            "input_1 (InputLayer)         [(None, 512)]             0         \n",
            "_________________________________________________________________\n",
            "embedding (Embedding)        (None, 512, 100)          200100    \n",
            "_________________________________________________________________\n",
            "conv1d (Conv1D)              (None, 508, 128)          64128     \n",
            "_________________________________________________________________\n",
            "dropout (Dropout)            (None, 508, 128)          0         \n",
            "_________________________________________________________________\n",
            "conv1d_1 (Conv1D)            (None, 504, 64)           41024     \n",
            "_________________________________________________________________\n",
            "dropout_1 (Dropout)          (None, 504, 64)           0         \n",
            "_________________________________________________________________\n",
            "bidirectional (Bidirectional (None, 504, 256)          197632    \n",
            "_________________________________________________________________\n",
            "flatten (Flatten)            (None, 129024)            0         \n",
            "_________________________________________________________________\n",
            "dense_1 (Dense)              (None, 6)                 774150    \n",
            "=================================================================\n",
            "Total params: 1,277,034\n",
            "Trainable params: 1,277,034\n",
            "Non-trainable params: 0\n",
            "_________________________________________________________________\n",
            "None\n"
          ],
          "name": "stdout"
        }
      ]
    },
    {
      "cell_type": "code",
      "metadata": {
        "id": "q3Ophh60dlNr"
      },
      "source": [
        "from keras.optimizers import SGD\r\n",
        "opt = SGD(lr=0.01, momentum=0.9)"
      ],
      "execution_count": 40,
      "outputs": []
    },
    {
      "cell_type": "code",
      "metadata": {
        "id": "Yyp_gk3_VOAM"
      },
      "source": [
        "model.compile(loss = 'kullback_leibler_divergence', optimizer=opt, metrics = ['accuracy'])"
      ],
      "execution_count": 41,
      "outputs": []
    },
    {
      "cell_type": "code",
      "metadata": {
        "id": "uC5n55diWGtj"
      },
      "source": [
        "y_train=train['label']\r\n",
        "y_val = val['label']"
      ],
      "execution_count": 42,
      "outputs": []
    },
    {
      "cell_type": "code",
      "metadata": {
        "id": "ZKgizfcYWOf4"
      },
      "source": [
        "Y_train=pd.get_dummies(y_train).values\r\n",
        "Y_val = pd.get_dummies(y_val).values"
      ],
      "execution_count": 43,
      "outputs": []
    },
    {
      "cell_type": "code",
      "metadata": {
        "colab": {
          "base_uri": "https://localhost:8080/"
        },
        "id": "ekvP3IdjVinh",
        "outputId": "904bafd9-78e2-49ae-b229-b2164e9abfa2"
      },
      "source": [
        "history = model.fit(X_train, Y_train,batch_size = 1024, validation_data=(X_val,Y_val), epochs=10, verbose=2)"
      ],
      "execution_count": 44,
      "outputs": [
        {
          "output_type": "stream",
          "text": [
            "Epoch 1/10\n",
            "35/35 - 940s - loss: 2.2391 - accuracy: 0.7050 - val_loss: 2.0059 - val_accuracy: 0.7277\n",
            "Epoch 2/10\n",
            "35/35 - 885s - loss: 1.9449 - accuracy: 0.7236 - val_loss: 1.8625 - val_accuracy: 0.7277\n",
            "Epoch 3/10\n",
            "35/35 - 881s - loss: 1.8132 - accuracy: 0.7236 - val_loss: 1.7473 - val_accuracy: 0.7277\n",
            "Epoch 4/10\n",
            "35/35 - 915s - loss: 1.7007 - accuracy: 0.7236 - val_loss: 1.6399 - val_accuracy: 0.7277\n",
            "Epoch 5/10\n",
            "35/35 - 881s - loss: 1.6043 - accuracy: 0.7236 - val_loss: 1.5480 - val_accuracy: 0.7277\n",
            "Epoch 6/10\n",
            "35/35 - 885s - loss: 1.5194 - accuracy: 0.7236 - val_loss: 1.4695 - val_accuracy: 0.7277\n",
            "Epoch 7/10\n",
            "35/35 - 879s - loss: 1.4429 - accuracy: 0.7236 - val_loss: 1.3983 - val_accuracy: 0.7277\n",
            "Epoch 8/10\n",
            "35/35 - 869s - loss: 1.3781 - accuracy: 0.7236 - val_loss: 1.3367 - val_accuracy: 0.7277\n",
            "Epoch 9/10\n",
            "35/35 - 862s - loss: 1.3190 - accuracy: 0.7235 - val_loss: 1.2831 - val_accuracy: 0.7277\n",
            "Epoch 10/10\n",
            "35/35 - 861s - loss: 1.2676 - accuracy: 0.7236 - val_loss: 1.2421 - val_accuracy: 0.7277\n"
          ],
          "name": "stdout"
        }
      ]
    },
    {
      "cell_type": "code",
      "metadata": {
        "colab": {
          "base_uri": "https://localhost:8080/",
          "height": 295
        },
        "id": "GCigd-uGVljZ",
        "outputId": "45e18368-9601-4515-8c63-b8e48f790069"
      },
      "source": [
        "import matplotlib.pyplot as plt\r\n",
        "\r\n",
        "plt.plot(history.history['accuracy']) \r\n",
        "plt.plot(history.history['val_accuracy'])\r\n",
        "plt.title('Model Accuracy')\r\n",
        "plt.ylabel('accuracy')\r\n",
        "plt.xlabel('epoch')\r\n",
        "plt.legend(['train','val'])\r\n",
        "#plt.show()\r\n",
        "plt.savefig('Model_accuracy.png', dpi=600)"
      ],
      "execution_count": 45,
      "outputs": [
        {
          "output_type": "display_data",
          "data": {
            "image/png": "[encoded data removed]",
            "text/plain": [
              "<Figure size 432x288 with 1 Axes>"
            ]
          },
          "metadata": {
            "tags": [],
            "needs_background": "light"
          }
        }
      ]
    },
    {
      "cell_type": "code",
      "metadata": {
        "colab": {
          "base_uri": "https://localhost:8080/"
        },
        "id": "rXJYtNWEc_47",
        "outputId": "bbf1a4a6-4786-4491-dc88-d40716bb1fee"
      },
      "source": [
        "score = model.evaluate(X_val,Y_val,verbose=1)\r\n",
        "predictions = np.argmax(model.predict(X_val),axis = -1)\r\n",
        "\r\n",
        "print(\"Test score is {}\".format(score[0]))\r\n",
        "print(\"Test Accuracy is {}\".format(score[1]))"
      ],
      "execution_count": 46,
      "outputs": [
        {
          "output_type": "stream",
          "text": [
            "138/138 [==============================] - 31s 227ms/step - loss: 1.2421 - accuracy: 0.7277\n",
            "Test score is 1.2420847415924072\n",
            "Test Accuracy is 0.7276663780212402\n"
          ],
          "name": "stdout"
        }
      ]
    },
    {
      "cell_type": "code",
      "metadata": {
        "id": "t01dzXi4wgca"
      },
      "source": [
        "_, train_acc = model.evaluate(X_train, Y_train, verbose=0)\r\n",
        "_, test_acc = model.evaluate(X_val, Y_val, verbose=0)"
      ],
      "execution_count": 47,
      "outputs": []
    },
    {
      "cell_type": "code",
      "metadata": {
        "id": "XfhqQth_wnfy"
      },
      "source": [
        "rounded_predictions = np.argmax(model.predict(X_val, batch_size=128, verbose=0),axis = -1)\r\n"
      ],
      "execution_count": 48,
      "outputs": []
    },
    {
      "cell_type": "code",
      "metadata": {
        "id": "UzyBzz2rwwRd"
      },
      "source": [
        "import numpy as np\r\n",
        "rounded_labels=np.argmax(Y_val, axis=1)"
      ],
      "execution_count": 49,
      "outputs": []
    },
    {
      "cell_type": "code",
      "metadata": {
        "id": "PD68f0mzw10I"
      },
      "source": [
        "from sklearn.metrics import classification_report"
      ],
      "execution_count": 50,
      "outputs": []
    },
    {
      "cell_type": "code",
      "metadata": {
        "colab": {
          "base_uri": "https://localhost:8080/"
        },
        "id": "T4sijH6Qw5WE",
        "outputId": "3880648b-29a5-42d6-ccfc-f39fb9a37d81"
      },
      "source": [
        "print(classification_report(rounded_labels, rounded_predictions))"
      ],
      "execution_count": 51,
      "outputs": [
        {
          "output_type": "stream",
          "text": [
            "              precision    recall  f1-score   support\n",
            "\n",
            "           0       0.73      1.00      0.84      3193\n",
            "           1       0.00      0.00      0.00       356\n",
            "           2       0.00      0.00      0.00       295\n",
            "           3       0.00      0.00      0.00       307\n",
            "           4       0.00      0.00      0.00       172\n",
            "           5       0.00      0.00      0.00        65\n",
            "\n",
            "    accuracy                           0.73      4388\n",
            "   macro avg       0.12      0.17      0.14      4388\n",
            "weighted avg       0.53      0.73      0.61      4388\n",
            "\n"
          ],
          "name": "stdout"
        },
        {
          "output_type": "stream",
          "text": [
            "/usr/local/lib/python3.6/dist-packages/sklearn/metrics/_classification.py:1272: UndefinedMetricWarning: Precision and F-score are ill-defined and being set to 0.0 in labels with no predicted samples. Use `zero_division` parameter to control this behavior.\n",
            "  _warn_prf(average, modifier, msg_start, len(result))\n"
          ],
          "name": "stderr"
        }
      ]
    },
    {
      "cell_type": "code",
      "metadata": {
        "id": "5o4UBtZLw7x_"
      },
      "source": [
        ""
      ],
      "execution_count": null,
      "outputs": []
    }
  ]
}