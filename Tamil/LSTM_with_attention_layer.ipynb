{
  "nbformat": 4,
  "nbformat_minor": 0,
  "metadata": {
    "kernelspec": {
      "display_name": "Python 3",
      "language": "python",
      "name": "python3"
    },
    "language_info": {
      "codemirror_mode": {
        "name": "ipython",
        "version": 3
      },
      "file_extension": ".py",
      "mimetype": "text/x-python",
      "name": "python",
      "nbconvert_exporter": "python",
      "pygments_lexer": "ipython3",
      "version": "3.7.9"
    },
    "colab": {
      "name": "LSTM_with_attention_layer.ipynb",
      "provenance": [],
      "collapsed_sections": []
    },
    "accelerator": "GPU"
  },
  "cells": [
    {
      "cell_type": "code",
      "metadata": {
        "id": "mmO0umU158YK"
      },
      "source": [
        "import pandas as pd\n",
        "import numpy as np\n",
        "from sklearn.feature_extraction.text import CountVectorizer\n",
        "from keras.preprocessing.text import Tokenizer\n",
        "from keras.preprocessing.sequence import pad_sequences\n",
        "from keras.models import Sequential\n",
        "from keras.layers import Dense, Embedding, LSTM, Bidirectional, Dropout\n",
        "from sklearn.model_selection import train_test_split\n",
        "from keras.utils.np_utils import to_categorical\n",
        "import re\n",
        "import matplotlib.pyplot as plt"
      ],
      "execution_count": 255,
      "outputs": []
    },
    {
      "cell_type": "code",
      "metadata": {
        "id": "KMrlEn8A58YT",
        "colab": {
          "base_uri": "https://localhost:8080/",
          "height": 206
        },
        "outputId": "5c2d1d5d-030d-486f-dcd1-d6ed38f4e000"
      },
      "source": [
        "url = 'https://raw.githubusercontent.com/yasaswinik12/LSTM_datasets/main/tamil_offensive_full_train.csv?token=AOSGB3O2IJV56KFHUJVZ7W273SFGU'\n",
        "train = pd.read_csv(url, delimiter='\\t', names=['sentence','classes','nan'])\n",
        "train = train.drop(columns=['nan'])\n",
        "train.head()"
      ],
      "execution_count": 256,
      "outputs": [
        {
          "output_type": "execute_result",
          "data": {
            "text/html": [
              "<div>\n",
              "<style scoped>\n",
              "    .dataframe tbody tr th:only-of-type {\n",
              "        vertical-align: middle;\n",
              "    }\n",
              "\n",
              "    .dataframe tbody tr th {\n",
              "        vertical-align: top;\n",
              "    }\n",
              "\n",
              "    .dataframe thead th {\n",
              "        text-align: right;\n",
              "    }\n",
              "</style>\n",
              "<table border=\"1\" class=\"dataframe\">\n",
              "  <thead>\n",
              "    <tr style=\"text-align: right;\">\n",
              "      <th></th>\n",
              "      <th>sentence</th>\n",
              "      <th>classes</th>\n",
              "    </tr>\n",
              "  </thead>\n",
              "  <tbody>\n",
              "    <tr>\n",
              "      <th>0</th>\n",
              "      <td>movie vara level la Erika poguthu</td>\n",
              "      <td>Not_offensive</td>\n",
              "    </tr>\n",
              "    <tr>\n",
              "      <th>1</th>\n",
              "      <td>I love Ajith Kumar Vivegam movie inki mjy bht ...</td>\n",
              "      <td>not-Tamil</td>\n",
              "    </tr>\n",
              "    <tr>\n",
              "      <th>2</th>\n",
              "      <td>Padam nalla comedy padama irukum polaye..</td>\n",
              "      <td>Not_offensive</td>\n",
              "    </tr>\n",
              "    <tr>\n",
              "      <th>3</th>\n",
              "      <td>karthick subburaj anne .... intha padam vetri ...</td>\n",
              "      <td>Not_offensive</td>\n",
              "    </tr>\n",
              "    <tr>\n",
              "      <th>4</th>\n",
              "      <td>கவுண்டர் தேவர்.சார்பாக வெற்றி பெற வாழ்த்துக்கள் 🦁</td>\n",
              "      <td>Not_offensive</td>\n",
              "    </tr>\n",
              "  </tbody>\n",
              "</table>\n",
              "</div>"
            ],
            "text/plain": [
              "                                            sentence        classes\n",
              "0                  movie vara level la Erika poguthu  Not_offensive\n",
              "1  I love Ajith Kumar Vivegam movie inki mjy bht ...      not-Tamil\n",
              "2          Padam nalla comedy padama irukum polaye..  Not_offensive\n",
              "3  karthick subburaj anne .... intha padam vetri ...  Not_offensive\n",
              "4  கவுண்டர் தேவர்.சார்பாக வெற்றி பெற வாழ்த்துக்கள் 🦁  Not_offensive"
            ]
          },
          "metadata": {
            "tags": []
          },
          "execution_count": 256
        }
      ]
    },
    {
      "cell_type": "code",
      "metadata": {
        "colab": {
          "base_uri": "https://localhost:8080/"
        },
        "id": "HwVQIUSJXHqo",
        "outputId": "40759fa1-9a63-4ee3-803f-98deffe882e9"
      },
      "source": [
        "train.count()"
      ],
      "execution_count": 257,
      "outputs": [
        {
          "output_type": "execute_result",
          "data": {
            "text/plain": [
              "sentence    35139\n",
              "classes     35139\n",
              "dtype: int64"
            ]
          },
          "metadata": {
            "tags": []
          },
          "execution_count": 257
        }
      ]
    },
    {
      "cell_type": "code",
      "metadata": {
        "colab": {
          "base_uri": "https://localhost:8080/",
          "height": 174
        },
        "id": "G4MfLLzuFJ9k",
        "outputId": "4e04f845-9dfc-4f12-80fa-9f98487b5cfb"
      },
      "source": [
        "train.describe()"
      ],
      "execution_count": 258,
      "outputs": [
        {
          "output_type": "execute_result",
          "data": {
            "text/html": [
              "<div>\n",
              "<style scoped>\n",
              "    .dataframe tbody tr th:only-of-type {\n",
              "        vertical-align: middle;\n",
              "    }\n",
              "\n",
              "    .dataframe tbody tr th {\n",
              "        vertical-align: top;\n",
              "    }\n",
              "\n",
              "    .dataframe thead th {\n",
              "        text-align: right;\n",
              "    }\n",
              "</style>\n",
              "<table border=\"1\" class=\"dataframe\">\n",
              "  <thead>\n",
              "    <tr style=\"text-align: right;\">\n",
              "      <th></th>\n",
              "      <th>sentence</th>\n",
              "      <th>classes</th>\n",
              "    </tr>\n",
              "  </thead>\n",
              "  <tbody>\n",
              "    <tr>\n",
              "      <th>count</th>\n",
              "      <td>35139</td>\n",
              "      <td>35139</td>\n",
              "    </tr>\n",
              "    <tr>\n",
              "      <th>unique</th>\n",
              "      <td>34883</td>\n",
              "      <td>6</td>\n",
              "    </tr>\n",
              "    <tr>\n",
              "      <th>top</th>\n",
              "      <td>neraya neraya neraya neraya neraya neraya.</td>\n",
              "      <td>Not_offensive</td>\n",
              "    </tr>\n",
              "    <tr>\n",
              "      <th>freq</th>\n",
              "      <td>7</td>\n",
              "      <td>25425</td>\n",
              "    </tr>\n",
              "  </tbody>\n",
              "</table>\n",
              "</div>"
            ],
            "text/plain": [
              "                                          sentence        classes\n",
              "count                                        35139          35139\n",
              "unique                                       34883              6\n",
              "top     neraya neraya neraya neraya neraya neraya.  Not_offensive\n",
              "freq                                             7          25425"
            ]
          },
          "metadata": {
            "tags": []
          },
          "execution_count": 258
        }
      ]
    },
    {
      "cell_type": "code",
      "metadata": {
        "colab": {
          "base_uri": "https://localhost:8080/"
        },
        "id": "CWQ0BJb0Edzm",
        "outputId": "53c3166c-4e5b-4953-a480-33d2872db152"
      },
      "source": [
        "train['classes'].apply(len).max()"
      ],
      "execution_count": 259,
      "outputs": [
        {
          "output_type": "execute_result",
          "data": {
            "text/plain": [
              "36"
            ]
          },
          "metadata": {
            "tags": []
          },
          "execution_count": 259
        }
      ]
    },
    {
      "cell_type": "code",
      "metadata": {
        "colab": {
          "base_uri": "https://localhost:8080/"
        },
        "id": "fqaQ29ikElyf",
        "outputId": "92ecf274-bf48-492f-b09b-63e66b235ff0"
      },
      "source": [
        "train['sentence'].apply(len).max()"
      ],
      "execution_count": 260,
      "outputs": [
        {
          "output_type": "execute_result",
          "data": {
            "text/plain": [
              "1149"
            ]
          },
          "metadata": {
            "tags": []
          },
          "execution_count": 260
        }
      ]
    },
    {
      "cell_type": "code",
      "metadata": {
        "colab": {
          "base_uri": "https://localhost:8080/"
        },
        "id": "jMIIYe1iEsvl",
        "outputId": "a4d2d282-41ba-469d-fbfd-104bd08aeffe"
      },
      "source": [
        "set(train['classes']) "
      ],
      "execution_count": 261,
      "outputs": [
        {
          "output_type": "execute_result",
          "data": {
            "text/plain": [
              "{'Not_offensive',\n",
              " 'Offensive_Targeted_Insult_Group',\n",
              " 'Offensive_Targeted_Insult_Individual',\n",
              " 'Offensive_Targeted_Insult_Other',\n",
              " 'Offensive_Untargetede',\n",
              " 'not-Tamil'}"
            ]
          },
          "metadata": {
            "tags": []
          },
          "execution_count": 261
        }
      ]
    },
    {
      "cell_type": "code",
      "metadata": {
        "id": "-elc6Vsw58YT",
        "colab": {
          "base_uri": "https://localhost:8080/"
        },
        "outputId": "8a8cec74-60ec-45be-8739-19ccaec1a847"
      },
      "source": [
        "encode_dict = {}\r\n",
        "\r\n",
        "def encode_cat(x):\r\n",
        "  if x not in encode_dict.keys():\r\n",
        "    encode_dict[x] = len(encode_dict)\r\n",
        "  return encode_dict[x]\r\n",
        "\r\n",
        "train['encode_cat'] = train['classes'].apply(lambda x: encode_cat(x))\r\n",
        "train['encode_cat'].value_counts()"
      ],
      "execution_count": 262,
      "outputs": [
        {
          "output_type": "execute_result",
          "data": {
            "text/plain": [
              "0    25425\n",
              "4     2906\n",
              "3     2557\n",
              "5     2343\n",
              "1     1454\n",
              "2      454\n",
              "Name: encode_cat, dtype: int64"
            ]
          },
          "metadata": {
            "tags": []
          },
          "execution_count": 262
        }
      ]
    },
    {
      "cell_type": "code",
      "metadata": {
        "colab": {
          "base_uri": "https://localhost:8080/",
          "height": 331
        },
        "id": "E7KXwtzifRzx",
        "outputId": "0eb0d4d8-595f-462b-a236-a3627664d204"
      },
      "source": [
        "train.head(9)"
      ],
      "execution_count": 269,
      "outputs": [
        {
          "output_type": "execute_result",
          "data": {
            "text/html": [
              "<div>\n",
              "<style scoped>\n",
              "    .dataframe tbody tr th:only-of-type {\n",
              "        vertical-align: middle;\n",
              "    }\n",
              "\n",
              "    .dataframe tbody tr th {\n",
              "        vertical-align: top;\n",
              "    }\n",
              "\n",
              "    .dataframe thead th {\n",
              "        text-align: right;\n",
              "    }\n",
              "</style>\n",
              "<table border=\"1\" class=\"dataframe\">\n",
              "  <thead>\n",
              "    <tr style=\"text-align: right;\">\n",
              "      <th></th>\n",
              "      <th>sentence</th>\n",
              "      <th>classes</th>\n",
              "      <th>encode_cat</th>\n",
              "    </tr>\n",
              "  </thead>\n",
              "  <tbody>\n",
              "    <tr>\n",
              "      <th>0</th>\n",
              "      <td>movie vara level la erika poguthu</td>\n",
              "      <td>Not_offensive</td>\n",
              "      <td>0</td>\n",
              "    </tr>\n",
              "    <tr>\n",
              "      <th>1</th>\n",
              "      <td>i love ajith kumar vivegam movie inki mjy bht ...</td>\n",
              "      <td>not-Tamil</td>\n",
              "      <td>1</td>\n",
              "    </tr>\n",
              "    <tr>\n",
              "      <th>2</th>\n",
              "      <td>padam nalla comedy padama irukum polaye..</td>\n",
              "      <td>Not_offensive</td>\n",
              "      <td>0</td>\n",
              "    </tr>\n",
              "    <tr>\n",
              "      <th>3</th>\n",
              "      <td>karthick subburaj anne .... intha padam vetri ...</td>\n",
              "      <td>Not_offensive</td>\n",
              "      <td>0</td>\n",
              "    </tr>\n",
              "    <tr>\n",
              "      <th>4</th>\n",
              "      <td>கவுண்டர் தேவர்.சார்பாக வெற்றி பெற வாழ்த்துக்கள் 🦁</td>\n",
              "      <td>Not_offensive</td>\n",
              "      <td>0</td>\n",
              "    </tr>\n",
              "    <tr>\n",
              "      <th>5</th>\n",
              "      <td>ippo intha trailer ah parkuravana oru like pod...</td>\n",
              "      <td>Not_offensive</td>\n",
              "      <td>0</td>\n",
              "    </tr>\n",
              "    <tr>\n",
              "      <th>6</th>\n",
              "      <td>en thalaivan yogi babu irukkaar. padam vera le...</td>\n",
              "      <td>Not_offensive</td>\n",
              "      <td>0</td>\n",
              "    </tr>\n",
              "    <tr>\n",
              "      <th>7</th>\n",
              "      <td>nerkonda parvai... sema sema sema trailer</td>\n",
              "      <td>Not_offensive</td>\n",
              "      <td>0</td>\n",
              "    </tr>\n",
              "    <tr>\n",
              "      <th>8</th>\n",
              "      <td>ஏய் இது  யார் ஏமாத்தறீங்க? செம பின்னிட்டீங்க</td>\n",
              "      <td>Not_offensive</td>\n",
              "      <td>0</td>\n",
              "    </tr>\n",
              "  </tbody>\n",
              "</table>\n",
              "</div>"
            ],
            "text/plain": [
              "                                            sentence        classes  encode_cat\n",
              "0                  movie vara level la erika poguthu  Not_offensive           0\n",
              "1  i love ajith kumar vivegam movie inki mjy bht ...      not-Tamil           1\n",
              "2          padam nalla comedy padama irukum polaye..  Not_offensive           0\n",
              "3  karthick subburaj anne .... intha padam vetri ...  Not_offensive           0\n",
              "4  கவுண்டர் தேவர்.சார்பாக வெற்றி பெற வாழ்த்துக்கள் 🦁  Not_offensive           0\n",
              "5  ippo intha trailer ah parkuravana oru like pod...  Not_offensive           0\n",
              "6  en thalaivan yogi babu irukkaar. padam vera le...  Not_offensive           0\n",
              "7          nerkonda parvai... sema sema sema trailer  Not_offensive           0\n",
              "8       ஏய் இது  யார் ஏமாத்தறீங்க? செம பின்னிட்டீங்க  Not_offensive           0"
            ]
          },
          "metadata": {
            "tags": []
          },
          "execution_count": 269
        }
      ]
    },
    {
      "cell_type": "code",
      "metadata": {
        "colab": {
          "base_uri": "https://localhost:8080/"
        },
        "id": "vjk5-kE62CIE",
        "outputId": "d5ed0f58-bb15-4793-c2bf-3f20366dda34"
      },
      "source": [
        "import imblearn\r\n",
        "print(imblearn.__version__)"
      ],
      "execution_count": 270,
      "outputs": [
        {
          "output_type": "stream",
          "text": [
            "0.4.3\n"
          ],
          "name": "stdout"
        }
      ]
    },
    {
      "cell_type": "code",
      "metadata": {
        "id": "ibxe4-T02H26"
      },
      "source": [
        "from collections import Counter"
      ],
      "execution_count": 271,
      "outputs": []
    },
    {
      "cell_type": "code",
      "metadata": {
        "colab": {
          "base_uri": "https://localhost:8080/",
          "height": 587
        },
        "id": "HJFA_UYg2bE7",
        "outputId": "35a44dd9-bf39-4abc-e4f1-22fd5c46ca9e"
      },
      "source": [
        "from matplotlib import pyplot\r\n",
        "X = train['sentence']\r\n",
        "y = train['encode_cat']\r\n",
        "counter = Counter(y)\r\n",
        "for k,v in counter.items():\r\n",
        "\tper = v / len(y) * 100\r\n",
        "\tprint('Class=%d, n=%d (%.3f%%)' % (k, v, per))\r\n",
        "# plot the distribution\r\n",
        "pyplot.bar(counter.keys(), counter.values())\r\n",
        "pyplot.show()"
      ],
      "execution_count": 272,
      "outputs": [
        {
          "output_type": "stream",
          "text": [
            "Class=0, n=25425 (72.356%)\n",
            "Class=1, n=1454 (4.138%)\n",
            "Class=2, n=454 (1.292%)\n",
            "Class=3, n=2557 (7.277%)\n",
            "Class=4, n=2906 (8.270%)\n",
            "Class=5, n=2343 (6.668%)\n"
          ],
          "name": "stdout"
        },
        {
          "output_type": "display_data",
          "data": {
            "image/png": "[encoded data removed]",
            "text/plain": [
              "<Figure size 720x576 with 1 Axes>"
            ]
          },
          "metadata": {
            "tags": [],
            "needs_background": "light"
          }
        }
      ]
    },
    {
      "cell_type": "code",
      "metadata": {
        "id": "6u0pzR9_31Cl"
      },
      "source": [
        "train['sentence'] = train['sentence'].apply(lambda x: x.lower())\r\n",
        "train['sentence'] = train['sentence'].apply(lambda x: re.sub(r' +', ' ',x))\r\n",
        "train['sentence'] = train['sentence'].apply(lambda x: re.sub(\"[!@#$+%*:()'-]\", ' ',x))\r\n",
        "train['sentence'] = train['sentence'].str.replace('\\d+', '')\r\n",
        "\r\n",
        "max_features = 2000\r\n",
        "max_len = 512\r\n",
        "tokenizer = Tokenizer(num_words=max_features, split=' ')\r\n",
        "tokenizer.fit_on_texts(train['sentence'].values)\r\n",
        "X = tokenizer.texts_to_sequences(train['sentence'].values)\r\n",
        "# vocab_size = len(tokenizer.word_index) + 1\r\n",
        "X = pad_sequences(X,padding = 'post', maxlen=max_len)"
      ],
      "execution_count": 273,
      "outputs": []
    },
    {
      "cell_type": "code",
      "metadata": {
        "colab": {
          "base_uri": "https://localhost:8080/"
        },
        "id": "jc2tNrQTaozK",
        "outputId": "f2a50481-9b55-44d5-d058-cc130056b8fc"
      },
      "source": [
        "train['sentence'].apply(len).max()"
      ],
      "execution_count": 274,
      "outputs": [
        {
          "output_type": "execute_result",
          "data": {
            "text/plain": [
              "1124"
            ]
          },
          "metadata": {
            "tags": []
          },
          "execution_count": 274
        }
      ]
    },
    {
      "cell_type": "code",
      "metadata": {
        "id": "jXIU_3S6GkKd",
        "colab": {
          "base_uri": "https://localhost:8080/",
          "height": 300
        },
        "outputId": "bcfcb2fd-34b4-4501-85fb-811f9e2625e1"
      },
      "source": [
        "train.describe()"
      ],
      "execution_count": 275,
      "outputs": [
        {
          "output_type": "execute_result",
          "data": {
            "text/html": [
              "<div>\n",
              "<style scoped>\n",
              "    .dataframe tbody tr th:only-of-type {\n",
              "        vertical-align: middle;\n",
              "    }\n",
              "\n",
              "    .dataframe tbody tr th {\n",
              "        vertical-align: top;\n",
              "    }\n",
              "\n",
              "    .dataframe thead th {\n",
              "        text-align: right;\n",
              "    }\n",
              "</style>\n",
              "<table border=\"1\" class=\"dataframe\">\n",
              "  <thead>\n",
              "    <tr style=\"text-align: right;\">\n",
              "      <th></th>\n",
              "      <th>encode_cat</th>\n",
              "    </tr>\n",
              "  </thead>\n",
              "  <tbody>\n",
              "    <tr>\n",
              "      <th>count</th>\n",
              "      <td>35139.000000</td>\n",
              "    </tr>\n",
              "    <tr>\n",
              "      <th>mean</th>\n",
              "      <td>0.949714</td>\n",
              "    </tr>\n",
              "    <tr>\n",
              "      <th>std</th>\n",
              "      <td>1.684117</td>\n",
              "    </tr>\n",
              "    <tr>\n",
              "      <th>min</th>\n",
              "      <td>0.000000</td>\n",
              "    </tr>\n",
              "    <tr>\n",
              "      <th>25%</th>\n",
              "      <td>0.000000</td>\n",
              "    </tr>\n",
              "    <tr>\n",
              "      <th>50%</th>\n",
              "      <td>0.000000</td>\n",
              "    </tr>\n",
              "    <tr>\n",
              "      <th>75%</th>\n",
              "      <td>1.000000</td>\n",
              "    </tr>\n",
              "    <tr>\n",
              "      <th>max</th>\n",
              "      <td>5.000000</td>\n",
              "    </tr>\n",
              "  </tbody>\n",
              "</table>\n",
              "</div>"
            ],
            "text/plain": [
              "         encode_cat\n",
              "count  35139.000000\n",
              "mean       0.949714\n",
              "std        1.684117\n",
              "min        0.000000\n",
              "25%        0.000000\n",
              "50%        0.000000\n",
              "75%        1.000000\n",
              "max        5.000000"
            ]
          },
          "metadata": {
            "tags": []
          },
          "execution_count": 275
        }
      ]
    },
    {
      "cell_type": "code",
      "metadata": {
        "scrolled": true,
        "id": "TSw2ATdi58YU",
        "colab": {
          "base_uri": "https://localhost:8080/"
        },
        "outputId": "e725822f-f524-4e15-d564-88c8e30baccf"
      },
      "source": [
        "Y = pd.get_dummies(y).values\n",
        "X_train, X_test, Y_train, Y_test = train_test_split(X,Y, test_size = 0.20, random_state = 42)\n",
        "print(X_train.shape,Y_train.shape)\n",
        "print(X_test.shape,Y_test.shape)"
      ],
      "execution_count": 276,
      "outputs": [
        {
          "output_type": "stream",
          "text": [
            "(28111, 512) (28111, 6)\n",
            "(7028, 512) (7028, 6)\n"
          ],
          "name": "stdout"
        }
      ]
    },
    {
      "cell_type": "code",
      "metadata": {
        "id": "KG1-jtH9B8UD"
      },
      "source": [
        "from keras.layers import Layer\r\n",
        "from keras.layers import Input\r\n",
        "from keras.models import Model\r\n",
        "from tensorflow.keras import backend as K\r\n",
        "\r\n",
        "class attention(Layer):\r\n",
        "    def __init__(self):\r\n",
        "        super(attention,self).__init__()\r\n",
        "\r\n",
        "    def build(self,input_shape):\r\n",
        "        self.W=self.add_weight(name=\"att_weight\",shape=(input_shape[-1],1),initializer=\"normal\")\r\n",
        "        self.b=self.add_weight(name=\"att_bias\",shape=(input_shape[1],1),initializer=\"zeros\")        \r\n",
        "        super(attention, self).build(input_shape)\r\n",
        "\r\n",
        "    def call(self,x):\r\n",
        "        et=K.squeeze(K.tanh(K.dot(x,self.W)+self.b),axis=-1)\r\n",
        "        at=K.softmax(et)\r\n",
        "        at=K.expand_dims(at,axis=-1)\r\n",
        "        output=x*at\r\n",
        "        return K.sum(output,axis=1)\r\n",
        "\r\n",
        "    def compute_output_shape(self,input_shape):\r\n",
        "        return (input_shape[0],input_shape[-1])\r\n",
        "\r\n",
        "    def get_config(self):\r\n",
        "        return super(attention,self).get_config()"
      ],
      "execution_count": 277,
      "outputs": []
    },
    {
      "cell_type": "code",
      "metadata": {
        "id": "vrSHNPABEgWG"
      },
      "source": [
        "# !wget --header=\"Host: nlp.stanford.edu\" --header=\"User-Agent: Mozilla/5.0 (Windows NT 10.0; Win64; x64) AppleWebKit/537.36 (KHTML, like Gecko) Chrome/69.0.3497.100 Safari/537.36\" --header=\"Accept: text/html,application/xhtml+xml,application/xml;q=0.9,image/webp,image/apng,*/*;q=0.8\" --header=\"Accept-Language: en-US,en;q=0.9\" --header=\"Cookie: _ga=GA1.2.456156586.1539718115; _gid=GA1.2.491677602.1539718115; _gat=1\" --header=\"Connection: keep-alive\" \"https://nlp.stanford.edu/data/glove.6B.zip\" -O \"glove.6B.zip\" -c"
      ],
      "execution_count": 45,
      "outputs": []
    },
    {
      "cell_type": "code",
      "metadata": {
        "colab": {
          "base_uri": "https://localhost:8080/"
        },
        "id": "NHvWvMW0HcYr",
        "outputId": "53812282-265a-4394-e34c-47d876f5bc6a"
      },
      "source": [
        "# !unzip glove.6B.zip"
      ],
      "execution_count": 29,
      "outputs": [
        {
          "output_type": "stream",
          "text": [
            "Archive:  glove.6B.zip\n",
            "  inflating: glove.6B.50d.txt        \n",
            "  inflating: glove.6B.100d.txt       \n",
            "  inflating: glove.6B.200d.txt       \n",
            "  inflating: glove.6B.300d.txt       \n"
          ],
          "name": "stdout"
        }
      ]
    },
    {
      "cell_type": "code",
      "metadata": {
        "colab": {
          "base_uri": "https://localhost:8080/"
        },
        "id": "z08Bm1OsAl-D",
        "outputId": "e9faac7e-8231-437d-c49c-f40f181c1a57"
      },
      "source": [
        " from numpy import array\r\n",
        " from numpy import asarray\r\n",
        " from numpy import zeros\r\n",
        "\r\n",
        " embeddings_index = dict()\r\n",
        "\r\n",
        " glove_file = open('glove.6B.100d.txt', encoding=\"utf8\")\r\n",
        "\r\n",
        " for line in glove_file:\r\n",
        "     records = line.split()\r\n",
        "     word = records[0]\r\n",
        "     vector_dimensions = asarray(records[1:], dtype='float32')\r\n",
        "     embeddings_index[word] = vector_dimensions\r\n",
        " glove_file.close()\r\n",
        "\r\n",
        " print('Found %s word vectors.' %len(embeddings_index))\r\n",
        "\r\n",
        " "
      ],
      "execution_count": 278,
      "outputs": [
        {
          "output_type": "stream",
          "text": [
            "Found 400000 word vectors.\n"
          ],
          "name": "stdout"
        }
      ]
    },
    {
      "cell_type": "code",
      "metadata": {
        "colab": {
          "base_uri": "https://localhost:8080/"
        },
        "id": "ofCuMn2yQeV3",
        "outputId": "ff8415ee-3e3c-489c-c665-82ed173573eb"
      },
      "source": [
        "word_index = tokenizer.word_index\r\n",
        "print(len(word_index))\r\n",
        "\r\n",
        "\r\n",
        "num_words = min(max_features, len(word_index)) + 1\r\n",
        "print(num_words)\r\n",
        "\r\n",
        "embedding_dim = 100\r\n",
        "\r\n",
        "embedding_matrix = np.zeros((num_words, embedding_dim))\r\n",
        "\r\n",
        "for word, i in word_index.items():\r\n",
        "    if i > max_features:\r\n",
        "        continue\r\n",
        "    embedding_vector = embeddings_index.get(word)\r\n",
        "    if embedding_vector is not None:\r\n",
        "        embedding_matrix[i] = embedding_vector\r\n",
        "    else:\r\n",
        "        embedding_matrix[i] = np.random.randn(embedding_dim)"
      ],
      "execution_count": 279,
      "outputs": [
        {
          "output_type": "stream",
          "text": [
            "66596\n",
            "2001\n"
          ],
          "name": "stdout"
        }
      ]
    },
    {
      "cell_type": "code",
      "metadata": {
        "id": "mJprJe1-58YV",
        "colab": {
          "base_uri": "https://localhost:8080/"
        },
        "outputId": "2122c474-c8b1-407f-ea2f-2ba25ac049ff"
      },
      "source": [
        "K.clear_session()\n",
        "from keras.regularizers import l2\n",
        "from keras.initializers import Constant\n",
        "embed_dim = 100\n",
        "lstm_out = 128\n",
        "# model = Sequential()\n",
        "inputs = Input(shape=(512,))\n",
        "x = Embedding(num_words, embed_dim,embeddings_initializer=Constant(embedding_matrix),input_length = X_train.shape[1])(inputs)\n",
        "att_in = Bidirectional(LSTM(lstm_out,return_sequences=True, dropout=0.2))(x)\n",
        "att_out = attention()(att_in)\n",
        "d = Dropout(0.2)(att_out)\n",
        "outputs = Dense(6, activation='softmax')(d)\n",
        "model = Model(inputs,outputs)\n",
        "print(model.summary())"
      ],
      "execution_count": 280,
      "outputs": [
        {
          "output_type": "stream",
          "text": [
            "Model: \"model\"\n",
            "_________________________________________________________________\n",
            "Layer (type)                 Output Shape              Param #   \n",
            "=================================================================\n",
            "input_1 (InputLayer)         [(None, 512)]             0         \n",
            "_________________________________________________________________\n",
            "embedding (Embedding)        (None, 512, 100)          200100    \n",
            "_________________________________________________________________\n",
            "bidirectional (Bidirectional (None, 512, 256)          234496    \n",
            "_________________________________________________________________\n",
            "attention (attention)        (None, 256)               768       \n",
            "_________________________________________________________________\n",
            "dropout (Dropout)            (None, 256)               0         \n",
            "_________________________________________________________________\n",
            "dense (Dense)                (None, 6)                 1542      \n",
            "=================================================================\n",
            "Total params: 436,906\n",
            "Trainable params: 436,906\n",
            "Non-trainable params: 0\n",
            "_________________________________________________________________\n",
            "None\n"
          ],
          "name": "stdout"
        }
      ]
    },
    {
      "cell_type": "code",
      "metadata": {
        "id": "o26sXGrN58YV"
      },
      "source": [
        "model.compile(loss = 'categorical_crossentropy', optimizer='adam',metrics = ['accuracy'])"
      ],
      "execution_count": 281,
      "outputs": []
    },
    {
      "cell_type": "code",
      "metadata": {
        "id": "8WjQJdxS58YV",
        "colab": {
          "base_uri": "https://localhost:8080/"
        },
        "outputId": "d5f8e99f-249f-49e5-ecf9-0b4217503c06"
      },
      "source": [
        "history = model.fit(X_train, Y_train,batch_size = 128, validation_data=(X_test,Y_test), epochs=10, verbose=2)"
      ],
      "execution_count": 282,
      "outputs": [
        {
          "output_type": "stream",
          "text": [
            "Epoch 1/10\n",
            "220/220 - 26s - loss: 0.9845 - accuracy: 0.7222 - val_loss: 0.9112 - val_accuracy: 0.7218\n",
            "Epoch 2/10\n",
            "220/220 - 23s - loss: 0.8687 - accuracy: 0.7325 - val_loss: 0.8199 - val_accuracy: 0.7410\n",
            "Epoch 3/10\n",
            "220/220 - 23s - loss: 0.7846 - accuracy: 0.7505 - val_loss: 0.7871 - val_accuracy: 0.7462\n",
            "Epoch 4/10\n",
            "220/220 - 23s - loss: 0.7464 - accuracy: 0.7560 - val_loss: 0.7709 - val_accuracy: 0.7490\n",
            "Epoch 5/10\n",
            "220/220 - 23s - loss: 0.7253 - accuracy: 0.7609 - val_loss: 0.7634 - val_accuracy: 0.7486\n",
            "Epoch 6/10\n",
            "220/220 - 23s - loss: 0.8920 - accuracy: 0.7215 - val_loss: 0.8163 - val_accuracy: 0.7302\n",
            "Epoch 7/10\n",
            "220/220 - 23s - loss: 0.7479 - accuracy: 0.7549 - val_loss: 0.7719 - val_accuracy: 0.7500\n",
            "Epoch 8/10\n",
            "220/220 - 23s - loss: 0.7063 - accuracy: 0.7679 - val_loss: 0.7527 - val_accuracy: 0.7533\n",
            "Epoch 9/10\n",
            "220/220 - 23s - loss: 0.6884 - accuracy: 0.7700 - val_loss: 0.7584 - val_accuracy: 0.7513\n",
            "Epoch 10/10\n",
            "220/220 - 23s - loss: 0.6743 - accuracy: 0.7743 - val_loss: 0.7473 - val_accuracy: 0.7553\n"
          ],
          "name": "stdout"
        }
      ]
    },
    {
      "cell_type": "code",
      "metadata": {
        "id": "oAXX9MhW58YV",
        "colab": {
          "base_uri": "https://localhost:8080/",
          "height": 513
        },
        "outputId": "016cdff2-84e0-4a93-bd9f-12e91b8e7780"
      },
      "source": [
        "import matplotlib.pyplot as plt\n",
        "\n",
        "plt.plot(history.history['accuracy']) \n",
        "plt.plot(history.history['val_accuracy'])\n",
        "plt.title('Model Accuracy')\n",
        "plt.ylabel('accuracy')\n",
        "plt.xlabel('epoch')\n",
        "plt.legend(['train','test'])\n",
        "#plt.show()\n",
        "plt.savefig('Model_accuracy.png', dpi=600)"
      ],
      "execution_count": 283,
      "outputs": [
        {
          "output_type": "display_data",
          "data": {
            "image/png": "[encoded data removed]",
            "text/plain": [
              "<Figure size 720x576 with 1 Axes>"
            ]
          },
          "metadata": {
            "tags": [],
            "needs_background": "light"
          }
        }
      ]
    },
    {
      "cell_type": "code",
      "metadata": {
        "id": "yiKiSsH258YV",
        "colab": {
          "base_uri": "https://localhost:8080/"
        },
        "outputId": "f645dda4-b41d-45d9-b7c4-2bad591e2325"
      },
      "source": [
        "score = model.evaluate(X_test,Y_test,verbose=1)\n",
        "predictions = np.argmax(model.predict(X_test),axis = -1)\n",
        "\n",
        "print(\"Test score is {}\".format(score[0]))\n",
        "print(\"Test Accuracy is {}\".format(score[1]))"
      ],
      "execution_count": 284,
      "outputs": [
        {
          "output_type": "stream",
          "text": [
            "220/220 [==============================] - 4s 19ms/step - loss: 0.7473 - accuracy: 0.7553\n",
            "Test score is 0.7472585439682007\n",
            "Test Accuracy is 0.7552646398544312\n"
          ],
          "name": "stdout"
        }
      ]
    },
    {
      "cell_type": "code",
      "metadata": {
        "id": "_W8yOC-658YW"
      },
      "source": [
        "_, train_acc = model.evaluate(X_train, Y_train, verbose=0)\n",
        "_, test_acc = model.evaluate(X_test, Y_test, verbose=0)"
      ],
      "execution_count": 285,
      "outputs": []
    },
    {
      "cell_type": "code",
      "metadata": {
        "id": "dFhcUPgE58YW"
      },
      "source": [
        "rounded_predictions = np.argmax(model.predict(X_test, batch_size=128, verbose=0),axis = -1)"
      ],
      "execution_count": 286,
      "outputs": []
    },
    {
      "cell_type": "code",
      "metadata": {
        "id": "BJeLmpxT6Fuz"
      },
      "source": [
        "import numpy as np\r\n",
        "rounded_labels=np.argmax(Y_test, axis=1)"
      ],
      "execution_count": 287,
      "outputs": []
    },
    {
      "cell_type": "code",
      "metadata": {
        "id": "vQYclBCP2BZ4"
      },
      "source": [
        "from sklearn.metrics import classification_report"
      ],
      "execution_count": 288,
      "outputs": []
    },
    {
      "cell_type": "code",
      "metadata": {
        "id": "En9Y4X6d2ME5",
        "colab": {
          "base_uri": "https://localhost:8080/"
        },
        "outputId": "6c0afffb-33b0-4265-9f17-cb637b5ee944"
      },
      "source": [
        "print(classification_report(rounded_labels, rounded_predictions))"
      ],
      "execution_count": 289,
      "outputs": [
        {
          "output_type": "stream",
          "text": [
            "              precision    recall  f1-score   support\n",
            "\n",
            "           0       0.79      0.96      0.87      5064\n",
            "           1       0.75      0.61      0.68       259\n",
            "           2       0.00      0.00      0.00       100\n",
            "           3       0.39      0.11      0.17       520\n",
            "           4       0.41      0.27      0.33       608\n",
            "           5       0.41      0.12      0.18       477\n",
            "\n",
            "    accuracy                           0.76      7028\n",
            "   macro avg       0.46      0.35      0.37      7028\n",
            "weighted avg       0.69      0.76      0.71      7028\n",
            "\n"
          ],
          "name": "stdout"
        },
        {
          "output_type": "stream",
          "text": [
            "/usr/local/lib/python3.6/dist-packages/sklearn/metrics/_classification.py:1272: UndefinedMetricWarning: Precision and F-score are ill-defined and being set to 0.0 in labels with no predicted samples. Use `zero_division` parameter to control this behavior.\n",
            "  _warn_prf(average, modifier, msg_start, len(result))\n"
          ],
          "name": "stderr"
        }
      ]
    },
    {
      "cell_type": "code",
      "metadata": {
        "id": "U-37cWpc58YW"
      },
      "source": [
        ""
      ],
      "execution_count": null,
      "outputs": []
    }
  ]
}