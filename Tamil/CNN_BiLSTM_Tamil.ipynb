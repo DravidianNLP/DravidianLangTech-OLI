{
  "nbformat": 4,
  "nbformat_minor": 0,
  "metadata": {
    "colab": {
      "name": "CNN_GloVe_tamil.ipynb",
      "provenance": []
    },
    "kernelspec": {
      "name": "python3",
      "display_name": "Python 3"
    }
  },
  "cells": [
    {
      "cell_type": "code",
      "metadata": {
        "id": "JuW_g2qRCffY"
      },
      "source": [
        "import os\r\n",
        "import re\r\n",
        "import numpy as np\r\n",
        "import pandas as pd\r\n",
        "import matplotlib.pyplot as plt\r\n",
        "import torch\r\n",
        "\r\n",
        "%matplotlib inline"
      ],
      "execution_count": 1,
      "outputs": []
    },
    {
      "cell_type": "code",
      "metadata": {
        "colab": {
          "base_uri": "https://localhost:8080/"
        },
        "id": "mKE7v6bJCOei",
        "outputId": "7a13a67e-31b8-413a-cead-e3e3884da7de"
      },
      "source": [
        "from google.colab import drive\r\n",
        "drive.mount('/content/drive')"
      ],
      "execution_count": 2,
      "outputs": [
        {
          "output_type": "stream",
          "text": [
            "Mounted at /content/drive\n"
          ],
          "name": "stdout"
        }
      ]
    },
    {
      "cell_type": "code",
      "metadata": {
        "id": "4D9PP6DlCm6l"
      },
      "source": [
        "train = pd.read_csv('/content/drive/MyDrive/Colab Notebooks/tamil_offensive_full_train.csv', delimiter='\\t', names=['text','label','nan'])\r\n",
        "train = train.drop(columns=['nan'])\r\n",
        "train.label = train.label.apply({'Not_offensive':0,'Offensive_Untargetede':1,'Offensive_Targeted_Insult_Group':2,'Offensive_Targeted_Insult_Individual':3,'not-Tamil':4, 'Offensive_Targeted_Insult_Other':5}.get)"
      ],
      "execution_count": 3,
      "outputs": []
    },
    {
      "cell_type": "code",
      "metadata": {
        "id": "fdvrP6BDC4dK"
      },
      "source": [
        "val = pd.read_csv('/content/drive/MyDrive/Colab Notebooks/tamil_offensive_full_dev.csv', delimiter='\\t', names=['text','label','nan'])\r\n",
        "val = val.drop(columns=['nan'])\r\n",
        "val.label = val.label.apply({'Not_offensive':0,'Offensive_Untargetede':1,'Offensive_Targeted_Insult_Group':2,'Offensive_Targeted_Insult_Individual':3,'not-Tamil':4, 'Offensive_Targeted_Insult_Other':5}.get)"
      ],
      "execution_count": 4,
      "outputs": []
    },
    {
      "cell_type": "code",
      "metadata": {
        "id": "nxUCV-AOweCJ"
      },
      "source": [
        "test = pd.read_csv('/content/drive/MyDrive/Colab Notebooks/tamil_offensive_full_test.csv',delimiter='\\t',names=['text'])"
      ],
      "execution_count": 53,
      "outputs": []
    },
    {
      "cell_type": "code",
      "metadata": {
        "id": "sFN0FGuHEh41"
      },
      "source": [
        "import re\r\n",
        "def clean(df):\r\n",
        "    df['text'] = df['text'].apply(lambda x: x.lower())\r\n",
        "    df['text'] = df['text'].apply(lambda x: re.sub(r' +', ' ',x))\r\n",
        "    df['text'] = df['text'].apply(lambda x: re.sub(\"[!@#$+%*:()'-]\", ' ',x))\r\n",
        "    df['text'] = df['text'].str.replace('\\d+', '')\r\n",
        "\r\n",
        "clean(train)\r\n",
        "clean(val)\r\n",
        "clean(test)"
      ],
      "execution_count": 9,
      "outputs": []
    },
    {
      "cell_type": "code",
      "metadata": {
        "id": "K91Sf7hZGPYj"
      },
      "source": [
        "from keras.preprocessing.text import Tokenizer\r\n",
        "from keras.preprocessing.sequence import pad_sequences\r\n",
        "max_features = 2000\r\n",
        "max_len = 512\r\n",
        "tokenizer = Tokenizer(num_words=max_features, split=' ')"
      ],
      "execution_count": 10,
      "outputs": []
    },
    {
      "cell_type": "code",
      "metadata": {
        "id": "lhXwNX72QP5C"
      },
      "source": [
        "tokenizer.fit_on_texts(train['text'].values)\r\n",
        "X_train = tokenizer.texts_to_sequences(train['text'].values)\r\n",
        "# vocab_size = len(tokenizer.word_index) + 1\r\n",
        "X_train = pad_sequences(X_train,padding = 'post', maxlen=max_len)"
      ],
      "execution_count": 11,
      "outputs": []
    },
    {
      "cell_type": "code",
      "metadata": {
        "id": "7RLAoB3pQZCK"
      },
      "source": [
        "tokenizer.fit_on_texts(val['text'].values)\r\n",
        "X_val = tokenizer.texts_to_sequences(val['text'].values)\r\n",
        "# vocab_size = len(tokenizer.word_index) + 1\r\n",
        "X_val = pad_sequences(X_val,padding = 'post', maxlen=max_len)"
      ],
      "execution_count": 12,
      "outputs": []
    },
    {
      "cell_type": "code",
      "metadata": {
        "id": "JYZ9rL_NxALL"
      },
      "source": [
        "tokenizer.fit_on_texts(test['text'].values)\r\n",
        "X_test = tokenizer.texts_to_sequences(test['text'].values)\r\n",
        "# vocab_size = len(tokenizer.word_index) + 1\r\n",
        "X_test = pad_sequences(X_test,padding = 'post', maxlen=max_len)"
      ],
      "execution_count": 54,
      "outputs": []
    },
    {
      "cell_type": "code",
      "metadata": {
        "colab": {
          "base_uri": "https://localhost:8080/"
        },
        "id": "QvKeTGylSNhA",
        "outputId": "9e1f2445-d460-47f0-cc38-591826e9c9b0"
      },
      "source": [
        "!wget --header=\"Host: nlp.stanford.edu\" --header=\"User-Agent: Mozilla/5.0 (Windows NT 10.0; Win64; x64) AppleWebKit/537.36 (KHTML, like Gecko) Chrome/69.0.3497.100 Safari/537.36\" --header=\"Accept: text/html,application/xhtml+xml,application/xml;q=0.9,image/webp,image/apng,*/*;q=0.8\" --header=\"Accept-Language: en-US,en;q=0.9\" --header=\"Cookie: _ga=GA1.2.456156586.1539718115; _gid=GA1.2.491677602.1539718115; _gat=1\" --header=\"Connection: keep-alive\" \"https://nlp.stanford.edu/data/glove.6B.zip\" -O \"glove.6B.zip\" -c"
      ],
      "execution_count": 14,
      "outputs": [
        {
          "output_type": "stream",
          "text": [
            "--2021-01-08 11:31:45--  https://nlp.stanford.edu/data/glove.6B.zip\n",
            "Resolving nlp.stanford.edu (nlp.stanford.edu)... 171.64.67.140\n",
            "Connecting to nlp.stanford.edu (nlp.stanford.edu)|171.64.67.140|:443... connected.\n",
            "HTTP request sent, awaiting response... 301 Moved Permanently\n",
            "Location: http://downloads.cs.stanford.edu/nlp/data/glove.6B.zip [following]\n",
            "--2021-01-08 11:31:45--  http://downloads.cs.stanford.edu/nlp/data/glove.6B.zip\n",
            "Resolving downloads.cs.stanford.edu (downloads.cs.stanford.edu)... 171.64.64.22\n",
            "Connecting to downloads.cs.stanford.edu (downloads.cs.stanford.edu)|171.64.64.22|:80... connected.\n",
            "HTTP request sent, awaiting response... 200 OK\n",
            "Length: 862182613 (822M) [application/zip]\n",
            "Saving to: ‘glove.6B.zip’\n",
            "\n",
            "glove.6B.zip        100%[===================>] 822.24M  1.91MB/s    in 6m 28s  \n",
            "\n",
            "2021-01-08 11:38:13 (2.12 MB/s) - ‘glove.6B.zip’ saved [862182613/862182613]\n",
            "\n"
          ],
          "name": "stdout"
        }
      ]
    },
    {
      "cell_type": "code",
      "metadata": {
        "colab": {
          "base_uri": "https://localhost:8080/"
        },
        "id": "VGm6El68SSTJ",
        "outputId": "d1284953-caeb-479e-81fa-d61f9b510f57"
      },
      "source": [
        "!unzip glove.6B.zip"
      ],
      "execution_count": 15,
      "outputs": [
        {
          "output_type": "stream",
          "text": [
            "Archive:  glove.6B.zip\n",
            "  inflating: glove.6B.50d.txt        \n",
            "  inflating: glove.6B.100d.txt       \n",
            "  inflating: glove.6B.200d.txt       \n",
            "  inflating: glove.6B.300d.txt       \n"
          ],
          "name": "stdout"
        }
      ]
    },
    {
      "cell_type": "code",
      "metadata": {
        "colab": {
          "base_uri": "https://localhost:8080/"
        },
        "id": "JBFBFK13Ql-z",
        "outputId": "e6ae1ab3-7167-4f0e-a73f-22f6982d98a2"
      },
      "source": [
        "from numpy import array\r\n",
        "from numpy import asarray\r\n",
        "from numpy import zeros\r\n",
        "\r\n",
        "embeddings_index = dict()\r\n",
        "\r\n",
        "glove_file = open('glove.6B.100d.txt', encoding=\"utf8\")\r\n",
        "\r\n",
        "for line in glove_file:\r\n",
        "     records = line.split()\r\n",
        "     word = records[0]\r\n",
        "     vector_dimensions = asarray(records[1:], dtype='float32')\r\n",
        "     embeddings_index[word] = vector_dimensions\r\n",
        "glove_file.close()\r\n",
        "\r\n",
        "print('Found %s word vectors.' %len(embeddings_index))"
      ],
      "execution_count": 16,
      "outputs": [
        {
          "output_type": "stream",
          "text": [
            "Found 400000 word vectors.\n"
          ],
          "name": "stdout"
        }
      ]
    },
    {
      "cell_type": "code",
      "metadata": {
        "colab": {
          "base_uri": "https://localhost:8080/"
        },
        "id": "xNSzHXg6Q15M",
        "outputId": "7218aba5-413b-43cf-99c0-fcb254f63a85"
      },
      "source": [
        "word_index = tokenizer.word_index\r\n",
        "print(len(word_index))\r\n",
        "\r\n",
        "\r\n",
        "num_words = min(max_features, len(word_index)) + 1\r\n",
        "print(num_words)\r\n",
        "\r\n",
        "embedding_dim = 100\r\n",
        "\r\n",
        "embedding_matrix = np.zeros((num_words, embedding_dim))\r\n",
        "\r\n",
        "for word, i in word_index.items():\r\n",
        "    if i > max_features:\r\n",
        "        continue\r\n",
        "    embedding_vector = embeddings_index.get(word)\r\n",
        "    if embedding_vector is not None:\r\n",
        "        embedding_matrix[i] = embedding_vector\r\n",
        "    else:\r\n",
        "        embedding_matrix[i] = np.random.randn(embedding_dim)"
      ],
      "execution_count": 17,
      "outputs": [
        {
          "output_type": "stream",
          "text": [
            "77584\n",
            "2001\n"
          ],
          "name": "stdout"
        }
      ]
    },
    {
      "cell_type": "code",
      "metadata": {
        "colab": {
          "base_uri": "https://localhost:8080/"
        },
        "id": "WPF72zGIScTz",
        "outputId": "9dddba43-2dec-4d08-a737-8b93eeef21d3"
      },
      "source": [
        "from keras.models import Sequential\r\n",
        "from keras.initializers import Constant\r\n",
        "from keras import layers\r\n",
        "embed_dim = 100\r\n",
        "\r\n",
        "model = Sequential()\r\n",
        "model.add(layers.Embedding(num_words, embed_dim, embeddings_initializer=Constant(embedding_matrix), input_length=max_len))\r\n",
        "model.add(layers.Conv1D(128, 5, activation='relu'))\r\n",
        "model.add(layers.GlobalMaxPooling1D())\r\n",
        "model.add(layers.Dropout(0.2))\r\n",
        "model.add(layers.Dense(6, activation='softmax'))\r\n",
        "print(model.summary())"
      ],
      "execution_count": 18,
      "outputs": [
        {
          "output_type": "stream",
          "text": [
            "Model: \"sequential\"\n",
            "_________________________________________________________________\n",
            "Layer (type)                 Output Shape              Param #   \n",
            "=================================================================\n",
            "embedding (Embedding)        (None, 512, 100)          200100    \n",
            "_________________________________________________________________\n",
            "conv1d (Conv1D)              (None, 508, 128)          64128     \n",
            "_________________________________________________________________\n",
            "global_max_pooling1d (Global (None, 128)               0         \n",
            "_________________________________________________________________\n",
            "dropout (Dropout)            (None, 128)               0         \n",
            "_________________________________________________________________\n",
            "dense (Dense)                (None, 6)                 774       \n",
            "=================================================================\n",
            "Total params: 265,002\n",
            "Trainable params: 265,002\n",
            "Non-trainable params: 0\n",
            "_________________________________________________________________\n",
            "None\n"
          ],
          "name": "stdout"
        }
      ]
    },
    {
      "cell_type": "code",
      "metadata": {
        "id": "Yyp_gk3_VOAM"
      },
      "source": [
        "model.compile(loss = 'categorical_crossentropy', optimizer='adam',metrics = ['accuracy'])"
      ],
      "execution_count": 19,
      "outputs": []
    },
    {
      "cell_type": "code",
      "metadata": {
        "id": "uC5n55diWGtj"
      },
      "source": [
        "y_train = train['label']\r\n",
        "y_val = val['label']"
      ],
      "execution_count": 20,
      "outputs": []
    },
    {
      "cell_type": "code",
      "metadata": {
        "id": "ZKgizfcYWOf4"
      },
      "source": [
        "Y_train=pd.get_dummies(y_train).values\r\n",
        "Y_val = pd.get_dummies(y_val).values"
      ],
      "execution_count": 21,
      "outputs": []
    },
    {
      "cell_type": "code",
      "metadata": {
        "colab": {
          "base_uri": "https://localhost:8080/"
        },
        "id": "ekvP3IdjVinh",
        "outputId": "aa58a7d4-f584-4107-e34b-c49d9484f1aa"
      },
      "source": [
        "history = model.fit(X_train, Y_train,batch_size = 64, validation_data=(X_val,Y_val), epochs=10, verbose=2)"
      ],
      "execution_count": 22,
      "outputs": [
        {
          "output_type": "stream",
          "text": [
            "Epoch 1/10\n",
            "550/550 - 169s - loss: 0.9189 - accuracy: 0.7193 - val_loss: 1.0306 - val_accuracy: 0.7140\n",
            "Epoch 2/10\n",
            "550/550 - 168s - loss: 0.7289 - accuracy: 0.7584 - val_loss: 1.0809 - val_accuracy: 0.7065\n",
            "Epoch 3/10\n",
            "550/550 - 167s - loss: 0.6443 - accuracy: 0.7806 - val_loss: 1.1498 - val_accuracy: 0.7076\n",
            "Epoch 4/10\n",
            "550/550 - 167s - loss: 0.5857 - accuracy: 0.7985 - val_loss: 1.2216 - val_accuracy: 0.6976\n",
            "Epoch 5/10\n",
            "550/550 - 167s - loss: 0.5293 - accuracy: 0.8138 - val_loss: 1.2386 - val_accuracy: 0.6809\n",
            "Epoch 6/10\n",
            "550/550 - 168s - loss: 0.4884 - accuracy: 0.8266 - val_loss: 1.3196 - val_accuracy: 0.6830\n",
            "Epoch 7/10\n",
            "550/550 - 166s - loss: 0.4396 - accuracy: 0.8464 - val_loss: 1.3864 - val_accuracy: 0.6766\n",
            "Epoch 8/10\n",
            "550/550 - 167s - loss: 0.3983 - accuracy: 0.8588 - val_loss: 1.4994 - val_accuracy: 0.6682\n",
            "Epoch 9/10\n",
            "550/550 - 167s - loss: 0.3631 - accuracy: 0.8719 - val_loss: 1.5436 - val_accuracy: 0.6721\n",
            "Epoch 10/10\n",
            "550/550 - 168s - loss: 0.3363 - accuracy: 0.8811 - val_loss: 1.6621 - val_accuracy: 0.6855\n"
          ],
          "name": "stdout"
        }
      ]
    },
    {
      "cell_type": "code",
      "metadata": {
        "colab": {
          "base_uri": "https://localhost:8080/",
          "height": 295
        },
        "id": "GCigd-uGVljZ",
        "outputId": "cb9e7420-a007-47e9-d0bd-02d28f643cdd"
      },
      "source": [
        "import matplotlib.pyplot as plt\r\n",
        "\r\n",
        "plt.plot(history.history['accuracy']) \r\n",
        "plt.plot(history.history['val_accuracy'])\r\n",
        "plt.title('Model Accuracy')\r\n",
        "plt.ylabel('accuracy')\r\n",
        "plt.xlabel('epoch')\r\n",
        "plt.legend(['train','val'])\r\n",
        "#plt.show()\r\n",
        "plt.savefig('Model_accuracy.png', dpi=600)"
      ],
      "execution_count": 23,
      "outputs": [
        {
          "output_type": "display_data",
          "data": {
            "image/png": "[encoded data removed]",
            "text/plain": [
              "<Figure size 432x288 with 1 Axes>"
            ]
          },
          "metadata": {
            "tags": [],
            "needs_background": "light"
          }
        }
      ]
    },
    {
      "cell_type": "code",
      "metadata": {
        "id": "rXJYtNWEc_47"
      },
      "source": [
        "# score = model.evaluate(X_val,Y_val,verbose=1)\r\n",
        "predictions = np.argmax(model.predict(X_val),axis = -1)\r\n",
        "\r\n",
        "# print(\"Test score is {}\".format(score[0]))\r\n",
        "# print(\"Test Accuracy is {}\".format(score[1]))"
      ],
      "execution_count": 30,
      "outputs": []
    },
    {
      "cell_type": "code",
      "metadata": {
        "id": "t01dzXi4wgca"
      },
      "source": [
        "_, train_acc = model.evaluate(X_train, Y_train, verbose=0)\r\n",
        "_, val_acc = model.evaluate(X_val, Y_val, verbose=0)"
      ],
      "execution_count": 47,
      "outputs": []
    },
    {
      "cell_type": "code",
      "metadata": {
        "colab": {
          "base_uri": "https://localhost:8080/"
        },
        "id": "_kehvNHoxo6F",
        "outputId": "ee0db13b-8fbc-4ba4-d215-5123a7746da0"
      },
      "source": [
        "print(val_acc)\r\n",
        "print(train_acc)"
      ],
      "execution_count": 29,
      "outputs": [
        {
          "output_type": "stream",
          "text": [
            "0.6855059266090393\n",
            "0.9337203502655029\n"
          ],
          "name": "stdout"
        }
      ]
    },
    {
      "cell_type": "code",
      "metadata": {
        "id": "XfhqQth_wnfy"
      },
      "source": [
        "rounded_predictions = np.argmax(model.predict(X_test, batch_size=128, verbose=0),axis = -1)"
      ],
      "execution_count": 55,
      "outputs": []
    },
    {
      "cell_type": "code",
      "metadata": {
        "id": "UzyBzz2rwwRd"
      },
      "source": [
        "import numpy as np\r\n",
        "rounded_labels=np.argmax(Y_val, axis=1)"
      ],
      "execution_count": 44,
      "outputs": []
    },
    {
      "cell_type": "code",
      "metadata": {
        "id": "PD68f0mzw10I"
      },
      "source": [
        "from sklearn.metrics import classification_report"
      ],
      "execution_count": 33,
      "outputs": []
    },
    {
      "cell_type": "code",
      "metadata": {
        "colab": {
          "base_uri": "https://localhost:8080/"
        },
        "id": "T4sijH6Qw5WE",
        "outputId": "1a61a576-6abe-44ad-c10d-ffcdb7368fca"
      },
      "source": [
        "print(classification_report(rounded_labels, predictions))"
      ],
      "execution_count": 34,
      "outputs": [
        {
          "output_type": "stream",
          "text": [
            "              precision    recall  f1-score   support\n",
            "\n",
            "           0       0.74      0.93      0.82      3193\n",
            "           1       0.10      0.03      0.04       356\n",
            "           2       0.14      0.05      0.07       295\n",
            "           3       0.19      0.08      0.11       307\n",
            "           4       0.05      0.01      0.02       172\n",
            "           5       0.00      0.00      0.00        65\n",
            "\n",
            "    accuracy                           0.69      4388\n",
            "   macro avg       0.20      0.18      0.18      4388\n",
            "weighted avg       0.57      0.69      0.61      4388\n",
            "\n"
          ],
          "name": "stdout"
        }
      ]
    },
    {
      "cell_type": "code",
      "metadata": {
        "colab": {
          "base_uri": "https://localhost:8080/"
        },
        "id": "oEkrdVtY6I90",
        "outputId": "666948f4-269c-4f38-ed7d-906a45bac121"
      },
      "source": [
        "print(rounded_predictions)"
      ],
      "execution_count": 56,
      "outputs": [
        {
          "output_type": "stream",
          "text": [
            "[0 0 0 ... 1 1 0]\n"
          ],
          "name": "stdout"
        }
      ]
    },
    {
      "cell_type": "code",
      "metadata": {
        "id": "5o4UBtZLw7x_"
      },
      "source": [
        "a = {'id':[i for i in range(4392)]}\r\n",
        "a = pd.DataFrame(a)\r\n",
        "\r\n",
        "df = pd.DataFrame({'id':a.id,'labels':rounded_predictions})\r\n",
        "df.labels = df.labels.apply({0:'Not_offensive',1:'Offensive_Untargetede',2:'Offensive_Targeted_Insult_Group',3:'Offensive_Targeted_Insult_Individual',4:'not-Tamil', 5:'Offensive_Targeted_Insult_Other'}.get)\r\n"
      ],
      "execution_count": 59,
      "outputs": []
    },
    {
      "cell_type": "code",
      "metadata": {
        "colab": {
          "base_uri": "https://localhost:8080/",
          "height": 423
        },
        "id": "IcTFnzxW6ize",
        "outputId": "b5037a2f-60aa-4bb6-d7cc-9eb19c2a3b6b"
      },
      "source": [
        "df"
      ],
      "execution_count": 60,
      "outputs": [
        {
          "output_type": "execute_result",
          "data": {
            "text/html": [
              "<div>\n",
              "<style scoped>\n",
              "    .dataframe tbody tr th:only-of-type {\n",
              "        vertical-align: middle;\n",
              "    }\n",
              "\n",
              "    .dataframe tbody tr th {\n",
              "        vertical-align: top;\n",
              "    }\n",
              "\n",
              "    .dataframe thead th {\n",
              "        text-align: right;\n",
              "    }\n",
              "</style>\n",
              "<table border=\"1\" class=\"dataframe\">\n",
              "  <thead>\n",
              "    <tr style=\"text-align: right;\">\n",
              "      <th></th>\n",
              "      <th>id</th>\n",
              "      <th>labels</th>\n",
              "    </tr>\n",
              "  </thead>\n",
              "  <tbody>\n",
              "    <tr>\n",
              "      <th>0</th>\n",
              "      <td>0</td>\n",
              "      <td>Not_offensive</td>\n",
              "    </tr>\n",
              "    <tr>\n",
              "      <th>1</th>\n",
              "      <td>1</td>\n",
              "      <td>Not_offensive</td>\n",
              "    </tr>\n",
              "    <tr>\n",
              "      <th>2</th>\n",
              "      <td>2</td>\n",
              "      <td>Not_offensive</td>\n",
              "    </tr>\n",
              "    <tr>\n",
              "      <th>3</th>\n",
              "      <td>3</td>\n",
              "      <td>Not_offensive</td>\n",
              "    </tr>\n",
              "    <tr>\n",
              "      <th>4</th>\n",
              "      <td>4</td>\n",
              "      <td>Not_offensive</td>\n",
              "    </tr>\n",
              "    <tr>\n",
              "      <th>...</th>\n",
              "      <td>...</td>\n",
              "      <td>...</td>\n",
              "    </tr>\n",
              "    <tr>\n",
              "      <th>4387</th>\n",
              "      <td>4387</td>\n",
              "      <td>Not_offensive</td>\n",
              "    </tr>\n",
              "    <tr>\n",
              "      <th>4388</th>\n",
              "      <td>4388</td>\n",
              "      <td>Not_offensive</td>\n",
              "    </tr>\n",
              "    <tr>\n",
              "      <th>4389</th>\n",
              "      <td>4389</td>\n",
              "      <td>Offensive_Untargetede</td>\n",
              "    </tr>\n",
              "    <tr>\n",
              "      <th>4390</th>\n",
              "      <td>4390</td>\n",
              "      <td>Offensive_Untargetede</td>\n",
              "    </tr>\n",
              "    <tr>\n",
              "      <th>4391</th>\n",
              "      <td>4391</td>\n",
              "      <td>Not_offensive</td>\n",
              "    </tr>\n",
              "  </tbody>\n",
              "</table>\n",
              "<p>4392 rows × 2 columns</p>\n",
              "</div>"
            ],
            "text/plain": [
              "        id                 labels\n",
              "0        0          Not_offensive\n",
              "1        1          Not_offensive\n",
              "2        2          Not_offensive\n",
              "3        3          Not_offensive\n",
              "4        4          Not_offensive\n",
              "...    ...                    ...\n",
              "4387  4387          Not_offensive\n",
              "4388  4388          Not_offensive\n",
              "4389  4389  Offensive_Untargetede\n",
              "4390  4390  Offensive_Untargetede\n",
              "4391  4391          Not_offensive\n",
              "\n",
              "[4392 rows x 2 columns]"
            ]
          },
          "metadata": {
            "tags": []
          },
          "execution_count": 60
        }
      ]
    },
    {
      "cell_type": "code",
      "metadata": {
        "colab": {
          "base_uri": "https://localhost:8080/",
          "height": 17
        },
        "id": "IEG9NQJG6RrQ",
        "outputId": "01b67af6-bb20-4dbc-a776-05a84516f27e"
      },
      "source": [
        "df.to_csv('CNN_GloVe_Tamil_submission.csv',index=False)\r\n",
        "from google.colab import files\r\n",
        "files.download(\"CNN_GloVe_Tamil_submission.csv\")"
      ],
      "execution_count": 61,
      "outputs": [
        {
          "output_type": "display_data",
          "data": {
            "application/javascript": [
              "\n",
              "    async function download(id, filename, size) {\n",
              "      if (!google.colab.kernel.accessAllowed) {\n",
              "        return;\n",
              "      }\n",
              "      const div = document.createElement('div');\n",
              "      const label = document.createElement('label');\n",
              "      label.textContent = `Downloading \"${filename}\": `;\n",
              "      div.appendChild(label);\n",
              "      const progress = document.createElement('progress');\n",
              "      progress.max = size;\n",
              "      div.appendChild(progress);\n",
              "      document.body.appendChild(div);\n",
              "\n",
              "      const buffers = [];\n",
              "      let downloaded = 0;\n",
              "\n",
              "      const channel = await google.colab.kernel.comms.open(id);\n",
              "      // Send a message to notify the kernel that we're ready.\n",
              "      channel.send({})\n",
              "\n",
              "      for await (const message of channel.messages) {\n",
              "        // Send a message to notify the kernel that we're ready.\n",
              "        channel.send({})\n",
              "        if (message.buffers) {\n",
              "          for (const buffer of message.buffers) {\n",
              "            buffers.push(buffer);\n",
              "            downloaded += buffer.byteLength;\n",
              "            progress.value = downloaded;\n",
              "          }\n",
              "        }\n",
              "      }\n",
              "      const blob = new Blob(buffers, {type: 'application/binary'});\n",
              "      const a = document.createElement('a');\n",
              "      a.href = window.URL.createObjectURL(blob);\n",
              "      a.download = filename;\n",
              "      div.appendChild(a);\n",
              "      a.click();\n",
              "      div.remove();\n",
              "    }\n",
              "  "
            ],
            "text/plain": [
              "<IPython.core.display.Javascript object>"
            ]
          },
          "metadata": {
            "tags": []
          }
        },
        {
          "output_type": "display_data",
          "data": {
            "application/javascript": [
              "download(\"download_248141b7-5ebd-465c-8776-a3622aba213b\", \"CNN_GloVe_Tamil_submission.csv\", 87920)"
            ],
            "text/plain": [
              "<IPython.core.display.Javascript object>"
            ]
          },
          "metadata": {
            "tags": []
          }
        }
      ]
    },
    {
      "cell_type": "code",
      "metadata": {
        "id": "veFZrS_c6qzr"
      },
      "source": [
        ""
      ],
      "execution_count": null,
      "outputs": []
    }
  ]
}
